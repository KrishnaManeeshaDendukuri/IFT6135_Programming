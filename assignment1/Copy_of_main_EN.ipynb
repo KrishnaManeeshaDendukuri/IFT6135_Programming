{
  "cells": [
    {
      "cell_type": "markdown",
      "metadata": {
        "id": "zCwYnOWI0K5G"
      },
      "source": [
        "# Genetics Application\n",
        "\n",
        "For this set of questions, we will explore the use of Convolutional Neural Networks to solve a problem with Biological significance (don't worry, no background knowledge is expected). Every cell in your body contains Deoxyribonucleic acid (DNA), which is essentially the instructions for making all the proteins in your body. DNA can be thought of as a very long string where the alphabet is \\{A,C,T,G\\}.\n",
        "The physical attributes of the DNA string and its characters are not important here, except that ~98% of our DNA is physically inaccessible to external molecules. Understanding which regions of DNA are accessible and why is of great interest to scientists. This motivates learning predictive models which could accurately classify such regions. In particular, we will be implementing the deep network called [Basset](https://pubmed.ncbi.nlm.nih.gov/27197224/).\n"
      ]
    },
    {
      "cell_type": "code",
      "execution_count": 1,
      "metadata": {
        "id": "BB1odRcEQdHp",
        "colab": {
          "base_uri": "https://localhost:8080/"
        },
        "outputId": "7a2980df-1756-485b-8080-1d22382b5180"
      },
      "outputs": [
        {
          "output_type": "stream",
          "name": "stdout",
          "text": [
            "Mounted at /content/gdrive\n"
          ]
        }
      ],
      "source": [
        "#@title Mount your Google Drive\n",
        "%matplotlib inline\n",
        "%load_ext autoreload\n",
        "%autoreload 2\n",
        "\n",
        "from google.colab import drive\n",
        "drive.mount('/content/gdrive')"
      ]
    },
    {
      "cell_type": "code",
      "source": [
        "from tqdm import tqdm"
      ],
      "metadata": {
        "id": "UjZWGP-Ert-p"
      },
      "execution_count": 2,
      "outputs": []
    },
    {
      "cell_type": "code",
      "execution_count": 3,
      "metadata": {
        "id": "Pml4PO8l0YWk"
      },
      "outputs": [],
      "source": [
        "#@title Link your assignment folder & install requirements\n",
        "#@markdown Enter the path to the assignment folder in your Google Drive\n",
        "import sys\n",
        "import os\n",
        "import shutil\n",
        "import warnings\n",
        "\n",
        "folder = \"/content/gdrive/MyDrive/IFT6135_A1_Data\" #@param {type:\"string\"}\n",
        "!ln -Ts $folder /content/IFT6135_A1_Data 2> /dev/null\n",
        "\n",
        "# Add the assignment folder to Python path\n",
        "if '/content/IFT6135_A1_Data' not in sys.path:\n",
        "    sys.path.insert(0, '/content/IFT6135_A1_Data')\n",
        "\n",
        "# Install requirements\n",
        "# !pip install -qr /content/IFT6135_A1_Data/requirements.txt\n",
        "\n",
        "# Check if CUDA is available\n",
        "import torch\n",
        "if not torch.cuda.is_available():\n",
        "    warnings.warn('CUDA is not available.')"
      ]
    },
    {
      "cell_type": "code",
      "source": [
        "!unzip /content/gdrive/MyDrive/IFT6135_A1_Data/er.zip\n"
      ],
      "metadata": {
        "colab": {
          "base_uri": "https://localhost:8080/"
        },
        "id": "vpM5Wr5XqWjt",
        "outputId": "15b5a978-7bd0-4964-ce2b-8084e978dde9"
      },
      "execution_count": 4,
      "outputs": [
        {
          "output_type": "stream",
          "name": "stdout",
          "text": [
            "Archive:  /content/gdrive/MyDrive/IFT6135_A1_Data/er.zip\n",
            "  inflating: er.h5                   \n"
          ]
        }
      ]
    },
    {
      "cell_type": "code",
      "execution_count": 5,
      "metadata": {
        "id": "dtoPVSqz48lX",
        "colab": {
          "base_uri": "https://localhost:8080/"
        },
        "outputId": "653f32bd-caae-4a1f-c6c1-d8513c713a66"
      },
      "outputs": [
        {
          "output_type": "stream",
          "name": "stdout",
          "text": [
            "done\n"
          ]
        }
      ],
      "source": [
        "import os\n",
        "# unzip data\n",
        "if not os.path.exists('/content/A1/er.h5'):\n",
        "    os.system('unzip /content/A1/er.zip')\n",
        "    os.system('mv /content/er.h5 /content/A1/er.h5')\n",
        "    print(\"done\")"
      ]
    },
    {
      "cell_type": "code",
      "source": [
        "if not os.path.exists('/content/A1/er.h5'):\n",
        "  print(\"S\")"
      ],
      "metadata": {
        "colab": {
          "base_uri": "https://localhost:8080/"
        },
        "id": "OwAiaHNwnu8y",
        "outputId": "d188f77b-4fcd-4ba0-80ec-a7cae9ef225c"
      },
      "execution_count": 6,
      "outputs": [
        {
          "output_type": "stream",
          "name": "stdout",
          "text": [
            "S\n"
          ]
        }
      ]
    },
    {
      "cell_type": "markdown",
      "metadata": {
        "id": "vzCmch4U1nn7"
      },
      "source": [
        "## Running on GPU\n",
        "In Google Colab, you can run your code on GPU. This will be particularly important in CNN part of the assignment. To make sure the notebook is running on GPU, you can change the notebook settings with\n",
        "* (EN) `Edit > Notebook Settings`\n",
        "* (FR) `Modifier > Paramètres du notebook`\n",
        "\n",
        "Be mindful not to use the GPU if your code does not need to run on GPU."
      ]
    },
    {
      "cell_type": "code",
      "execution_count": 7,
      "metadata": {
        "id": "sdRulajo1yNM"
      },
      "outputs": [],
      "source": [
        "import random\n",
        "\n",
        "import numpy as np\n",
        "import h5py\n",
        "from torch.utils.data import Dataset, DataLoader\n",
        "import torch.optim as optim\n",
        "\n",
        "# import solution"
      ]
    },
    {
      "cell_type": "code",
      "execution_count": 8,
      "metadata": {
        "id": "S1Fl3O998HzR"
      },
      "outputs": [],
      "source": [
        "# The hyperparameters we will use\n",
        "batch_size = 64\n",
        "learning_rate = 0.002"
      ]
    },
    {
      "cell_type": "code",
      "execution_count": 9,
      "metadata": {
        "id": "FJhundfW8OAK"
      },
      "outputs": [],
      "source": [
        "device = torch.device(\"cuda\" if torch.cuda.is_available() else \"cpu\")\n",
        "\n",
        "# set RNG\n",
        "seed = 42\n",
        "torch.backends.cudnn.deterministic = True\n",
        "torch.manual_seed(seed)\n",
        "np.random.seed(seed)\n",
        "random.seed(seed)\n",
        "if device.type=='cuda':\n",
        "    torch.cuda.manual_seed(seed)\n",
        "    torch.cuda.manual_seed_all(seed)"
      ]
    },
    {
      "cell_type": "code",
      "source": [
        "device.type"
      ],
      "metadata": {
        "colab": {
          "base_uri": "https://localhost:8080/",
          "height": 35
        },
        "id": "00oKqVYFenb_",
        "outputId": "a9d0f504-5c7c-4310-9d0a-116725b70450"
      },
      "execution_count": 10,
      "outputs": [
        {
          "output_type": "execute_result",
          "data": {
            "application/vnd.google.colaboratory.intrinsic+json": {
              "type": "string"
            },
            "text/plain": [
              "'cuda'"
            ]
          },
          "metadata": {},
          "execution_count": 10
        }
      ]
    },
    {
      "cell_type": "markdown",
      "metadata": {
        "id": "Dzm7-Yyk7X8z"
      },
      "source": [
        "Let's build the dataset that we will be using. Before doing any machine learning, you should always inspect the data you will be using (especially when that data is uncommon)!\n",
        "\n",
        "In our case, the input data are subsequences of DNA that come from the reference human genome HG19. HG19 can be thought of as the DNA of a prototypical human (but it does not come from any single person).\n",
        "The input data is one-hot encoded, such that:\n",
        "\n",
        "$$A = \\begin{pmatrix} 1 \\\\ 0 \\\\ 0 \\\\ 0 \\end{pmatrix}, C = \\begin{pmatrix} 0 \\\\ 1 \\\\ 0 \\\\ 0 \\end{pmatrix}, G = \\begin{pmatrix} 0 \\\\ 0 \\\\ 1 \\\\ 0 \\end{pmatrix}, T = \\begin{pmatrix} 0 \\\\ 0 \\\\ 0 \\\\ 1 \\end{pmatrix}$$\n",
        "\n",
        "Each base-pair $\\{A,C,G,T\\}$ are concatenated along the length of the sequence. Each data point is equivalent to an image with a rectangular shape (sequence length, 4) and a single channel for data processing purposes.\n",
        "\n",
        "The target data for our sequence are binary strings encoded as $1$ if the DNA subsequence is accessible and $0$ if it is not. This data was collected across experiments. For each sample, the target is a vector of size 164, with $1$s in the indices of the experiments where the DNA is accessible and $0$ otherwise."
      ]
    },
    {
      "cell_type": "markdown",
      "metadata": {
        "id": "XgU0b7Yoe0um"
      },
      "source": [
        "# **Question 1 (Understanding the Data)** \n",
        "(10 points). You will notice that PyTorch is very object-oriented -- everything you use is the subclass of a PyTorch class. For datasets, we subclass `torch.utils.data.Dataset`.\n",
        "\n",
        "1. Define the `__getitem__` and `__len__` methods for the `BassetDataset` class in `solution.py`\n",
        "2. What is the length of each sequence we will feed into our model?  Make the `get_seq_len` method of the `BassetDataset` class to return it.\n",
        "3. Is it true that each data point is also equivalent to an image with a rectangular shape (1, sequence length) with 4 channels? Write the method `is_equvalent` to return your answer (either return True or False).\n",
        "\n",
        "Note: this data has already been pre-processed, so do not include any additional data transformations!"
      ]
    },
    {
      "cell_type": "code",
      "execution_count": 11,
      "metadata": {
        "id": "mDmrenF07TwY",
        "colab": {
          "base_uri": "https://localhost:8080/"
        },
        "outputId": "25cd3184-328a-44b9-f862-16f35fcff9d1"
      },
      "outputs": [
        {
          "output_type": "stream",
          "name": "stdout",
          "text": [
            "<KeysViewHDF5 ['target_labels', 'test_headers', 'test_in', 'test_out', 'train_in', 'train_out', 'valid_in', 'valid_out']>\n"
          ]
        }
      ],
      "source": [
        "# investigate your data\n",
        "f = h5py.File('er.h5', 'r')\n",
        "print(f.keys())\n",
        "f.close()"
      ]
    },
    {
      "cell_type": "code",
      "source": [
        "dataset = h5py.File('er.h5', 'r')\n",
        "\n",
        "target_labels = dataset['target_labels']\n",
        "\n",
        "split_dict = {'train': ['train_in', 'train_out'],\n",
        "                      'test': ['test_in', 'test_out'],\n",
        "                      'valid': ['valid_in', 'valid_out']}\n",
        "                      \n",
        "inputs = dataset[split_dict[\"train\"][0]]\n",
        "outputs = dataset[split_dict[\"train\"][1]]\n",
        "\n",
        "ids = list(range(len(inputs)))\n",
        "# if self.split == 'test':\n",
        "#   self.id_vars = np.char.decode(self.dataset['test_headers'])"
      ],
      "metadata": {
        "id": "Iq5DNbFF8NeC"
      },
      "execution_count": 12,
      "outputs": []
    },
    {
      "cell_type": "code",
      "source": [
        "i = 100\n",
        "idx = ids[i]\n",
        "\n",
        "seq = inputs[idx]\n",
        "target = outputs[idx]\n",
        "print(seq.shape)\n",
        "print(seq)\n",
        "seq = np.transpose(seq, (1, 2, 0)).astype(np.float32)\n",
        "print(seq.shape)\n",
        "print(torch.Tensor(seq).shape)\n",
        "target = np.float32(target)\n",
        "output = {'sequence': torch.Tensor(seq), \n",
        "          'target': torch.Tensor(target)}"
      ],
      "metadata": {
        "colab": {
          "base_uri": "https://localhost:8080/"
        },
        "id": "NpuVs4_O8NWK",
        "outputId": "2a3fe4d3-c5f3-4686-dd40-54bec9932463"
      },
      "execution_count": 13,
      "outputs": [
        {
          "output_type": "stream",
          "name": "stdout",
          "text": [
            "(4, 1, 600)\n",
            "[[[0. 0. 0. ... 0. 1. 0.]]\n",
            "\n",
            " [[0. 0. 0. ... 1. 0. 0.]]\n",
            "\n",
            " [[1. 0. 0. ... 0. 0. 0.]]\n",
            "\n",
            " [[0. 1. 1. ... 0. 0. 1.]]]\n",
            "(1, 600, 4)\n",
            "torch.Size([1, 600, 4])\n"
          ]
        }
      ]
    },
    {
      "cell_type": "code",
      "source": [
        "import os\n",
        "import random\n",
        "\n",
        "import numpy as np\n",
        "import torch\n",
        "import h5py\n",
        "from torch.utils.data import Dataset, DataLoader\n",
        "import torch\n",
        "import torch.nn as nn\n",
        "import torch.nn.functional as F\n",
        "import torch.optim as optim\n",
        "\n",
        "\n",
        "class BassetDataset(Dataset):\n",
        "    \"\"\"\n",
        "    BassetDataset class taken with permission from Dr. Ahmad Pesaranghader\n",
        "\n",
        "    We have already processed the data in HDF5 format: er.h5\n",
        "    See https://www.h5py.org/ for details of the Python package used\n",
        "\n",
        "    We used the same data processing pipeline as the paper.\n",
        "    You can find the code here: https://github.com/davek44/Basset\n",
        "    \"\"\"\n",
        "\n",
        "    # Initializes the BassetDataset\n",
        "    def __init__(self, path='', f5name='er.h5', split='train', transform=None):\n",
        "        \"\"\"\n",
        "        Args:\n",
        "            :param path: path to HDF5 file\n",
        "            :param f5name: HDF5 file name\n",
        "            :param split: split that we are interested to work with\n",
        "            :param transform (callable, optional): Optional transform to be applied on a sample\n",
        "        \"\"\"\n",
        "\n",
        "        self.split = split\n",
        "\n",
        "        split_dict = {'train': ['train_in', 'train_out'],\n",
        "                      'test': ['test_in', 'test_out'],\n",
        "                      'valid': ['valid_in', 'valid_out']}\n",
        "\n",
        "        assert self.split in split_dict, \"'split' argument can be only defined as 'train', 'valid' or 'test'\"\n",
        "\n",
        "        # Open hdf5 file where one-hoted data are stored\n",
        "        self.dataset = h5py.File(os.path.join(path, f5name.format(self.split)), 'r')\n",
        "\n",
        "        # Keeping track of the names of the target labels\n",
        "        self.target_labels = self.dataset['target_labels']\n",
        "\n",
        "        # Get the list of volumes\n",
        "        self.inputs = self.dataset[split_dict[split][0]]\n",
        "        self.outputs = self.dataset[split_dict[split][1]]\n",
        "\n",
        "        self.ids = list(range(len(self.inputs)))\n",
        "        if self.split == 'test':\n",
        "            self.id_vars = np.char.decode(self.dataset['test_headers'])\n",
        "\n",
        "    def __getitem__(self, i):\n",
        "        \"\"\"\n",
        "        Returns the sequence and the target at index i\n",
        "\n",
        "        Notes:\n",
        "        * The data is stored as float16, however, your model will expect float32.\n",
        "          Do the type conversion here!\n",
        "        * Pay attention to the output shape of the data.\n",
        "          Change it to match what the model is expecting\n",
        "          hint: https://pytorch.org/docs/stable/generated/torch.nn.Conv2d.html\n",
        "        * The target must also be converted to float32\n",
        "        \"\"\"\n",
        "\n",
        "        idx = self.ids[i]\n",
        "        # WRITE CODE HERE\n",
        "\n",
        "        seq = self.inputs[idx]\n",
        "        target = self.outputs[idx]\n",
        "\n",
        "        seq = np.transpose(seq, (1, 2, 0)).astype(np.float32)\n",
        "        target = np.float32(target)\n",
        "        # Sequence & Target\n",
        "        output = {'sequence': torch.Tensor(seq), \n",
        "                  'target': torch.Tensor(target)}\n",
        "        return output\n",
        "\n",
        "    def __len__(self):\n",
        "        # WRITE CODE HERE\n",
        "        return len(self.inputs)\n",
        "\n",
        "    def get_seq_len(self):\n",
        "        \"\"\"\n",
        "        Answer to Q1 part 2\n",
        "        \"\"\"\n",
        "        # WRITE CODE HERE\n",
        "        return self.inputs[0].shape[-1]\n",
        "\n",
        "    def is_equivalent(self):\n",
        "        \"\"\"\n",
        "        Answer to Q1 part 3\n",
        "        \"\"\"\n",
        "        # WRITE CODE HERE\n",
        "        return True"
      ],
      "metadata": {
        "id": "yy8Yn2wulJ3t"
      },
      "execution_count": 14,
      "outputs": []
    },
    {
      "cell_type": "code",
      "execution_count": 18,
      "metadata": {
        "id": "v2P1XHMAMZD4"
      },
      "outputs": [],
      "source": [
        "basset_dataset_train = BassetDataset(path='', f5name='er.h5', split='train')\n",
        "basset_dataset_valid = BassetDataset(path='', f5name='er.h5', split='valid')\n",
        "basset_dataset_test = BassetDataset(path='', f5name='er.h5', split='test')\n",
        "basset_dataloader_train = DataLoader(basset_dataset_train,\n",
        "                                     batch_size=batch_size,\n",
        "                                     drop_last=True,\n",
        "                                     shuffle=True,\n",
        "                                     num_workers=1)\n",
        "basset_dataloader_valid = DataLoader(basset_dataset_valid,\n",
        "                                     batch_size=batch_size,\n",
        "                                     drop_last=True,\n",
        "                                     shuffle=False,\n",
        "                                     num_workers=1)\n",
        "basset_dataloader_test = DataLoader(basset_dataset_test,\n",
        "                                    batch_size=batch_size,\n",
        "                                    drop_last=True,\n",
        "                                    shuffle=False,\n",
        "                                    num_workers=1)"
      ]
    },
    {
      "cell_type": "code",
      "source": [
        "for i, sample in enumerate(basset_dataloader_test):\n",
        "  print(i)\n",
        "  print(sample)\n",
        "  print(sample[\"sequence\"].shape)\n",
        "  print(sample[\"target\"].shape)\n",
        "  break"
      ],
      "metadata": {
        "colab": {
          "base_uri": "https://localhost:8080/"
        },
        "id": "TlPTX4WIFyXH",
        "outputId": "30d889fe-9e6b-49bd-96ef-58ef8af02758"
      },
      "execution_count": 16,
      "outputs": [
        {
          "output_type": "stream",
          "name": "stdout",
          "text": [
            "0\n",
            "{'sequence': tensor([[[[0., 1., 0., 0.],\n",
            "          [0., 0., 0., 1.],\n",
            "          [0., 1., 0., 0.],\n",
            "          ...,\n",
            "          [1., 0., 0., 0.],\n",
            "          [1., 0., 0., 0.],\n",
            "          [1., 0., 0., 0.]]],\n",
            "\n",
            "\n",
            "        [[[0., 1., 0., 0.],\n",
            "          [0., 0., 0., 1.],\n",
            "          [0., 0., 0., 1.],\n",
            "          ...,\n",
            "          [0., 1., 0., 0.],\n",
            "          [0., 1., 0., 0.],\n",
            "          [0., 0., 0., 1.]]],\n",
            "\n",
            "\n",
            "        [[[1., 0., 0., 0.],\n",
            "          [0., 1., 0., 0.],\n",
            "          [0., 1., 0., 0.],\n",
            "          ...,\n",
            "          [1., 0., 0., 0.],\n",
            "          [0., 0., 0., 1.],\n",
            "          [1., 0., 0., 0.]]],\n",
            "\n",
            "\n",
            "        ...,\n",
            "\n",
            "\n",
            "        [[[0., 0., 0., 1.],\n",
            "          [0., 0., 1., 0.],\n",
            "          [0., 0., 0., 1.],\n",
            "          ...,\n",
            "          [0., 1., 0., 0.],\n",
            "          [1., 0., 0., 0.],\n",
            "          [1., 0., 0., 0.]]],\n",
            "\n",
            "\n",
            "        [[[1., 0., 0., 0.],\n",
            "          [0., 0., 0., 1.],\n",
            "          [0., 0., 0., 1.],\n",
            "          ...,\n",
            "          [0., 1., 0., 0.],\n",
            "          [1., 0., 0., 0.],\n",
            "          [0., 0., 1., 0.]]],\n",
            "\n",
            "\n",
            "        [[[0., 0., 1., 0.],\n",
            "          [1., 0., 0., 0.],\n",
            "          [0., 1., 0., 0.],\n",
            "          ...,\n",
            "          [0., 0., 1., 0.],\n",
            "          [0., 0., 0., 1.],\n",
            "          [0., 0., 1., 0.]]]]), 'target': tensor([[0., 0., 0.,  ..., 0., 0., 0.],\n",
            "        [1., 0., 0.,  ..., 0., 0., 0.],\n",
            "        [0., 0., 0.,  ..., 0., 0., 0.],\n",
            "        ...,\n",
            "        [0., 0., 0.,  ..., 0., 0., 0.],\n",
            "        [0., 0., 0.,  ..., 0., 0., 0.],\n",
            "        [1., 0., 0.,  ..., 0., 0., 0.]])}\n",
            "torch.Size([64, 1, 600, 4])\n",
            "torch.Size([64, 164])\n"
          ]
        }
      ]
    },
    {
      "cell_type": "code",
      "source": [
        "for data in basset_dataloader_valid:\n",
        "  print(data.keys())\n",
        "  break"
      ],
      "metadata": {
        "colab": {
          "base_uri": "https://localhost:8080/"
        },
        "id": "S8A5-sKIWeM8",
        "outputId": "d69444ba-0378-4b65-f4b0-00923f5369a6"
      },
      "execution_count": 19,
      "outputs": [
        {
          "output_type": "stream",
          "name": "stdout",
          "text": [
            "dict_keys(['sequence', 'target'])\n"
          ]
        }
      ]
    },
    {
      "cell_type": "markdown",
      "metadata": {
        "id": "ZFH5c18f89_Y"
      },
      "source": [
        "# **Question 2 (Building the Network)** \n",
        "(15 points). PyTorch also provides an abstraction for differentiable models: `torch.nn.Module`. In `solution.py`, we define Basset as a subclass of this class.\n",
        "\n",
        "1. Fill in the missing values denoted as `?` within the class definition using [supplementary figure 13](https://genome.cshlp.org/content/suppl/2016/06/10/gr.200535.115.DC1/Supplementary_Figures.pdf) and convolution arithmetic.\n",
        "2. Write the `forward` pass function. Again, please refer to [supplementary figure 13](https://genome.cshlp.org/content/suppl/2016/06/10/gr.200535.115.DC1/Supplementary_Figures.pdf).\n",
        "\n",
        "  Do not include any output activation in your forward method! In practice, it is better to use a loss function that has the output activation built-in."
      ]
    },
    {
      "cell_type": "markdown",
      "source": [
        "## Solution.py"
      ],
      "metadata": {
        "id": "QWUI3lKMyLNI"
      }
    },
    {
      "cell_type": "code",
      "source": [
        "# This script contains the helper functions you will be using for this assignment\n",
        "\n",
        "import os\n",
        "import random\n",
        "\n",
        "import numpy as np\n",
        "import torch\n",
        "import h5py\n",
        "from torch.utils.data import Dataset, DataLoader\n",
        "import torch\n",
        "import torch.nn as nn\n",
        "import torch.nn.functional as F\n",
        "import torch.optim as optim\n",
        "\n",
        "\n",
        "class BassetDataset(Dataset):\n",
        "    \"\"\"\n",
        "    BassetDataset class taken with permission from Dr. Ahmad Pesaranghader\n",
        "\n",
        "    We have already processed the data in HDF5 format: er.h5\n",
        "    See https://www.h5py.org/ for details of the Python package used\n",
        "\n",
        "    We used the same data processing pipeline as the paper.\n",
        "    You can find the code here: https://github.com/davek44/Basset\n",
        "    \"\"\"\n",
        "\n",
        "    # Initializes the BassetDataset\n",
        "    def __init__(self, path='./data/', f5name='er.h5', split='train', transform=None):\n",
        "        \"\"\"\n",
        "        Args:\n",
        "            :param path: path to HDF5 file\n",
        "            :param f5name: HDF5 file name\n",
        "            :param split: split that we are interested to work with\n",
        "            :param transform (callable, optional): Optional transform to be applied on a sample\n",
        "        \"\"\"\n",
        "\n",
        "        self.split = split\n",
        "\n",
        "        split_dict = {'train': ['train_in', 'train_out'],\n",
        "                      'test': ['test_in', 'test_out'],\n",
        "                      'valid': ['valid_in', 'valid_out']}\n",
        "\n",
        "        assert self.split in split_dict, \"'split' argument can be only defined as 'train', 'valid' or 'test'\"\n",
        "\n",
        "        # Open hdf5 file where one-hoted data are stored\n",
        "        self.dataset = h5py.File(os.path.join(path, f5name.format(self.split)), 'r')\n",
        "\n",
        "        # Keeping track of the names of the target labels\n",
        "        self.target_labels = self.dataset['target_labels']\n",
        "\n",
        "        # Get the list of volumes\n",
        "        self.inputs = self.dataset[split_dict[split][0]]\n",
        "        self.outputs = self.dataset[split_dict[split][1]]\n",
        "\n",
        "        self.ids = list(range(len(self.inputs)))\n",
        "        if self.split == 'test':\n",
        "            self.id_vars = np.char.decode(self.dataset['test_headers'])\n",
        "\n",
        "    def __getitem__(self, i):\n",
        "        \"\"\"\n",
        "        Returns the sequence and the target at index i\n",
        "\n",
        "        Notes:\n",
        "        * The data is stored as float16, however, your model will expect float32.\n",
        "          Do the type conversion here!\n",
        "        * Pay attention to the output shape of the data.\n",
        "          Change it to match what the model is expecting\n",
        "          hint: https://pytorch.org/docs/stable/generated/torch.nn.Conv2d.html\n",
        "        * The target must also be converted to float32\n",
        "        \"\"\"\n",
        "\n",
        "        idx = self.ids[i]\n",
        "        # WRITE CODE HERE\n",
        "\n",
        "        seq = self.inputs[idx]\n",
        "        target = self.outputs[idx]\n",
        "\n",
        "        seq = np.transpose(seq, (1, 2, 0)).astype(np.float32)\n",
        "        target = np.float32(target)\n",
        "\n",
        "        seq = torch.from_numpy(seq)\n",
        "        target = torch.from_numpy(target)\n",
        "        # Sequence & Target\n",
        "        output = {'sequence': seq, \n",
        "                  'target': target}\n",
        "        return output\n",
        "\n",
        "    def __len__(self):\n",
        "        # WRITE CODE HERE\n",
        "        return len(self.inputs)\n",
        "\n",
        "    def get_seq_len(self):\n",
        "        \"\"\"\n",
        "        Answer to Q1 part 2\n",
        "        \"\"\"\n",
        "        # WRITE CODE HERE\n",
        "        return self.inputs[0].shape[-1]\n",
        "\n",
        "    def is_equivalent(self):\n",
        "        \"\"\"\n",
        "        Answer to Q1 part 3\n",
        "        \"\"\"\n",
        "        # WRITE CODE HERE\n",
        "        return True\n",
        "\n",
        "\n",
        "class Basset(nn.Module):\n",
        "    \"\"\"\n",
        "    Basset model\n",
        "    Architecture specifications can be found in the supplementary material\n",
        "    You will also need to use some Convolution Arithmetic\n",
        "    \"\"\"\n",
        "\n",
        "    def __init__(self):\n",
        "        super(Basset, self).__init__()\n",
        "\n",
        "        self.num_cell_types = 164\n",
        "\n",
        "        self.conv1 = nn.Conv2d(1, 300, (19, 4), stride=(1, 1), padding=(9, 0))\n",
        "        self.conv2 = nn.Conv2d(300, 200, (11, 1), stride=(1, 1), padding=(5, 0))\n",
        "        self.conv3 = nn.Conv2d(200 , 200, (7, 1), stride=(1, 1), padding=(4, 0))\n",
        "\n",
        "        self.bn1 = nn.BatchNorm2d(300)\n",
        "        self.bn2 = nn.BatchNorm2d(200)\n",
        "        self.bn3 = nn.BatchNorm2d(200)\n",
        "        self.maxpool1 = nn.MaxPool2d((3, 1))\n",
        "        self.maxpool2 = nn.MaxPool2d((4, 1))\n",
        "        self.maxpool3 = nn.MaxPool2d((4, 1))\n",
        "\n",
        "        self.fc1 = nn.Linear(13*200, 1000)\n",
        "        self.bn4 = nn.BatchNorm1d(1000)\n",
        "\n",
        "        self.fc2 = nn.Linear(1000, 1000)\n",
        "        self.bn5 = nn.BatchNorm1d(1000)\n",
        "\n",
        "        self.fc3 = nn.Linear(1000, self.num_cell_types)\n",
        "        self.dropout = 0.3\n",
        "        self.drop = nn.Dropout(self.dropout)\n",
        "\n",
        "    def forward(self, x):\n",
        "\n",
        "        # WRITE CODE HERE\n",
        "        x = self.conv1(x)\n",
        "        x = self.bn1(x)\n",
        "        x = F.relu(x)\n",
        "        x = self.maxpool1(x)\n",
        "\n",
        "        x = self.conv2(x)\n",
        "        x = self.bn2(x)\n",
        "        x = F.relu(x)\n",
        "        x = self.maxpool2(x)\n",
        "\n",
        "        x = self.conv3(x)\n",
        "        x = self.bn3(x)\n",
        "        x = F.relu(x)\n",
        "        x = self.maxpool3(x)\n",
        "\n",
        "        x = x.view(-1, 13*200)\n",
        "\n",
        "        x = self.fc1(x)\n",
        "        x = self.bn4(x)\n",
        "        x = F.relu(x)\n",
        "        x = self.drop(x)\n",
        "\n",
        "        x = self.fc2(x)\n",
        "        x = self.bn5(x)\n",
        "        x = F.relu(x)\n",
        "        x = self.drop(x)\n",
        "\n",
        "        x = self.fc3(x)\n",
        "\n",
        "        return x\n",
        "\n",
        "\n",
        "def compute_fpr_tpr(y_true, y_pred):\n",
        "    \"\"\"\n",
        "    Computes the False Positive Rate and True Positive Rate\n",
        "    Args:\n",
        "        :param y_true: groundtruth labels (np.array of ints)\n",
        "        :param y_pred: model decisions (np.array of ints)\n",
        "\n",
        "    :Return: dict with tpr, fpr (values are floats)\n",
        "    \"\"\"\n",
        "    output = {'fpr': 0., 'tpr': 0.}\n",
        "\n",
        "    # WRITE CODE HERE\n",
        "    \n",
        "    fp = np.sum((y_pred == 1) & (y_true == 0))\n",
        "    tp = np.sum((y_pred == 1) & (y_true == 1))\n",
        "\n",
        "    fn = np.sum((y_pred == 0) & (y_true == 1))\n",
        "    tn = np.sum((y_pred == 0) & (y_true == 0))\n",
        "\n",
        "    fpr = fp / (fp + tn)\n",
        "    tpr = tp / (tp + fn)\n",
        "\n",
        "    output = {'fpr': fpr, 'tpr': tpr}\n",
        "    return output\n",
        "\n",
        "\n",
        "def compute_fpr_tpr_dumb_model():\n",
        "    \"\"\"\n",
        "    Simulates a dumb model and computes the False Positive Rate and True Positive Rate\n",
        "\n",
        "    :Return: dict with tpr_list, fpr_list.\n",
        "             These lists contain the tpr and fpr for different thresholds\n",
        "             fpr and tpr values in the lists should be floats\n",
        "             Order the lists such that:\n",
        "                 output['fpr_list'][0] corresponds to k=0.\n",
        "                 output['fpr_list'][1] corresponds to k=0.05 \n",
        "                 ...\n",
        "            Do the same for output['tpr_list']\n",
        "             \n",
        "    \"\"\"\n",
        "    output = {'fpr_list': [], 'tpr_list': []}\n",
        "\n",
        "    # WRITE CODE HERE\n",
        "    target = np.random.randint(2, size= 1000)\n",
        "    preds = np.random.uniform(low = 0,high = 1,size = 1000)\n",
        "\n",
        "    thresholds = np.arange(0,1,0.05)\n",
        "    for k in thresholds:\n",
        "        y_pred = np.where(preds >= k, 1, 0)\n",
        "\n",
        "        fp = np.sum((y_pred == 1) & (target == 0))\n",
        "        tp = np.sum((y_pred == 1) & (target == 1))\n",
        "        fn = np.sum((y_pred == 0) & (target == 1))\n",
        "        tn = np.sum((y_pred == 0) & (target == 0))\n",
        "\n",
        "        output[\"fpr_list\"].append(fp / (fp + tn))\n",
        "        output[\"tpr_list\"].append(tp / (tp + fn))\n",
        "\n",
        "    return output\n",
        "\n",
        "\n",
        "def compute_fpr_tpr_smart_model():\n",
        "    \"\"\"\n",
        "    Simulates a smart model and computes the False Positive Rate and True Positive Rate\n",
        "\n",
        "    :Return: dict with tpr_list, fpr_list.\n",
        "             These lists contain the tpr and fpr for different thresholds\n",
        "             fpr and tpr values in the lists should be floats\n",
        "             Order the lists such that:\n",
        "                 output['fpr_list'][0] corresponds to k=0.\n",
        "                 output['fpr_list'][1] corresponds to k=0.05 \n",
        "                 ...\n",
        "            Do the same for output['tpr_list']\n",
        "    \"\"\"\n",
        "    output = {'fpr_list': [], 'tpr_list': []}\n",
        "\n",
        "    # WRITE CODE HERE\n",
        "\n",
        "    #simulate target\n",
        "    target = np.random.randint(2, size= 1000)\n",
        "\n",
        "    #simulate preds\n",
        "    inds_true = np.where(target==1)[0] \n",
        "    inds_false = np.where(target==0)[0]\n",
        "\n",
        "    preds_true = np.random.uniform(low = 0.4,high = 1, size=len(inds_true))\n",
        "    preds_false = np.random.uniform(low = 0,high = 0.6, size=len(inds_false))\n",
        "\n",
        "    preds = np.empty(shape = (1000,))\n",
        "    np.put(preds, inds_true, preds_true)\n",
        "    np.put(preds, inds_false, preds_false)    \n",
        "    \n",
        "    #setting thresholds\n",
        "    thresholds = np.arange(0,1,0.05)\n",
        "    for k in thresholds:\n",
        "        y_pred = np.where(preds >= k, 1, 0)\n",
        "\n",
        "        fp = np.sum((y_pred == 1) & (target == 0))\n",
        "        tp = np.sum((y_pred == 1) & (target == 1))\n",
        "        fn = np.sum((y_pred == 0) & (target == 1))\n",
        "        tn = np.sum((y_pred == 0) & (target == 0))\n",
        "\n",
        "        output[\"fpr_list\"].append(fp / (fp + tn))\n",
        "        output[\"tpr_list\"].append(tp / (tp + fn))\n",
        "\n",
        "    return output\n",
        "\n",
        "\n",
        "def compute_auc_both_models():\n",
        "    \"\"\"\n",
        "    Simulates a dumb model and a smart model and computes the AUC of both\n",
        "    :Return: dict with keys 'auc_dumb_model', 'auc_smart_model'.\n",
        "             These contain the AUC for both models\n",
        "             auc values in the lists should be floats\n",
        "    \"\"\"\n",
        "\n",
        "    output = {'auc_dumb_model': 0., 'auc_smart_model': 0.}\n",
        "\n",
        "    # WRITE CODE HERE\n",
        "\n",
        "    ####### dumb model\n",
        "\n",
        "    target_dumb = np.random.randint(2, size= 1000)\n",
        "    preds_dumb = np.random.uniform(low = 0,high = 1,size = 1000)\n",
        "\n",
        "    ####### smart model\n",
        "\n",
        "     #simulate target\n",
        "    target_smart = np.random.randint(2, size= 1000)\n",
        "\n",
        "    #simulate preds\n",
        "    inds_true = np.where(target_smart==1)[0] \n",
        "    inds_false = np.where(target_smart==0)[0]\n",
        "\n",
        "    preds_true = np.random.uniform(low = 0.4,high = 1, size=len(inds_true))\n",
        "    preds_false = np.random.uniform(low = 0,high = 0.6, size=len(inds_false))\n",
        "\n",
        "    preds_smart = np.empty(shape = (1000,))\n",
        "    np.put(preds_smart, inds_true, preds_true)\n",
        "    np.put(preds_smart, inds_false, preds_false)  \n",
        "\n",
        "    output[\"auc_dumb_model\"] = compute_auc(target_dumb, preds_dumb)[\"auc\"]\n",
        "    output[\"auc_smart_model\"] = compute_auc(target_smart, preds_smart)[\"auc\"]\n",
        "    print(output)\n",
        "\n",
        "    return output\n",
        "\n",
        "\n",
        "def compute_auc_untrained_model(model, dataloader, device):\n",
        "    \"\"\"\n",
        "    Computes the AUC of your input model\n",
        "    Args:\n",
        "        :param model: solution.Basset()\n",
        "        :param dataloader: torch.utils.data.DataLoader\n",
        "                           Where the dataset is solution.BassetDataset\n",
        "        :param device: torch.device\n",
        "    :Return: dict with key 'auc'.\n",
        "             This contains the AUC for the model\n",
        "             auc value should be float\n",
        "    Notes:\n",
        "    * Dont forget to re-apply your output activation!\n",
        "    * Make sure this function works with arbitrarily small dataset sizes!\n",
        "    * You should collect all the targets and model outputs and then compute AUC at the end\n",
        "      (compute time should not be as much of a consideration here)\n",
        "    \"\"\"\n",
        "    output = {'auc': 0.}\n",
        "\n",
        "    # WRITE CODE HERE\n",
        "    # model = Basset()\n",
        "    y_pred = torch.tensor([], device=device)\n",
        "    y_true = torch.tensor([], device=device)\n",
        "    model.eval()\n",
        "    with torch.no_grad():\n",
        "        for batch in dataloader:\n",
        "                batch_x = batch[\"sequence\"]\n",
        "                batch_y = batch[\"target\"]\n",
        "\n",
        "                batch_x = batch_x.to(device)\n",
        "                batch_y = batch_y.to(device)\n",
        "\n",
        "                preds = model(batch_x)\n",
        "                # print(pred.shape)\n",
        "\n",
        "                y_true = torch.cat((y_true, batch_y), 0)\n",
        "                y_pred = torch.cat((y_pred, preds), 0)\n",
        "\n",
        "    y_true = y_true.cpu().numpy()  \n",
        "    # _, y_pred = torch.max(y_pred, 1)\n",
        "    # y_pred = y_pred.cpu().numpy()\n",
        "    y_pred_prob = torch.sigmoid(y_pred).cpu().numpy()\n",
        "\n",
        "    output[\"auc\"] = compute_auc(y_true, y_pred_prob)[\"auc\"]\n",
        "    return output\n",
        "\n",
        "\n",
        "def compute_auc(y_true, y_model):\n",
        "    \"\"\"\n",
        "    Computes area under the ROC curve (using method described in main.ipynb)\n",
        "    Args:\n",
        "        :param y_true: groundtruth labels (np.array of ints [0 or 1])\n",
        "        :param y_model: model outputs (np.array of float32 in [0, 1])\n",
        "    :Return: dict with key 'auc'.\n",
        "             This contains the AUC for the model\n",
        "             auc value should be float\n",
        "    Note: if you set y_model as the output of solution.Basset, \n",
        "    you need to transform it before passing it here!\n",
        "    \"\"\"\n",
        "    output = {'auc': 0.}\n",
        "    #reference: https://medium.com/building-ibotta/understanding-roc-auc-part-2-2-a1e418a3afdb\n",
        "    # Total number of observations\n",
        "    # N = y_true.shape[0]\n",
        "    \n",
        "    # # Index vector\n",
        "    # I = np.arange(1, N + 1)\n",
        "    \n",
        "    # # Number of positive observations\n",
        "    # N_pos = np.sum(y_true)\n",
        "    \n",
        "    # # Number of negative observations\n",
        "    # N_neg = N - N_pos\n",
        "    \n",
        "    # # Sort true labels according to scores\n",
        "    # I = y_model.argsort()[::-1][:N]\n",
        "    # y_pred = y_true[I]\n",
        "    \n",
        "    # # Index vector\n",
        "    # I = np.arange(1, N + 1)\n",
        "    \n",
        "    # output[\"auc\"] = 1. + ((N_pos + 1.) / (2 * N_neg)) - (1. / (N_pos * N_neg)) * I.dot(y_pred)\n",
        "\n",
        "    fpr_tpr = {'fpr_list': np.array([]), 'tpr_list': np.array([])}\n",
        "    for thresh in np.arange(0, 1, 0.05):\n",
        "        y_pred_th = y_model > thresh\n",
        "        y_pred_th = y_pred_th.astype(int)\n",
        "        out = compute_fpr_tpr(y_true, y_pred_th)\n",
        "        fpr_tpr['fpr_list'] = np.append(fpr_tpr['fpr_list'], out['fpr'])\n",
        "        fpr_tpr['tpr_list'] = np.append(fpr_tpr['tpr_list'], out['tpr'])\n",
        "    print(fpr_tpr['fpr_list'])\n",
        "    print(fpr_tpr['tpr_list'])\n",
        "    dx = np.diff(fpr_tpr['fpr_list'])\n",
        "\n",
        "    left_riemann_sum = abs(np.sum(fpr_tpr['tpr_list'][:-1] * dx))\n",
        "    print(\"Left Riemann Sum:\",left_riemann_sum)\n",
        "\n",
        "    right_riemann_sum = abs(np.sum(fpr_tpr['tpr_list'][1:] * dx))\n",
        "    print(\"Right Riemann Sum:\",right_riemann_sum)\n",
        "\n",
        "    output[\"auc\"] = (left_riemann_sum + right_riemann_sum)/2\n",
        "\n",
        "    return output\n",
        "\n",
        "\n",
        "def get_critereon():\n",
        "    \"\"\"\n",
        "    Picks the appropriate loss function for our task\n",
        "    criterion should be subclass of torch.nn\n",
        "    \"\"\"\n",
        "\n",
        "    # WRITE CODE HERE\n",
        "    criterion = nn.BCEWithLogitsLoss()\n",
        "    return criterion\n",
        "\n",
        "def compute_auc_trained_model(y_model, y_true):\n",
        "    # print(\"compute auc\")\n",
        "    # print(type(y_model))\n",
        "    # print(type(y_true))\n",
        "    y_model = y_model.cpu().detach().numpy()\n",
        "    y_true = y_true.cpu().detach().numpy()\n",
        "\n",
        "    model.eval()\n",
        "\n",
        "    fpr_tpr = {'fpr_list': np.array([]), 'tpr_list': np.array([])}\n",
        "    for thresh in np.arange(0, 1, 0.05):\n",
        "        y_pred_th = y_model > thresh\n",
        "        y_pred_th = y_pred_th.astype(int)\n",
        "        out = compute_fpr_tpr(y_true, y_pred_th)\n",
        "        fpr_tpr['fpr_list'] = np.append(fpr_tpr['fpr_list'], out['fpr'])\n",
        "        fpr_tpr['tpr_list'] = np.append(fpr_tpr['tpr_list'], out['tpr'])\n",
        "    # print(fpr_tpr['fpr_list'])\n",
        "    # print(fpr_tpr['tpr_list'])\n",
        "    dx = np.diff(fpr_tpr['fpr_list'])\n",
        "\n",
        "    left_riemann_sum = abs(np.sum(fpr_tpr['tpr_list'][:-1] * dx))\n",
        "    # print(\"Left Riemann Sum:\",left_riemann_sum)\n",
        "\n",
        "    right_riemann_sum = abs(np.sum(fpr_tpr['tpr_list'][1:] * dx))\n",
        "    # print(\"Right Riemann Sum:\",right_riemann_sum)\n",
        "    auc = (left_riemann_sum + right_riemann_sum)/2\n",
        "    return auc\n",
        "\n",
        "def evaluate_model(model, dataset_loader, optimizer, criterion, device, type = \"loss\"):\n",
        "    LOSSES = 0\n",
        "    COUNTER = 0\n",
        "    model.eval()\n",
        "    for batch in dataset_loader:\n",
        "        # optimizer.zero_grad()\n",
        "\n",
        "        batch_x = batch[\"sequence\"]\n",
        "        batch_y = batch[\"target\"]\n",
        "\n",
        "        batch_x = batch_x.to(device)\n",
        "        batch_y = batch_y.to(device)\n",
        "        \n",
        "        loss = criterion(model(batch_x), batch_y)\n",
        "\n",
        "        if(type == \"loss\"):\n",
        "            n = batch_y.size(0)\n",
        "            LOSSES += loss.sum().cpu().data.numpy() * n\n",
        "            COUNTER += n\n",
        "        else:\n",
        "            n = batch_y.size(0)\n",
        "            LOSSES += loss.sum() * n\n",
        "            COUNTER += n\n",
        "\n",
        "    return LOSSES / float(COUNTER)\n",
        "    \n",
        "# def train_loop(model, train_dataloader, device, optimizer, criterion):\n",
        "#     \"\"\"\n",
        "#     One Iteration across the training set\n",
        "#     Args:\n",
        "#         :param model: solution.Basset()\n",
        "#         :param train_dataloader: torch.utils.data.DataLoader\n",
        "#                                  Where the dataset is solution.BassetDataset\n",
        "#         :param device: torch.device\n",
        "#         :param optimizer: torch.optim\n",
        "#         :param critereon: torch.nn (output of get_critereon)\n",
        "#     :Return: total_score, total_loss.\n",
        "#              float of model score (AUC) and float of model loss for the entire loop (epoch)\n",
        "#              (if you want to display losses and/or scores within the loop, \n",
        "#              you may print them to screen)\n",
        "#     Make sure your loop works with arbitrarily small dataset sizes!\n",
        "#     Note: you don’t need to compute the score after each training iteration.\n",
        "#     If you do this, your training loop will be really slow!\n",
        "#     You should instead compute it every 50 or so iterations and aggregate ...\n",
        "#     \"\"\"\n",
        "\n",
        "#     output = {'total_score': 0.,\n",
        "#               'total_loss': 0.}\n",
        "\n",
        "#     # WRITE CODE HERE\n",
        "\n",
        "#     # load the data\n",
        "#     # mnist_train = datasets.MNIST('data', train=True, download=True)\n",
        "#     # mnist_train = list(mnist_train)[:2000]\n",
        "#     # img_to_tensor = transforms.ToTensor()\n",
        "\n",
        "#     # create a new model, initialize random parameters\n",
        "#     model.train()\n",
        "    \n",
        "#     LOSSES = 0\n",
        "#     COUNTER = 0\n",
        "#     ITERATIONS = 0\n",
        "#     store_every = 50\n",
        "#     learning_curve_loss_train = list()\n",
        "#     learning_curve_auc_train = list()\n",
        "#     learning_curve_auc_batch_train = list()\n",
        "\n",
        "#     # training\n",
        "#     for batch in train_dataloader:\n",
        "#         optimizer.zero_grad()\n",
        "\n",
        "#         batch_x = batch[\"sequence\"]\n",
        "#         batch_y = batch[\"target\"]\n",
        "\n",
        "#         batch_x = batch_x.to(device)\n",
        "#         batch_y = batch_y.to(device)\n",
        "\n",
        "#         model = model.to(device)\n",
        "            \n",
        "#         loss = criterion(model(batch_x), batch_y)\n",
        "#         loss.backward()\n",
        "#         optimizer.step()\n",
        "        \n",
        "#         n = batch_y.size(0)\n",
        "#         # print(f\"loss sum data type {type(loss.sum()}\")\n",
        "#         # print()\n",
        "#         # print(type(loss.sum().data))\n",
        "#         LOSSES += loss.sum().cpu().data.numpy() * n\n",
        "#         COUNTER += n\n",
        "#         ITERATIONS += 1\n",
        "#         if ITERATIONS%(store_every/5) == 0:\n",
        "#             avg_loss = LOSSES / float(COUNTER)\n",
        "#             LOSSES = 0\n",
        "#             COUNTER = 0\n",
        "#             print(\" Iteration {}: TRAIN {}\".format(\n",
        "#                 ITERATIONS, avg_loss))\n",
        "#             output['total_loss'] = avg_loss\n",
        "\n",
        "    \n",
        "#         if ITERATIONS%(store_every) == 0:     \n",
        "#             train_loss = evaluate_model(model, train_dataloader, optimizer, criterion, device, type = \"loss\")\n",
        "#             learning_curve_loss_train.append(train_loss)\n",
        "\n",
        "#             train_batch_auc = compute_auc_trained_model(model(batch_x), batch_y)\n",
        "#             learning_curve_auc_batch_train.append(train_batch_auc)\n",
        "\n",
        "#             train_auc = evaluate_model(model, train_dataloader, optimizer, compute_auc_trained_model, device, type = \"auc\")\n",
        "#             learning_curve_auc_train.append(train_auc)\n",
        "                   \n",
        "#             print(\" [LOSS] TRAIN {}\".format(\n",
        "#                 train_loss))\n",
        "#             print(\" [AUC] TRAIN {}\".format(\n",
        "#                 train_auc))\n",
        "#             print(\" [AUC] TRAIN BATCH {}\".format(\n",
        "#                 train_batch_auc))\n",
        "            \n",
        "\n",
        "#     output['total_score'] = sum(learning_curve_auc_batch_train) / len(learning_curve_auc_batch_train)\n",
        "#     # print(f\"TOTAL list auc length: {len(learning_curve_auc_train)}\")\n",
        "#     print(\"AUC after one complete epoch\")\n",
        "#     print(output['total_score'])\n",
        "#     return output['total_score'], output['total_loss']\n",
        "\n",
        "def train_loop(model, train_dataloader, device, optimizer, criterion):\n",
        "        output = {'total_score': 0.,\n",
        "              'total_loss': 0.}\n",
        "        model.train()\n",
        "        train_loss = 0.0\n",
        "        num_train_correct  = 0\n",
        "        num_train_examples = 0\n",
        "\n",
        "        for i, batch in enumerate(tqdm(train_dataloader)):\n",
        "\n",
        "            optimizer.zero_grad()\n",
        "\n",
        "            batch_x = batch[\"sequence\"]\n",
        "            batch_y = batch[\"target\"]\n",
        "\n",
        "            batch_x = batch_x.to(device)\n",
        "            batch_y = batch_y.to(device)\n",
        "\n",
        "            model = model.to(device)\n",
        "            yhat = model(batch_x)\n",
        "            loss = criterion(yhat, batch_y)\n",
        "\n",
        "            loss.backward()\n",
        "            optimizer.step()\n",
        "\n",
        "            train_loss += loss.data.item() * batch_x.size(0)\n",
        "            # num_train_correct  += (torch.max(yhat, 1)[1] == batch_y).sum().item()\n",
        "            num_train_examples += batch_x.shape[0]\n",
        "            \n",
        "\n",
        "        # train_acc   = num_train_correct / num_train_examples\n",
        "        train_loss  = train_loss / len(train_dataloader.dataset)\n",
        "        print(\"[TOTAL DL LOSS] TRAIN {}\".format(\n",
        "            train_loss\n",
        "        ))\n",
        "        # output = {'total_score': train_acc,\n",
        "        #       'total_loss': train_loss}\n",
        "        return train_loss\n",
        "\n",
        "\n",
        "\n",
        "def valid_loop(model, valid_dataloader, device, optimizer, criterion):\n",
        "    \"\"\"\n",
        "    One Iteration across the validation set\n",
        "    Args:\n",
        "        :param model: solution.Basset()\n",
        "        :param valid_dataloader: torch.utils.data.DataLoader\n",
        "                                 Where the dataset is solution.BassetDataset\n",
        "        :param device: torch.device\n",
        "        :param optimizer: torch.optim\n",
        "        :param critereon: torch.nn (output of get_critereon)\n",
        "    :Return: total_score, total_loss.\n",
        "             float of model score (AUC) and float of model loss for the entire loop (epoch)\n",
        "             (if you want to display losses and/or scores within the loop, \n",
        "             you may print them to screen)\n",
        "    Make sure your loop works with arbitrarily small dataset sizes!\n",
        "    \n",
        "    Note: if it is taking very long to run, \n",
        "    you may do simplifications like with the train_loop.\n",
        "    \"\"\"\n",
        "\n",
        "    output = {'total_score': 0.,\n",
        "              'total_loss': 0.}\n",
        "\n",
        "    # WRITE CODE HERE\n",
        "\n",
        "    val_loss = evaluate_model(model, valid_dataloader, optimizer, criterion, device, type = \"loss\")\n",
        "    val_auc = evaluate_model(model, valid_dataloader, optimizer, compute_auc_trained_model, device, type = \"auc\")\n",
        "    print(\" [LOSS] VALID {}\".format(\n",
        "                val_loss))\n",
        "    print(\" [AUC] VALID {}\".format(\n",
        "                val_auc))\n",
        "\n",
        "    output['total_score'] = val_auc\n",
        "    output['total_loss'] = val_loss         \n",
        "    return output['total_score'], output['total_loss']\n"
      ],
      "metadata": {
        "id": "tdGgag6xLAlr"
      },
      "execution_count": 20,
      "outputs": []
    },
    {
      "cell_type": "code",
      "execution_count": 21,
      "metadata": {
        "id": "8EFHMkC6RGG3"
      },
      "outputs": [],
      "source": [
        "model = Basset().to(device)"
      ]
    },
    {
      "cell_type": "code",
      "source": [
        "def load_ckp(checkpoint_fpath, model, optimizer, valid_loss_min, epoch):\n",
        "    \"\"\"\n",
        "    checkpoint_path: path to save checkpoint\n",
        "    model: model that we want to load checkpoint parameters into       \n",
        "    optimizer: optimizer we defined in previous training\n",
        "    \"\"\"\n",
        "    # load check point\n",
        "    model = torch.load(checkpoint_fpath)\n",
        "    # initialize state_dict from checkpoint to model\n",
        "    # model.load_state_dict(checkpoint['state_dict'])\n",
        "    # initialize optimizer from checkpoint to optimizer\n",
        "    # optimizer.load_state_dict(checkpoint['optimizer'])\n",
        "    # initialize valid_loss_min from checkpoint to valid_loss_min\n",
        "    # valid_loss_min = checkpoint['valid_loss_min']\n",
        "    # return model, optimizer, epoch value, min validation loss \n",
        "    return model, optimizer, epoch, valid_loss_min"
      ],
      "metadata": {
        "id": "PcXoGqT7eRkg"
      },
      "execution_count": 22,
      "outputs": []
    },
    {
      "cell_type": "code",
      "source": [
        "checkpoint_fpath = \"/content/model_params_epoch_2.pt\"\n",
        "optimizer = optim.Adam(list(model.parameters()), lr=learning_rate, betas=(0.9, 0.999))\n",
        "epoch = 2\n",
        "valid_loss_min = 0.08184701588758066\n",
        "\n",
        "model, optimizer, start_epoch, valid_loss_min = load_ckp(checkpoint_fpath, model, optimizer, valid_loss_min, epoch)"
      ],
      "metadata": {
        "id": "HXzQtYeAeUKf"
      },
      "execution_count": 24,
      "outputs": []
    },
    {
      "cell_type": "markdown",
      "metadata": {
        "id": "tpHfTqxhYER_"
      },
      "source": [
        "# **Question 3 (Area Under the Curve)** \n",
        "(25 points). Each DNA sequence is either exposed (we'll call this the positive case) or not (we'll call this the negative case). The output of our model should be used to return a binary decision about the sequence.\n",
        "\n",
        "For a given case, we say that our model made a positive prediction whenever its output value is above some threshold $k$, and a negative prediction otherwise.\n",
        "\n",
        "Define the *True Positive Rate* (TPR) as the number of correctly prediced positive cases divided by the number of positive cases. Define the *False Positive Rate* (FPR) as the  number of cases that were incorrectly predicted as positive divided by the number of negative cases.\n",
        "\n",
        "1. Complete the function `compute_fpr_tpr` in `solution.py`. This code will compute the TPR and FPR given your models decisions and the true targets.\n",
        "\n",
        "2. Your FPR and TPR change as a function of $k$. Specifically, we can plot the FPR on the x-axis and the TPR on the y-axis for different values of $k$. The shape of the resulting curve (ROC curve) tells us something about our classifiers performance. We will explore via simulation what this plot looks like when our model is just making random guesses. In `solution.py`, fill in the function `compute_fpr_tpr_dumb_model`. This function will generate 1000 binary random variables to use as targets and 1000 uniform random variables between 0 and 1 as our model predictions. It will then compute the fpr and tpr for $k\\in \\{0, 0.05,..., 0.95, 1\\}$ You should plot what the ROC curves look like for your own knowledge."
      ]
    },
    {
      "cell_type": "code",
      "execution_count": null,
      "metadata": {
        "id": "u_ewjBEFw-Gr",
        "colab": {
          "base_uri": "https://localhost:8080/"
        },
        "outputId": "59addb4b-79e7-4540-cbff-b81c0f6afafd"
      },
      "outputs": [
        {
          "output_type": "execute_result",
          "data": {
            "text/plain": [
              "{'fpr_list': [1.0,\n",
              "  0.9469387755102041,\n",
              "  0.8918367346938776,\n",
              "  0.8387755102040816,\n",
              "  0.773469387755102,\n",
              "  0.7061224489795919,\n",
              "  0.6693877551020408,\n",
              "  0.6306122448979592,\n",
              "  0.5857142857142857,\n",
              "  0.5428571428571428,\n",
              "  0.49183673469387756,\n",
              "  0.45102040816326533,\n",
              "  0.39591836734693875,\n",
              "  0.35714285714285715,\n",
              "  0.29183673469387755,\n",
              "  0.23265306122448978,\n",
              "  0.19591836734693877,\n",
              "  0.16326530612244897,\n",
              "  0.09387755102040816,\n",
              "  0.04897959183673469],\n",
              " 'tpr_list': [1.0,\n",
              "  0.9490196078431372,\n",
              "  0.9156862745098039,\n",
              "  0.8568627450980392,\n",
              "  0.807843137254902,\n",
              "  0.7549019607843137,\n",
              "  0.7058823529411765,\n",
              "  0.6607843137254902,\n",
              "  0.6098039215686275,\n",
              "  0.5607843137254902,\n",
              "  0.5078431372549019,\n",
              "  0.4627450980392157,\n",
              "  0.41568627450980394,\n",
              "  0.35490196078431374,\n",
              "  0.2980392156862745,\n",
              "  0.2647058823529412,\n",
              "  0.21372549019607842,\n",
              "  0.1568627450980392,\n",
              "  0.10196078431372549,\n",
              "  0.045098039215686274]}"
            ]
          },
          "metadata": {},
          "execution_count": 20
        }
      ],
      "source": [
        "compute_fpr_tpr_dumb_model()"
      ]
    },
    {
      "cell_type": "markdown",
      "metadata": {
        "id": "3cWBplcrw8wl"
      },
      "source": [
        "3. We will now simulate a better model. In `solution.py`, fill in the function `compute_fpr_tpr_smart_model`. This will simulate 1000 targets the same way as before. However, this will simulate model outputs as uniform random variables between 0.4 and 1 for the positive cases. For the negative cases, simulate uniform random variables between 0 and 0.6. Compute the tpr and fpr varying $k$ like before. You should also look at the ROC curve."
      ]
    },
    {
      "cell_type": "code",
      "execution_count": null,
      "metadata": {
        "id": "_Vdr40asxBUu",
        "colab": {
          "base_uri": "https://localhost:8080/"
        },
        "outputId": "bd1f8a3a-b4d2-400b-a020-6e3775bb3dee"
      },
      "outputs": [
        {
          "output_type": "execute_result",
          "data": {
            "text/plain": [
              "{'fpr_list': [1.0,\n",
              "  0.8928571428571429,\n",
              "  0.8298319327731093,\n",
              "  0.7521008403361344,\n",
              "  0.6596638655462185,\n",
              "  0.5714285714285714,\n",
              "  0.5021008403361344,\n",
              "  0.4264705882352941,\n",
              "  0.3550420168067227,\n",
              "  0.2710084033613445,\n",
              "  0.16806722689075632,\n",
              "  0.09873949579831932,\n",
              "  0.0,\n",
              "  0.0,\n",
              "  0.0,\n",
              "  0.0,\n",
              "  0.0,\n",
              "  0.0,\n",
              "  0.0,\n",
              "  0.0],\n",
              " 'tpr_list': [1.0,\n",
              "  1.0,\n",
              "  1.0,\n",
              "  1.0,\n",
              "  1.0,\n",
              "  1.0,\n",
              "  1.0,\n",
              "  1.0,\n",
              "  1.0,\n",
              "  0.9122137404580153,\n",
              "  0.8263358778625954,\n",
              "  0.7690839694656488,\n",
              "  0.6812977099236641,\n",
              "  0.601145038167939,\n",
              "  0.5019083969465649,\n",
              "  0.41030534351145037,\n",
              "  0.32633587786259544,\n",
              "  0.25,\n",
              "  0.1736641221374046,\n",
              "  0.06679389312977099]}"
            ]
          },
          "metadata": {},
          "execution_count": 21
        }
      ],
      "source": [
        "compute_fpr_tpr_smart_model()"
      ]
    },
    {
      "cell_type": "markdown",
      "metadata": {
        "id": "0-rqX9_UxBkK"
      },
      "source": [
        "4. The Area Under the ROC Curve (AUC) summarizes the ROC plot as a single number. It is literally computed as the area under the the ROC curve (take the average of the left and right Reimann sums). Complete the function `utils.compute_auc` and use it in the function `compute_auc_both_models` to compute the AUC of the ROC curves you made in parts 2 and 3."
      ]
    },
    {
      "cell_type": "code",
      "source": [
        "compute_auc_both_models()"
      ],
      "metadata": {
        "colab": {
          "base_uri": "https://localhost:8080/"
        },
        "id": "bLj5Ovbk4Gro",
        "outputId": "21e1eae3-4aed-4511-9551-a182b32582f6"
      },
      "execution_count": null,
      "outputs": [
        {
          "output_type": "stream",
          "name": "stdout",
          "text": [
            "[1.         0.96267191 0.90373281 0.85068762 0.79764244 0.75049116\n",
            " 0.6935167  0.64243615 0.5913556  0.54420432 0.49705305 0.46168959\n",
            " 0.39489194 0.34381139 0.29076621 0.25147348 0.2043222  0.12770138\n",
            " 0.09233792 0.05304519]\n",
            "[1.         0.94501018 0.87780041 0.83095723 0.77800407 0.72505092\n",
            " 0.6802444  0.63543788 0.56822811 0.50101833 0.45621181 0.4114053\n",
            " 0.33808554 0.30142566 0.24032587 0.21588595 0.18126273 0.12627291\n",
            " 0.09164969 0.0407332 ]\n",
            "Left Riemann Sum: 0.49773326557804726\n",
            "Right Riemann Sum: 0.44874539350749637\n",
            "[1.         0.92121212 0.81212121 0.73535354 0.65656566 0.58989899\n",
            " 0.50707071 0.44444444 0.33939394 0.25656566 0.16565657 0.08484848\n",
            " 0.         0.         0.         0.         0.         0.\n",
            " 0.         0.        ]\n",
            "[1.         1.         1.         1.         1.         1.\n",
            " 1.         1.         1.         0.91485149 0.84752475 0.76237624\n",
            " 0.66732673 0.58217822 0.47920792 0.37227723 0.31089109 0.23564356\n",
            " 0.17029703 0.0950495 ]\n",
            "Left Riemann Sum: 0.9597759775977599\n",
            "Right Riemann Sum: 0.9316571657165718\n",
            "{'auc_dumb_model': 0.4732393295427718, 'auc_smart_model': 0.9457165716571658}\n"
          ]
        },
        {
          "output_type": "execute_result",
          "data": {
            "text/plain": [
              "{'auc_dumb_model': 0.4732393295427718, 'auc_smart_model': 0.9457165716571658}"
            ]
          },
          "metadata": {},
          "execution_count": 22
        }
      ]
    },
    {
      "cell_type": "markdown",
      "metadata": {
        "id": "EUDMl_NaxDjV"
      },
      "source": [
        "5. Complete the function `compute_auc_untrained_model`, which will compute the AUC of your untrained model. Use the first 100 batches of the test set.\n",
        "\n",
        "    Note: since we are doing multi-task prediction, your model outputs and targets will have shape (Batch size, Num targets). Flatten these matrices so that they are two vectors, each of size Batch size * Num targets.\n",
        "    Then, procede with AUC as if you were in the usual single task case..."
      ]
    },
    {
      "cell_type": "code",
      "source": [
        "model"
      ],
      "metadata": {
        "colab": {
          "base_uri": "https://localhost:8080/"
        },
        "id": "RZ3cIgaEeLyX",
        "outputId": "40bc95eb-29d9-4cba-a663-fc4e3dff94c5"
      },
      "execution_count": 25,
      "outputs": [
        {
          "output_type": "execute_result",
          "data": {
            "text/plain": [
              "Basset(\n",
              "  (conv1): Conv2d(1, 300, kernel_size=(19, 4), stride=(1, 1), padding=(9, 0))\n",
              "  (conv2): Conv2d(300, 200, kernel_size=(11, 1), stride=(1, 1), padding=(5, 0))\n",
              "  (conv3): Conv2d(200, 200, kernel_size=(7, 1), stride=(1, 1), padding=(4, 0))\n",
              "  (bn1): BatchNorm2d(300, eps=1e-05, momentum=0.1, affine=True, track_running_stats=True)\n",
              "  (bn2): BatchNorm2d(200, eps=1e-05, momentum=0.1, affine=True, track_running_stats=True)\n",
              "  (bn3): BatchNorm2d(200, eps=1e-05, momentum=0.1, affine=True, track_running_stats=True)\n",
              "  (maxpool1): MaxPool2d(kernel_size=(3, 1), stride=(3, 1), padding=0, dilation=1, ceil_mode=False)\n",
              "  (maxpool2): MaxPool2d(kernel_size=(4, 1), stride=(4, 1), padding=0, dilation=1, ceil_mode=False)\n",
              "  (maxpool3): MaxPool2d(kernel_size=(4, 1), stride=(4, 1), padding=0, dilation=1, ceil_mode=False)\n",
              "  (fc1): Linear(in_features=2600, out_features=1000, bias=True)\n",
              "  (bn4): BatchNorm1d(1000, eps=1e-05, momentum=0.1, affine=True, track_running_stats=True)\n",
              "  (fc2): Linear(in_features=1000, out_features=1000, bias=True)\n",
              "  (bn5): BatchNorm1d(1000, eps=1e-05, momentum=0.1, affine=True, track_running_stats=True)\n",
              "  (fc3): Linear(in_features=1000, out_features=164, bias=True)\n",
              "  (drop): Dropout(p=0.3, inplace=False)\n",
              ")"
            ]
          },
          "metadata": {},
          "execution_count": 25
        }
      ]
    },
    {
      "cell_type": "code",
      "execution_count": 26,
      "metadata": {
        "id": "-yJn7gvzxEQT",
        "colab": {
          "base_uri": "https://localhost:8080/"
        },
        "outputId": "9b77cf06-9551-4d74-acd6-9e5046b53949"
      },
      "outputs": [
        {
          "output_type": "stream",
          "name": "stdout",
          "text": [
            "[1.00000000e+00 1.26894690e-01 4.43028720e-02 2.09271644e-02\n",
            " 1.14794985e-02 6.81801595e-03 4.41095294e-03 3.06371618e-03\n",
            " 2.24782440e-03 1.69452446e-03 1.30705830e-03 1.00871369e-03\n",
            " 8.00705544e-04 6.41293375e-04 5.09390002e-04 3.92238979e-04\n",
            " 2.83418696e-04 1.91346670e-04 1.20969278e-04 5.92697395e-05]\n",
            "[1.         0.63772061 0.43830978 0.33931995 0.27746839 0.2337475\n",
            " 0.20439525 0.18366797 0.16584858 0.15098265 0.13690632 0.12360442\n",
            " 0.11118324 0.09958583 0.0884212  0.07699462 0.0647101  0.05147274\n",
            " 0.03701299 0.01978582]\n",
            "Left Riemann Sum: 0.9417869597207522\n",
            "Right Riemann Sum: 0.6057644368362777\n"
          ]
        },
        {
          "output_type": "execute_result",
          "data": {
            "text/plain": [
              "{'auc': 0.7737756982785149}"
            ]
          },
          "metadata": {},
          "execution_count": 26
        }
      ],
      "source": [
        "compute_auc_untrained_model(model, basset_dataloader_test, device)"
      ]
    },
    {
      "cell_type": "markdown",
      "metadata": {
        "id": "OXNicb2xL6_k"
      },
      "source": [
        "# **Question 4 (Training the Network)**\n",
        "(20 points) We will now write the training loop for Basset.\n",
        "\n",
        "1. Notice that for each input, we have one target per experiment, and each target is binary. Write the function `get_critereon`, which will pick the appropriate `loss` function. \n",
        "\n",
        "  Hint: you may consult the [relevant PyTorch documentation](https://pytorch.org/docs/stable/nn.html#loss-functions)\n",
        "\n"
      ]
    },
    {
      "cell_type": "code",
      "execution_count": 27,
      "metadata": {
        "id": "fiOOMTfRaz60"
      },
      "outputs": [],
      "source": [
        "criterion = get_critereon()"
      ]
    },
    {
      "cell_type": "markdown",
      "metadata": {
        "id": "9y8MvhYcaZ4X"
      },
      "source": [
        "2. Finish the training loop by filling in the missing code for the `train_loop`  pass and `valid_loop` functions in `solution.py.`\n",
        "\n",
        "    Both loops must return the loss and AUC (computed the same way as the previous question). They must be returned by each function (see the docstring for more details)."
      ]
    },
    {
      "cell_type": "code",
      "execution_count": 30,
      "metadata": {
        "id": "KE_ODCimT5n8"
      },
      "outputs": [],
      "source": [
        "# optimizer = optim.Adam(list(model.parameters()), lr=learning_rate, betas=(0.9, 0.999))\n",
        "\n",
        "# valid_score_best = 0\n",
        "# patience = 2\n",
        "# num_epochs = 5  # you don't need to train this for that long!\n",
        "\n",
        "# for e in tqdm(range(num_epochs)):\n",
        "#     train_loss = train_loop(model, basset_dataloader_train, device, optimizer, criterion)\n",
        "#     train_loss = evaluate_model(model, basset_dataloader_train, optimizer, criterion, device, type = \"loss\")\n",
        "\n",
        "#     train_auc = evaluate_model(model, basset_dataloader_train, optimizer, compute_auc_trained_model, device, type = \"auc\")\n",
        "                   \n",
        "#     print(\" [LOSS] TRAIN SINGLE EPOCH{}\".format(\n",
        "#                 train_loss))\n",
        "            \n",
        "#     print(\" [AUC] TRAIN SINGLE EPOCH {}\".format(\n",
        "#                 train_auc))\n",
        "    \n",
        "#     valid_score, valid_loss = valid_loop(model, basset_dataloader_valid, device, optimizer, criterion)\n",
        "\n",
        "#     print('epoch {}: loss={:.3f} score={:.3f}'.format(e,\n",
        "#                                                       valid_loss,\n",
        "#                                                       valid_score))\n",
        "\n",
        "#     if valid_score > valid_score_best:\n",
        "#         print('Best score: {}. Saving model...'.format(valid_score))\n",
        "#         torch.save(model, 'model_params.pt')\n",
        "#         valid_score_best = valid_score\n",
        "#     else:\n",
        "#         patience -= 1\n",
        "#         print('Score did not improve! {} <= {}. Patience left: {}'.format(valid_score,\n",
        "#                                                                           valid_score_best,\n",
        "#                                                                           patience))\n",
        "#     if patience == 0:\n",
        "#         print('patience reduced to 0. Training Finished.')\n",
        "#         break"
      ]
    },
    {
      "cell_type": "markdown",
      "metadata": {
        "id": "P3WqwIe_2f3j"
      },
      "source": [
        "# **Question 5 (Interpreting the Model)**\n",
        "\n",
        "(30 points) In real-world applications of deep learning, it is *crucial* that we verify that our models are learning what we expect them to learn. In this exercise, we will replicate a part of figure 3b from [Basset](https://pubmed.ncbi.nlm.nih.gov/27197224/).\n",
        "\n",
        "In genetics, there exists well known DNA *motifs*: short sequences which appear throughtout our DNA, and whose function are well documented. We expect that the filters of the first convolution layer should learn to identify some of these motifs in order to solve this task.\n",
        "\n",
        "**Please submit the answers to this exercise on a single paged PDF!**\n",
        "\n",
        "1. First, we need to ensure that our model has learned something. Plot the ROC curve and compute the AUC of your model after training. Compare the ROC curves and the AUC before and after training with your simulated models. What do you notice?"
      ]
    },
    {
      "cell_type": "code",
      "source": [
        "import sklearn.metrics as metrics\n"
      ],
      "metadata": {
        "id": "wHwf8aB3hDWg"
      },
      "execution_count": 79,
      "outputs": []
    },
    {
      "cell_type": "code",
      "source": [
        "def compute_auc(y_true, y_model):\n",
        "\n",
        "    output = {'auc': 0.}\n",
        "\n",
        "    fpr_tpr = {'fpr_list': np.array([]), 'tpr_list': np.array([])}\n",
        "    for thresh in np.arange(0, 1, 0.05):\n",
        "        y_pred_th = y_model > thresh\n",
        "        y_pred_th = y_pred_th.astype(int)\n",
        "        out = compute_fpr_tpr(y_true, y_pred_th)\n",
        "        fpr_tpr['fpr_list'] = np.append(fpr_tpr['fpr_list'], out['fpr'])\n",
        "        fpr_tpr['tpr_list'] = np.append(fpr_tpr['tpr_list'], out['tpr'])\n",
        "    print(fpr_tpr['fpr_list'])\n",
        "    print(fpr_tpr['tpr_list'])\n",
        "    dx = np.diff(fpr_tpr['fpr_list'])\n",
        "\n",
        "    left_riemann_sum = abs(np.sum(fpr_tpr['tpr_list'][:-1] * dx))\n",
        "    print(\"Left Riemann Sum:\",left_riemann_sum)\n",
        "\n",
        "    right_riemann_sum = abs(np.sum(fpr_tpr['tpr_list'][1:] * dx))\n",
        "    print(\"Right Riemann Sum:\",right_riemann_sum)\n",
        "\n",
        "    output[\"auc\"] = (left_riemann_sum + right_riemann_sum)/2\n",
        "\n",
        "    return fpr_tpr['fpr_list'],fpr_tpr['tpr_list'], output[\"auc\"]"
      ],
      "metadata": {
        "id": "K8eYJ5m-m5iu"
      },
      "execution_count": 91,
      "outputs": []
    },
    {
      "cell_type": "code",
      "source": [
        "def plot_model_perf(model, untrained_model, dataloader, device):\n",
        "\n",
        "    # WRITE CODE HERE\n",
        "    # model = Basset()\n",
        "\n",
        "    \"\"\"\n",
        "    trained model eval\n",
        "    \"\"\"\n",
        "    y_pred = torch.tensor([], device=device)\n",
        "    y_true = torch.tensor([], device=device)\n",
        "    model.eval()\n",
        "    with torch.no_grad():\n",
        "        for batch in dataloader:\n",
        "                batch_x = batch[\"sequence\"]\n",
        "                batch_y = batch[\"target\"]\n",
        "\n",
        "                batch_x = batch_x.to(device)\n",
        "                batch_y = batch_y.to(device)\n",
        "\n",
        "                preds = model(batch_x)\n",
        "                # print(pred.shape)\n",
        "\n",
        "                y_true = torch.cat((y_true, batch_y), 0)\n",
        "                y_pred = torch.cat((y_pred, preds), 0)\n",
        "\n",
        "    y_true = y_true.cpu().numpy()  \n",
        "    (unique, counts) = np.unique(y_true, return_counts=True)\n",
        "    print(\"unique counts\")\n",
        "    print(unique)\n",
        "\n",
        "    print(y_true.shape)\n",
        "\n",
        "    # _, y_pred = torch.max(y_pred, 1)\n",
        "    # y_pred = y_pred.cpu().numpy()\n",
        "    y_pred_prob = torch.sigmoid(y_pred).cpu().numpy()\n",
        "\n",
        "    print(y_pred_prob.shape)\n",
        "\n",
        "    # fpr, tpr, threshold = metrics.roc_curve(y_true, y_pred_prob)\n",
        "    # roc_auc = metrics.auc(fpr, tpr)\n",
        "    # print(roc_auc)\n",
        "\n",
        "    \"\"\"\n",
        "    untrained model eval\n",
        "    \"\"\"\n",
        "\n",
        "    y_pred_un = torch.tensor([], device=device)\n",
        "    y_true_un = torch.tensor([], device=device)\n",
        "    untrained_model.eval()\n",
        "    with torch.no_grad():\n",
        "        for batch in dataloader:\n",
        "                batch_x = batch[\"sequence\"]\n",
        "                batch_y = batch[\"target\"]\n",
        "\n",
        "                batch_x = batch_x.to(device)\n",
        "                batch_y = batch_y.to(device)\n",
        "\n",
        "                preds_un = untrained_model(batch_x)\n",
        "                # print(pred.shape)\n",
        "\n",
        "                y_true_un = torch.cat((y_true_un, batch_y), 0)\n",
        "                y_pred_un = torch.cat((y_pred_un, preds_un), 0)\n",
        "\n",
        "    y_true_un = y_true_un.cpu().numpy()  \n",
        "    y_pred_prob_un = torch.sigmoid(y_pred_un).cpu().numpy()\n",
        "\n",
        "    #trained model metrics\n",
        "    fpr, tpr, auc = compute_auc(y_true_un, y_pred_prob)\n",
        "    #untrained model metrics\n",
        "    fpr_un, tpr_un, auc_un = compute_auc(y_true_un, y_pred_prob_un)\n",
        "    #plot the roc curve\n",
        "    plt.title('Receiver Operating Characteristic')\n",
        "    plt.plot(fpr, tpr, 'b', color='orange', label = 'AUC Trained Model= %0.2f' % auc)\n",
        "    plt.plot(fpr_un, tpr_un, 'b', label = 'AUC Untrained Model= %0.2f' % auc_un)\n",
        "    plt.legend(loc = 'lower right')\n",
        "    plt.plot([0, 1], [0, 1],'r--')\n",
        "    plt.xlim([0, 1])\n",
        "    plt.ylim([0, 1])\n",
        "    plt.ylabel('True Positive Rate')\n",
        "    plt.xlabel('False Positive Rate')\n",
        "    plt.show()\n"
      ],
      "metadata": {
        "id": "UM8_Ks5wfzlA"
      },
      "execution_count": 104,
      "outputs": []
    },
    {
      "cell_type": "code",
      "source": [
        "#plot models' roc curve\n",
        "plot_model_perf(model, untrained_model, basset_dataloader_test, device)"
      ],
      "metadata": {
        "colab": {
          "base_uri": "https://localhost:8080/",
          "height": 741
        },
        "id": "fGxOU3o-fMIL",
        "outputId": "a30a1076-ef52-4976-f632-9b9c7431e12e"
      },
      "execution_count": 105,
      "outputs": [
        {
          "output_type": "stream",
          "name": "stdout",
          "text": [
            "unique counts\n",
            "[0. 1.]\n",
            "(71872, 164)\n",
            "(71872, 164)\n",
            "[1.00000000e+00 1.26894690e-01 4.43028720e-02 2.09271644e-02\n",
            " 1.14794985e-02 6.81801595e-03 4.41095294e-03 3.06371618e-03\n",
            " 2.24782440e-03 1.69452446e-03 1.30705830e-03 1.00871369e-03\n",
            " 8.00705544e-04 6.41293375e-04 5.09390002e-04 3.92238979e-04\n",
            " 2.83418696e-04 1.91346670e-04 1.20969278e-04 5.92697395e-05]\n",
            "[1.         0.63772061 0.43830978 0.33931995 0.27746839 0.2337475\n",
            " 0.20439525 0.18366797 0.16584858 0.15098265 0.13690632 0.12360442\n",
            " 0.11118324 0.09958583 0.0884212  0.07699462 0.0647101  0.05147274\n",
            " 0.03701299 0.01978582]\n",
            "Left Riemann Sum: 0.9417869597207522\n",
            "Right Riemann Sum: 0.6057644368362777\n",
            "[1.         1.         1.         1.         1.         1.\n",
            " 1.         1.         1.         1.         0.54398947 0.\n",
            " 0.         0.         0.         0.         0.         0.\n",
            " 0.         0.        ]\n",
            "[1.         1.         1.         1.         1.         1.\n",
            " 1.         1.         1.         1.         0.56192938 0.\n",
            " 0.         0.         0.         0.         0.         0.\n",
            " 0.         0.        ]\n",
            "Left Riemann Sum: 0.7616941966528257\n",
            "Right Riemann Sum: 0.2562457150161657\n"
          ]
        },
        {
          "output_type": "display_data",
          "data": {
            "image/png": "[encoded data removed]",
            "text/plain": [
              "<Figure size 432x288 with 1 Axes>"
            ]
          },
          "metadata": {
            "needs_background": "light"
          }
        }
      ]
    },
    {
      "cell_type": "markdown",
      "metadata": {
        "id": "uiSdK0sue0up"
      },
      "source": [
        "2. We represent motifs as position weight matrices (PWMs). This is a matrix of size $4$ $\\times$ the motif length, where the $(i,j)$th entry is a count of how often base-pair $i$ occurs at position $j$. Open the PWM for the CTCF motif, which can be found in `MA0139.1.jaspar`. Normalize this matrix so that each column sums to $1$."
      ]
    },
    {
      "cell_type": "code",
      "source": [
        "!pip install biopython"
      ],
      "metadata": {
        "colab": {
          "base_uri": "https://localhost:8080/"
        },
        "id": "0beMokGNfav6",
        "outputId": "00a8dfd8-9810-4780-be41-92df797ae8b5"
      },
      "execution_count": 28,
      "outputs": [
        {
          "output_type": "stream",
          "name": "stdout",
          "text": [
            "Collecting biopython\n",
            "  Downloading biopython-1.79-cp37-cp37m-manylinux_2_5_x86_64.manylinux1_x86_64.whl (2.3 MB)\n",
            "\u001b[K     |████████████████████████████████| 2.3 MB 4.3 MB/s \n",
            "\u001b[?25hRequirement already satisfied: numpy in /usr/local/lib/python3.7/dist-packages (from biopython) (1.21.5)\n",
            "Installing collected packages: biopython\n",
            "Successfully installed biopython-1.79\n"
          ]
        }
      ]
    },
    {
      "cell_type": "code",
      "source": [
        "from Bio import motifs\n",
        "from Bio.Seq import Seq"
      ],
      "metadata": {
        "id": "LCj14O-seb5n"
      },
      "execution_count": 29,
      "outputs": []
    },
    {
      "cell_type": "code",
      "source": [
        "with open(\"/content/MA0139.1.jaspar\") as f:\n",
        "  for m in motifs.parse(f, \"jaspar\"):\n",
        "    counts = m.counts\n",
        "    m.weblogo(\"CTCF.pdf\", format = \"pdf\", show_ends = False, show_fineprint = True, show_yaxis = False, show_errorbars = False)"
      ],
      "metadata": {
        "id": "Owqt82NbfjDR"
      },
      "execution_count": 30,
      "outputs": []
    },
    {
      "cell_type": "code",
      "source": [
        "pwm_ctcf = counts.normalize()"
      ],
      "metadata": {
        "id": "vKNOm93ThUen"
      },
      "execution_count": 31,
      "outputs": []
    },
    {
      "cell_type": "code",
      "source": [
        "print(pwm_ctcf)"
      ],
      "metadata": {
        "colab": {
          "base_uri": "https://localhost:8080/"
        },
        "id": "zS6HvaPfhqRB",
        "outputId": "876c965e-5937-4120-d138-368dfaff585f"
      },
      "execution_count": 32,
      "outputs": [
        {
          "output_type": "stream",
          "name": "stdout",
          "text": [
            "        0      1      2      3      4      5      6      7      8      9     10     11     12     13     14     15     16     17     18\n",
            "A:   0.10   0.18   0.31   0.06   0.01   0.81   0.04   0.12   0.93   0.01   0.37   0.06   0.01   0.06   0.11   0.41   0.09   0.13   0.44\n",
            "C:   0.32   0.16   0.05   0.88   0.99   0.01   0.58   0.47   0.01   0.00   0.00   0.01   0.00   0.01   0.81   0.01   0.53   0.35   0.20\n",
            "G:   0.08   0.45   0.49   0.02   0.00   0.07   0.37   0.05   0.04   0.99   0.62   0.55   0.98   0.85   0.01   0.56   0.34   0.08   0.29\n",
            "T:   0.50   0.20   0.15   0.04   0.00   0.10   0.01   0.36   0.02   0.00   0.01   0.37   0.01   0.08   0.07   0.02   0.04   0.44   0.06\n",
            "\n"
          ]
        }
      ]
    },
    {
      "cell_type": "markdown",
      "metadata": {
        "id": "O1x6qoXteLaf"
      },
      "source": [
        "3. In the methods section of the [paper](https://pubmed.ncbi.nlm.nih.gov/27197224/) (page 998), the authors describe how they converted each of the $300$ filters into normalized PWMs. First, for each filter, they determined the maximum activated value across the *dataset* (you may use a subset of the test set here). Compute these values."
      ]
    },
    {
      "cell_type": "code",
      "source": [
        "print(m)"
      ],
      "metadata": {
        "colab": {
          "base_uri": "https://localhost:8080/"
        },
        "id": "84pOIAzxm7Ih",
        "outputId": "3f4a8729-ade0-4c2d-c266-e17c7ca48d35"
      },
      "execution_count": 33,
      "outputs": [
        {
          "output_type": "stream",
          "name": "stdout",
          "text": [
            "TF name\tCTCF\n",
            "Matrix ID\tMA0139.1\n",
            "Matrix:\n",
            "        0      1      2      3      4      5      6      7      8      9     10     11     12     13     14     15     16     17     18\n",
            "A:  87.00 167.00 281.00  56.00   8.00 744.00  40.00 107.00 851.00   5.00 333.00  54.00  12.00  56.00 104.00 372.00  82.00 117.00 402.00\n",
            "C: 291.00 145.00  49.00 800.00 903.00  13.00 528.00 433.00  11.00   0.00   3.00  12.00   0.00   8.00 733.00  13.00 482.00 322.00 181.00\n",
            "G:  76.00 414.00 449.00  21.00   0.00  65.00 334.00  48.00  32.00 903.00 566.00 504.00 890.00 775.00   5.00 507.00 307.00  73.00 266.00\n",
            "T: 459.00 187.00 134.00  36.00   2.00  91.00  11.00 324.00  18.00   3.00   9.00 341.00   8.00  71.00  67.00  17.00  37.00 396.00  59.00\n",
            "\n",
            "\n",
            "\n"
          ]
        }
      ]
    },
    {
      "cell_type": "code",
      "source": [
        "conv_layer = model.conv1\n",
        "conv_layer = conv_layer.to(device)\n",
        "\n",
        "max_act_mat = -100 * torch.ones(300)\n"
      ],
      "metadata": {
        "id": "lIhBlgqvjkHF"
      },
      "execution_count": 34,
      "outputs": []
    },
    {
      "cell_type": "code",
      "source": [
        "max_act_mat.shape"
      ],
      "metadata": {
        "colab": {
          "base_uri": "https://localhost:8080/"
        },
        "id": "ux2Ncyk9GpnE",
        "outputId": "ac669086-f404-40bd-ca5b-f5d882c91089"
      },
      "execution_count": 35,
      "outputs": [
        {
          "output_type": "execute_result",
          "data": {
            "text/plain": [
              "torch.Size([300])"
            ]
          },
          "metadata": {},
          "execution_count": 35
        }
      ]
    },
    {
      "cell_type": "code",
      "source": [
        "unfold = torch.nn.Unfold(kernel_size = (19,4), padding = (9,0), stride = 1)\n",
        "\n",
        "with torch.no_grad():\n",
        "  for _, batch in enumerate(tqdm(basset_dataloader_test)):\n",
        "    batch_x = batch[\"sequence\"].to(device)\n",
        "    conv_out = conv_layer(batch_x)\n",
        "    # print(conv_out.shape)\n",
        "    for i in range(300):\n",
        "      max_act_mat[i] = np.maximum(max_act_mat[i],torch.max(conv_out[:,i,:,0]).cpu().detach().numpy())\n",
        "\n",
        "print(max_act_mat.shape)\n",
        "print(max_act_mat)\n"
      ],
      "metadata": {
        "colab": {
          "base_uri": "https://localhost:8080/"
        },
        "id": "U5bQwLuh6NZj",
        "outputId": "91985bab-aa77-4e27-da97-74585fcd4ad8"
      },
      "execution_count": 36,
      "outputs": [
        {
          "output_type": "stream",
          "name": "stderr",
          "text": [
            "100%|██████████| 1123/1123 [01:21<00:00, 13.77it/s]"
          ]
        },
        {
          "output_type": "stream",
          "name": "stdout",
          "text": [
            "torch.Size([300])\n",
            "tensor([4.9700, 4.8929, 4.8372, 4.5354, 4.9796, 4.7282, 4.8245, 4.4463, 4.8523,\n",
            "        4.8572, 4.6083, 5.0555, 5.0254, 4.7123, 4.4172, 5.0435, 5.7545, 4.9731,\n",
            "        4.2831, 5.3378, 4.7958, 4.2009, 5.0374, 5.4140, 4.5781, 4.8891, 4.7411,\n",
            "        4.6867, 4.9395, 4.3737, 4.5427, 4.2368, 4.8394, 4.6089, 4.4521, 4.6637,\n",
            "        4.7382, 5.0788, 5.1028, 5.0574, 5.0675, 4.9962, 5.4123, 4.6317, 5.4619,\n",
            "        4.9343, 4.7872, 4.9316, 5.1589, 4.7506, 4.4100, 4.3558, 4.5409, 4.7757,\n",
            "        5.0973, 5.1993, 4.7863, 4.8345, 4.5571, 4.1687, 5.4508, 5.4500, 4.7653,\n",
            "        4.7747, 5.1056, 4.9593, 4.9124, 4.7413, 5.8432, 4.8026, 4.3194, 4.7410,\n",
            "        5.3293, 4.9093, 4.7543, 4.7217, 4.7356, 5.3756, 4.8163, 5.0583, 4.5049,\n",
            "        5.0095, 5.0922, 5.1565, 5.3730, 5.1228, 5.1545, 5.1919, 5.0479, 4.8696,\n",
            "        5.0396, 5.3449, 4.9375, 5.0782, 4.5718, 5.0748, 4.5006, 5.2899, 5.2331,\n",
            "        4.4156, 5.1286, 4.8962, 4.6013, 5.5388, 5.5039, 4.7675, 5.0292, 4.3501,\n",
            "        5.4168, 4.9573, 5.0045, 5.2493, 4.6435, 5.0178, 5.4273, 5.2519, 4.4927,\n",
            "        5.0407, 5.5956, 5.0774, 4.7478, 4.7678, 4.9560, 5.0957, 4.7336, 5.3907,\n",
            "        5.3437, 4.3922, 4.8602, 5.4377, 5.0040, 4.5450, 4.6904, 4.8887, 4.2741,\n",
            "        4.9745, 5.1173, 5.4940, 5.2881, 4.7090, 5.1309, 5.1282, 5.1603, 5.1623,\n",
            "        5.4961, 5.0425, 5.1140, 4.6164, 4.4672, 5.6263, 5.3436, 5.2996, 5.5840,\n",
            "        4.7339, 5.4618, 4.8436, 4.6564, 4.9919, 4.8667, 5.2010, 5.2079, 4.3815,\n",
            "        5.3647, 4.4172, 4.6267, 5.4861, 4.5036, 5.2858, 4.7552, 5.1732, 4.5573,\n",
            "        5.0991, 5.8201, 5.1752, 4.7877, 5.2179, 4.6877, 4.7879, 4.3946, 4.6772,\n",
            "        5.3641, 4.2221, 4.9895, 5.5901, 5.5133, 5.1678, 5.1879, 4.7797, 4.4872,\n",
            "        5.1978, 4.7903, 4.9254, 4.4785, 4.5196, 4.2323, 5.3526, 4.6082, 4.5372,\n",
            "        4.9647, 4.5912, 5.5391, 4.9031, 4.7646, 4.3345, 5.3250, 4.8732, 4.3797,\n",
            "        4.9926, 5.0363, 5.1705, 5.4526, 4.8883, 5.3946, 4.8993, 5.4584, 4.7516,\n",
            "        5.0658, 5.1867, 5.0605, 4.9673, 5.5076, 5.0003, 5.1601, 4.0438, 5.1456,\n",
            "        4.9192, 5.6912, 5.0478, 5.0258, 4.7735, 4.8840, 5.4381, 5.3697, 4.9253,\n",
            "        5.0077, 5.3757, 4.6757, 4.7792, 5.3389, 4.7667, 4.5967, 4.5084, 5.0726,\n",
            "        4.2111, 5.1912, 4.9448, 5.4222, 4.9991, 4.7006, 4.5704, 4.7674, 4.8048,\n",
            "        4.7537, 5.0933, 5.1240, 4.7476, 4.8252, 4.7433, 5.0613, 4.8186, 5.5451,\n",
            "        4.5317, 5.2276, 4.6227, 5.3607, 5.2847, 5.0898, 4.6635, 4.6540, 5.0480,\n",
            "        4.9872, 4.4640, 5.1671, 4.2371, 5.0884, 5.1951, 4.9403, 6.0243, 4.9484,\n",
            "        5.1501, 4.2167, 5.3230, 4.6456, 5.2940, 5.1217, 4.8155, 5.2322, 5.2669,\n",
            "        5.0025, 5.2163, 5.1859, 5.1324, 5.2705, 5.1720, 5.3720, 5.2285, 5.7654,\n",
            "        4.7376, 4.9308, 4.9046])\n"
          ]
        },
        {
          "output_type": "stream",
          "name": "stderr",
          "text": [
            "\n"
          ]
        }
      ]
    },
    {
      "cell_type": "markdown",
      "metadata": {
        "id": "VaVuQwub8Ap_"
      },
      "source": [
        "\n",
        "4. Next, they counted the base-pair occurrences in the set of sequences that activate the filter to a value that is more than half of its maximum value.\n",
        "\n",
        "  Note: You should use `torch.functional.unfold`."
      ]
    },
    {
      "cell_type": "code",
      "source": [
        "pwm = torch.zeros(300,19,4)"
      ],
      "metadata": {
        "id": "zvbyHFAIYIXP"
      },
      "execution_count": 37,
      "outputs": []
    },
    {
      "cell_type": "code",
      "source": [
        "unfold = torch.nn.Unfold(kernel_size = (19,4), padding = (9,0), stride = 1)\n",
        "\n",
        "with torch.no_grad():\n",
        "  for _, batch in enumerate(tqdm(basset_dataloader_test)):\n",
        "    batch_x = batch[\"sequence\"].to(device)\n",
        "    conv_out = conv_layer(batch_x)\n",
        "\n",
        "    print(conv_out.shape)\n",
        "    print(conv_out.squeeze().shape)\n",
        "    print(conv_out.squeeze().permute(0,2,1).shape)\n",
        "    conv_out = conv_out.squeeze().permute(0,2,1).flatten(0,1)\n",
        "    print(conv_out.shape)\n",
        "    \n",
        "    unfold_x = unfold(batch_x)\n",
        "    N,_, L = unfold_x.shape\n",
        "    print(N, L)\n",
        "    unfold_x = unfold_x.reshape(N, 19, 4, L)\n",
        "    print(unfold_x.shape)\n",
        "    print(unfold_x.permute(0,3,1,2).flatten(0,1).shape)\n",
        "    unfold_x = unfold_x.permute(0,3,1,2).flatten(0,1)\n",
        "    max_thresh = max_act_mat.unsqueeze(0).repeat(conv_out.shape[0], 1)\n",
        "    print(max_thresh.shape)\n",
        "    print(max_thresh)\n",
        "    threshold = max_thresh/2\n",
        "    activ_seq = torch.gt(conv_out.cpu(),threshold)\n",
        "    print(activ_seq.shape)\n",
        "\n",
        "    for i in tqdm(range(300)):\n",
        "      inds = activ_seq[:, i]\n",
        "      base_pairs = unfold_x[inds]\n",
        "      pwm_i = base_pairs.sum(dim = 0)\n",
        "      print(pwm_i.shape)\n",
        "      print(pwm_i)\n",
        "      pwm[i, ...] +=pwm_i.cpu()\n",
        "      break\n",
        "    break"
      ],
      "metadata": {
        "colab": {
          "base_uri": "https://localhost:8080/"
        },
        "id": "HJiTTADbOnqd",
        "outputId": "918d236f-e3e2-4076-d449-5ebd471f3dd1"
      },
      "execution_count": 38,
      "outputs": [
        {
          "output_type": "stream",
          "name": "stderr",
          "text": [
            "\r  0%|          | 0/1123 [00:00<?, ?it/s]"
          ]
        },
        {
          "output_type": "stream",
          "name": "stdout",
          "text": [
            "torch.Size([64, 300, 600, 1])\n",
            "torch.Size([64, 300, 600])\n",
            "torch.Size([64, 600, 300])\n",
            "torch.Size([38400, 300])\n",
            "64 600\n",
            "torch.Size([64, 19, 4, 600])\n",
            "torch.Size([38400, 19, 4])\n",
            "torch.Size([38400, 300])\n",
            "tensor([[4.9700, 4.8929, 4.8372,  ..., 4.7376, 4.9308, 4.9046],\n",
            "        [4.9700, 4.8929, 4.8372,  ..., 4.7376, 4.9308, 4.9046],\n",
            "        [4.9700, 4.8929, 4.8372,  ..., 4.7376, 4.9308, 4.9046],\n",
            "        ...,\n",
            "        [4.9700, 4.8929, 4.8372,  ..., 4.7376, 4.9308, 4.9046],\n",
            "        [4.9700, 4.8929, 4.8372,  ..., 4.7376, 4.9308, 4.9046],\n",
            "        [4.9700, 4.8929, 4.8372,  ..., 4.7376, 4.9308, 4.9046]])\n",
            "torch.Size([38400, 300])\n"
          ]
        },
        {
          "output_type": "stream",
          "name": "stderr",
          "text": [
            "\n",
            "  0%|          | 0/300 [00:00<?, ?it/s]\n",
            "  0%|          | 0/1123 [00:00<?, ?it/s]"
          ]
        },
        {
          "output_type": "stream",
          "name": "stdout",
          "text": [
            "torch.Size([19, 4])\n",
            "tensor([[229., 159., 115., 337.],\n",
            "        [334., 146.,  46., 316.],\n",
            "        [ 72., 132., 148., 490.],\n",
            "        [283., 145.,  40., 376.],\n",
            "        [ 95., 128., 172., 449.],\n",
            "        [400., 161.,  77., 206.],\n",
            "        [329., 142.,  70., 304.],\n",
            "        [262., 126., 175., 282.],\n",
            "        [345., 114., 184., 202.],\n",
            "        [280.,  31.,  99., 435.],\n",
            "        [312.,  34., 132., 367.],\n",
            "        [267., 165., 127., 286.],\n",
            "        [ 29., 163.,  35., 618.],\n",
            "        [365., 163.,  94., 223.],\n",
            "        [400.,  16., 187., 242.],\n",
            "        [345.,  15., 389.,  96.],\n",
            "        [ 13.,  81., 181., 570.],\n",
            "        [557.,  52.,  97., 139.],\n",
            "        [ 96., 295.,  60., 393.]], device='cuda:0')\n"
          ]
        },
        {
          "output_type": "stream",
          "name": "stderr",
          "text": [
            "\n"
          ]
        }
      ]
    },
    {
      "cell_type": "code",
      "source": [
        "pwm_i.shape"
      ],
      "metadata": {
        "colab": {
          "base_uri": "https://localhost:8080/"
        },
        "id": "edGPRYIN8us7",
        "outputId": "b56337ca-005c-4085-b5ad-abfaf7109cc3"
      },
      "execution_count": 39,
      "outputs": [
        {
          "output_type": "execute_result",
          "data": {
            "text/plain": [
              "torch.Size([19, 4])"
            ]
          },
          "metadata": {},
          "execution_count": 39
        }
      ]
    },
    {
      "cell_type": "code",
      "source": [
        "batch_x.shape"
      ],
      "metadata": {
        "colab": {
          "base_uri": "https://localhost:8080/"
        },
        "id": "8qfh9HcN2Ndo",
        "outputId": "cc2be61e-f24b-4ae3-c082-baa2d27be5b4"
      },
      "execution_count": 40,
      "outputs": [
        {
          "output_type": "execute_result",
          "data": {
            "text/plain": [
              "torch.Size([64, 1, 600, 4])"
            ]
          },
          "metadata": {},
          "execution_count": 40
        }
      ]
    },
    {
      "cell_type": "code",
      "source": [
        "unfold = torch.nn.Unfold(kernel_size = (19,4), padding = (9,0), stride = 1)\n",
        "\n",
        "with torch.no_grad():\n",
        "  for _, batch in enumerate(tqdm(basset_dataloader_test)):\n",
        "    batch_x = batch[\"sequence\"].to(device)\n",
        "    conv_out = conv_layer(batch_x)\n",
        "    conv_out = conv_out.squeeze().permute(0,2,1).flatten(0,1)\n",
        "    unfold_x = unfold(batch_x)\n",
        "    N,_, L = unfold_x.shape\n",
        "    unfold_x = unfold_x.reshape(N, 19, 4, L)\n",
        "    unfold_x = unfold_x.permute(0,3,1,2).flatten(0,1)\n",
        "    max = max_act_mat.unsqueeze(0).repeat(conv_out.shape[0], 1)\n",
        "    threshold = max/2\n",
        "    activ_seq = torch.gt(conv_out.cpu(),threshold)\n",
        "    for i in range(300):\n",
        "      inds = activ_seq[:, i]\n",
        "      base_pairs = unfold_x[inds]\n",
        "      pwm_i = base_pairs.sum(dim = 0)\n",
        "      pwm[i, ...] +=pwm_i.cpu()\n",
        "      "
      ],
      "metadata": {
        "colab": {
          "base_uri": "https://localhost:8080/"
        },
        "id": "1qrQCYDjcw-B",
        "outputId": "3961550e-bbeb-45c8-ad11-08ff372a7864"
      },
      "execution_count": 41,
      "outputs": [
        {
          "output_type": "stream",
          "name": "stderr",
          "text": [
            "100%|██████████| 1123/1123 [03:40<00:00,  5.09it/s]\n"
          ]
        }
      ]
    },
    {
      "cell_type": "code",
      "source": [
        " pwm.shape"
      ],
      "metadata": {
        "colab": {
          "base_uri": "https://localhost:8080/"
        },
        "id": "4akn_Py9dqYc",
        "outputId": "a9379367-2b23-485e-983d-ab9a17c8188e"
      },
      "execution_count": 42,
      "outputs": [
        {
          "output_type": "execute_result",
          "data": {
            "text/plain": [
              "torch.Size([300, 19, 4])"
            ]
          },
          "metadata": {},
          "execution_count": 42
        }
      ]
    },
    {
      "cell_type": "code",
      "source": [
        "pwm[0]"
      ],
      "metadata": {
        "colab": {
          "base_uri": "https://localhost:8080/"
        },
        "id": "l_6DsA70kFWw",
        "outputId": "350668a3-e38b-4d4a-ad7d-de4f618bdc73"
      },
      "execution_count": 43,
      "outputs": [
        {
          "output_type": "execute_result",
          "data": {
            "text/plain": [
              "tensor([[211898., 165819., 104519., 329549.],\n",
              "        [307782., 140395.,  56762., 308141.],\n",
              "        [ 69048., 127682., 158451., 458916.],\n",
              "        [265356., 148346.,  43570., 357644.],\n",
              "        [ 93693., 128739., 178031., 415024.],\n",
              "        [362698., 166875.,  70943., 215457.],\n",
              "        [335356., 147633.,  68880., 264553.],\n",
              "        [238865., 119372., 191304., 267340.],\n",
              "        [338439., 103637., 202578., 172618.],\n",
              "        [261354.,  33685., 113889., 408607.],\n",
              "        [304992.,  43202., 147710., 321631.],\n",
              "        [229362., 155182., 143297., 289694.],\n",
              "        [ 27536., 155303.,  31721., 602975.],\n",
              "        [332249., 167460.,  87462., 230297.],\n",
              "        [405881.,  11106., 209228., 191166.],\n",
              "        [319891.,  14111., 377345., 105848.],\n",
              "        [  7032.,  74600., 208048., 527080.],\n",
              "        [516857.,  56215., 116696., 126097.],\n",
              "        [ 89466., 312913.,  50735., 361602.]])"
            ]
          },
          "metadata": {},
          "execution_count": 43
        }
      ]
    },
    {
      "cell_type": "code",
      "source": [
        "pwm[i,:,:].shape"
      ],
      "metadata": {
        "colab": {
          "base_uri": "https://localhost:8080/"
        },
        "id": "0bYWlliNh4Ax",
        "outputId": "c3fdfe82-6f5e-4c9d-c626-9fe4f4c4142b"
      },
      "execution_count": 44,
      "outputs": [
        {
          "output_type": "execute_result",
          "data": {
            "text/plain": [
              "torch.Size([19, 4])"
            ]
          },
          "metadata": {},
          "execution_count": 44
        }
      ]
    },
    {
      "cell_type": "markdown",
      "metadata": {
        "id": "MIClN1pr8rc-"
      },
      "source": [
        "5. Given your 300 PWMs derived from your convolution filters, check to see if any of them are similar to the PWM for CTCF. You could quantify the similarity using *Pearson Correlation Coefficient*. Make a visualization of the PWM of the CTCF motif along with the most similar ones learned from the network. "
      ]
    },
    {
      "cell_type": "code",
      "source": [
        "from scipy import stats as stats"
      ],
      "metadata": {
        "id": "IjRXekQciDBQ"
      },
      "execution_count": 45,
      "outputs": []
    },
    {
      "cell_type": "code",
      "source": [
        "pwm_ctcf_dict = dict(pwm_ctcf)"
      ],
      "metadata": {
        "id": "OHBzmcxmit3K"
      },
      "execution_count": 46,
      "outputs": []
    },
    {
      "cell_type": "code",
      "source": [
        "pwm_ctcf_arr = list(pwm_ctcf_dict.values())\n",
        "pwm_ctcf_arr = np.array(pwm_ctcf_arr).T"
      ],
      "metadata": {
        "id": "AjTJLlZipWM-"
      },
      "execution_count": 47,
      "outputs": []
    },
    {
      "cell_type": "code",
      "source": [
        "pwm_ctcf_arr.shape"
      ],
      "metadata": {
        "colab": {
          "base_uri": "https://localhost:8080/"
        },
        "id": "jlNAZ3RqpzXB",
        "outputId": "cb60756a-3f6e-4007-db15-c9eee28788b4"
      },
      "execution_count": 48,
      "outputs": [
        {
          "output_type": "execute_result",
          "data": {
            "text/plain": [
              "(19, 4)"
            ]
          },
          "metadata": {},
          "execution_count": 48
        }
      ]
    },
    {
      "cell_type": "code",
      "source": [
        "flat_ctcf = pwm_ctcf_arr.flatten()\n",
        "flat_ctcf.shape"
      ],
      "metadata": {
        "colab": {
          "base_uri": "https://localhost:8080/"
        },
        "id": "01zCad45rhpk",
        "outputId": "00d3e3c6-1f24-4633-e7a7-d489081e4858"
      },
      "execution_count": 49,
      "outputs": [
        {
          "output_type": "execute_result",
          "data": {
            "text/plain": [
              "(76,)"
            ]
          },
          "metadata": {},
          "execution_count": 49
        }
      ]
    },
    {
      "cell_type": "code",
      "source": [
        "similarity_scores = []\n",
        "for i in tqdm(range(300)):\n",
        "  filter_pwm_norm = pwm[i,:,:]\n",
        "  filter_pwm_norm /=  filter_pwm_norm.sum(axis=1)[:,np.newaxis]\n",
        "  flat_filter = filter_pwm_norm.flatten()\n",
        "  sim = stats.pearsonr(flat_ctcf, flat_filter)\n",
        "  similarity_scores.append(sim)\n"
      ],
      "metadata": {
        "colab": {
          "base_uri": "https://localhost:8080/"
        },
        "id": "gd25-XZii-oL",
        "outputId": "60eea3d0-fe13-472e-ab4b-9eed94dbd0ff"
      },
      "execution_count": 50,
      "outputs": [
        {
          "output_type": "stream",
          "name": "stderr",
          "text": [
            "100%|██████████| 300/300 [00:00<00:00, 5611.81it/s]\n"
          ]
        }
      ]
    },
    {
      "cell_type": "code",
      "source": [
        "max(similarity_scores)"
      ],
      "metadata": {
        "id": "cNagtNXtFTIs",
        "colab": {
          "base_uri": "https://localhost:8080/"
        },
        "outputId": "7c946524-a99a-4ebc-8dad-25e0b897399a"
      },
      "execution_count": 64,
      "outputs": [
        {
          "output_type": "execute_result",
          "data": {
            "text/plain": [
              "(0.7806102739969752, 9.244477685536505e-17)"
            ]
          },
          "metadata": {},
          "execution_count": 64
        }
      ]
    },
    {
      "cell_type": "code",
      "source": [
        "similarity_scores = [x[0] for x in similarity_scores]\n",
        "max(similarity_scores)"
      ],
      "metadata": {
        "colab": {
          "base_uri": "https://localhost:8080/"
        },
        "id": "CkA4rHH911FZ",
        "outputId": "fbb81f48-f84d-4e55-dedd-8893ed07a2bc"
      },
      "execution_count": 65,
      "outputs": [
        {
          "output_type": "execute_result",
          "data": {
            "text/plain": [
              "0.7806102739969752"
            ]
          },
          "metadata": {},
          "execution_count": 65
        }
      ]
    },
    {
      "cell_type": "code",
      "source": [
        "most_sim_ind = similarity_scores.index(max(similarity_scores))\n",
        "most_sim_conv_pwm = pwm[most_sim_ind, :,:]\n",
        "most_sim_conv_pwm.shape"
      ],
      "metadata": {
        "colab": {
          "base_uri": "https://localhost:8080/"
        },
        "id": "DsCbhuyFPm3r",
        "outputId": "69c734cd-7486-4538-b9e9-73b620d0094b"
      },
      "execution_count": 55,
      "outputs": [
        {
          "output_type": "execute_result",
          "data": {
            "text/plain": [
              "torch.Size([19, 4])"
            ]
          },
          "metadata": {},
          "execution_count": 55
        }
      ]
    },
    {
      "cell_type": "code",
      "source": [
        "len(set(similarity_scores))"
      ],
      "metadata": {
        "id": "3ANTr-jo18n3"
      },
      "execution_count": null,
      "outputs": []
    },
    {
      "cell_type": "code",
      "source": [
        "import matplotlib.pyplot as plt\n",
        "plt.hist(similarity_scores, 300)"
      ],
      "metadata": {
        "id": "ovYU2uua1VBo"
      },
      "execution_count": null,
      "outputs": []
    },
    {
      "cell_type": "code",
      "source": [
        "np.isnan(similarity_scores).any()"
      ],
      "metadata": {
        "id": "O5B3FdYoMGJk"
      },
      "execution_count": null,
      "outputs": []
    },
    {
      "cell_type": "code",
      "source": [
        "top_2_score = sorted(similarity_scores)[-2]\n",
        "print(top_2_score)\n",
        "second_sim_ind = similarity_scores.index(top_2_score)"
      ],
      "metadata": {
        "colab": {
          "base_uri": "https://localhost:8080/"
        },
        "id": "6-ZfSHs30B7y",
        "outputId": "38721715-ea47-4d9b-8870-fe1e84d9d39c"
      },
      "execution_count": 120,
      "outputs": [
        {
          "output_type": "stream",
          "name": "stdout",
          "text": [
            "0.5874470076599283\n"
          ]
        }
      ]
    },
    {
      "cell_type": "code",
      "source": [
        "most_sim_conv_pwm_2 = pwm[second_sim_ind, :, :]"
      ],
      "metadata": {
        "id": "nbtvz5XQ0PQy"
      },
      "execution_count": 118,
      "outputs": []
    },
    {
      "cell_type": "markdown",
      "source": [
        "# Fancy Sequence PLOTS"
      ],
      "metadata": {
        "id": "R_txcPrzLYSz"
      }
    },
    {
      "cell_type": "code",
      "source": [
        "import seaborn as sns\n"
      ],
      "metadata": {
        "id": "dnc_pO6kZc1P"
      },
      "execution_count": 57,
      "outputs": []
    },
    {
      "cell_type": "code",
      "source": [
        "most_sim_conv_pwm = most_sim_conv_pwm.numpy"
      ],
      "metadata": {
        "id": "nmTTJeXSv6_1"
      },
      "execution_count": 111,
      "outputs": []
    },
    {
      "cell_type": "code",
      "source": [
        "most_sim_conv_pwm.shape"
      ],
      "metadata": {
        "colab": {
          "base_uri": "https://localhost:8080/"
        },
        "id": "9yZfsaX2wHFR",
        "outputId": "efa6be52-48ec-4dcb-c9d3-c910a99841f4"
      },
      "execution_count": 113,
      "outputs": [
        {
          "output_type": "execute_result",
          "data": {
            "text/plain": [
              "(19, 4)"
            ]
          },
          "metadata": {},
          "execution_count": 113
        }
      ]
    },
    {
      "cell_type": "code",
      "source": [
        "alphabets = [\"A\", \"C\", \"G\", \"T\"]"
      ],
      "metadata": {
        "id": "qpraiePkcwva"
      },
      "execution_count": 68,
      "outputs": []
    },
    {
      "cell_type": "code",
      "source": [
        "import matplotlib.pyplot as plt\n",
        "ax = sns.heatmap(most_sim_conv_pwm.T, \n",
        "                 yticklabels = alphabets,\n",
        "                 cbar_kws={\"orientation\": \"horizontal\"},\n",
        "                 cmap=\"YlGnBu\") \n",
        "plt.show()"
      ],
      "metadata": {
        "colab": {
          "base_uri": "https://localhost:8080/",
          "height": 249
        },
        "id": "-gc7caK6ZS3p",
        "outputId": "339345f0-e5ff-4c8a-8dae-bffa3106909a"
      },
      "execution_count": 102,
      "outputs": [
        {
          "output_type": "display_data",
          "data": {
            "image/png": "[encoded data removed]",
            "text/plain": [
              "<Figure size 432x288 with 2 Axes>"
            ]
          },
          "metadata": {
            "needs_background": "light"
          }
        }
      ]
    },
    {
      "cell_type": "code",
      "source": [
        "ax = sns.heatmap(pwm_ctcf_arr.T, \n",
        "                 yticklabels = alphabets,\n",
        "                 cbar_kws={\"orientation\": \"horizontal\"},\n",
        "                 cmap=\"YlGnBu\") \n",
        "plt.show()"
      ],
      "metadata": {
        "colab": {
          "base_uri": "https://localhost:8080/",
          "height": 249
        },
        "id": "ZfFrHRLzaOlz",
        "outputId": "a26d0c12-0492-4ec8-efda-4fd884038813"
      },
      "execution_count": 103,
      "outputs": [
        {
          "output_type": "display_data",
          "data": {
            "image/png": "[encoded data removed]",
            "text/plain": [
              "<Figure size 432x288 with 2 Axes>"
            ]
          },
          "metadata": {
            "needs_background": "light"
          }
        }
      ]
    },
    {
      "cell_type": "code",
      "source": [
        "ax = sns.heatmap(most_sim_conv_pwm_2.T, \n",
        "                 yticklabels = alphabets,\n",
        "                 cbar_kws={\"orientation\": \"horizontal\"},\n",
        "                 cmap=\"YlGnBu\") \n",
        "plt.show()"
      ],
      "metadata": {
        "colab": {
          "base_uri": "https://localhost:8080/",
          "height": 249
        },
        "id": "8lgedMJs0d6b",
        "outputId": "0860485f-8d50-4ab6-ee7d-63ee87b00495"
      },
      "execution_count": 119,
      "outputs": [
        {
          "output_type": "display_data",
          "data": {
            "image/png": "[encoded data removed]",
            "text/plain": [
              "<Figure size 432x288 with 2 Axes>"
            ]
          },
          "metadata": {
            "needs_background": "light"
          }
        }
      ]
    },
    {
      "cell_type": "code",
      "source": [
        "import matplotlib.pyplot as plt\n",
        "ax = sns.heatmap(most_sim_conv_pwm.T) # linewidth=0.5)\n",
        "plt.show()"
      ],
      "metadata": {
        "id": "vscOT7phaJjB"
      },
      "execution_count": null,
      "outputs": []
    },
    {
      "cell_type": "code",
      "source": [
        "del max"
      ],
      "metadata": {
        "id": "43ufZ7zZlho0"
      },
      "execution_count": 52,
      "outputs": []
    },
    {
      "cell_type": "code",
      "source": [
        ""
      ],
      "metadata": {
        "id": "cQod4BSVvAkl"
      },
      "execution_count": null,
      "outputs": []
    }
  ],
  "metadata": {
    "colab": {
      "collapsed_sections": [],
      "name": "Copy_of_main_EN.ipynb",
      "provenance": []
    },
    "kernelspec": {
      "display_name": "Python 3.8",
      "language": "python",
      "name": "python3"
    },
    "language_info": {
      "codemirror_mode": {
        "name": "ipython",
        "version": 3
      },
      "file_extension": ".py",
      "mimetype": "text/x-python",
      "name": "python",
      "nbconvert_exporter": "python",
      "pygments_lexer": "ipython3",
      "version": "3.8.2"
    },
    "accelerator": "GPU"
  },
  "nbformat": 4,
  "nbformat_minor": 0
}