{
  "cells": [
    {
      "cell_type": "markdown",
      "metadata": {
        "id": "view-in-github",
        "colab_type": "text"
      },
      "source": [
        "<a href=\"https://colab.research.google.com/github/KrishnaManeeshaDendukuri/IFT6135_Programming/blob/main/assignment3/q2_solution.ipynb\" target=\"_parent\"><img src=\"https://colab.research.google.com/assets/colab-badge.svg\" alt=\"Open In Colab\"/></a>"
      ]
    },
    {
      "cell_type": "code",
      "source": [
        "!git clone https://github.com/KrishnaManeeshaDendukuri/IFT6135_Programming.git"
      ],
      "metadata": {
        "id": "m6bgJnkZx2vw",
        "outputId": "9f907e35-3930-494b-a6b9-daebd8bebd3b",
        "colab": {
          "base_uri": "https://localhost:8080/"
        }
      },
      "execution_count": 1,
      "outputs": [
        {
          "output_type": "stream",
          "name": "stdout",
          "text": [
            "Cloning into 'IFT6135_Programming'...\n",
            "remote: Enumerating objects: 172, done.\u001b[K\n",
            "remote: Counting objects: 100% (172/172), done.\u001b[K\n",
            "remote: Compressing objects: 100% (145/145), done.\u001b[K\n",
            "remote: Total 172 (delta 79), reused 73 (delta 24), pack-reused 0\u001b[K\n",
            "Receiving objects: 100% (172/172), 3.72 MiB | 19.55 MiB/s, done.\n",
            "Resolving deltas: 100% (79/79), done.\n"
          ]
        }
      ]
    },
    {
      "cell_type": "code",
      "source": [
        "import sys\n",
        "sys.path.append(\"/content/IFT6135_Programming/assignment3\")"
      ],
      "metadata": {
        "id": "oNQjG3kCx9xK"
      },
      "execution_count": 2,
      "outputs": []
    },
    {
      "cell_type": "code",
      "execution_count": 7,
      "source": [
        "import torch\n",
        "from q2_sampler import svhn_sampler\n",
        "from q2_model import Critic, Generator\n",
        "from torch import optim\n",
        "from torchvision.utils import save_image\n"
      ],
      "outputs": [],
      "metadata": {
        "id": "taSAYnPwO6yP"
      }
    },
    {
      "cell_type": "code",
      "execution_count": 8,
      "source": [
        "\n",
        "def lp_reg(x, y, critic):\n",
        "    \"\"\"\n",
        "    COMPLETE ME. DONT MODIFY THE PARAMETERS OF THE FUNCTION. Otherwise, tests might fail.\n",
        "\n",
        "    *** The notation used for the parameters follow the one from Petzka et al: https://arxiv.org/pdf/1709.08894.pdf\n",
        "    In other word, x are samples from the distribution mu and y are samples from the distribution nu. The critic is the\n",
        "    equivalent of f in the paper. Also consider that the norm used is the L2 norm. This is important to consider,\n",
        "    because we make the assumption that your implementation follows this notation when testing your function. ***\n",
        "\n",
        "    :param x: (FloatTensor) - shape: (batchsize x featuresize) - Samples from a distribution P.\n",
        "    :param y: (FloatTensor) - shape: (batchsize x featuresize) - Samples from a distribution Q.\n",
        "    :param critic: (Module) - torch module that you want to regularize.\n",
        "    :return: (FloatTensor) - shape: (1,) - Lipschitz penalty\n",
        "    \"\"\"\n",
        "    # u_dist = torch.distributions.Uniform(0,1)\n",
        "    # to be used as loss? \n",
        "    batch_size = x.size(2)\n",
        "    a = torch.FloatTensor(batch_size).uniform_(0, 1)\n",
        "    \n",
        "    one_minus_a = (1 - a[:,None]).to(device)\n",
        "    a = a[:,None].to(device)\n",
        "    # print(a.get_device())\n",
        "    # print(one_minus_a.get_device())\n",
        "    # print(a.shape, one_minus_a.shape)\n",
        "    z = x*a + y*one_minus_a\n",
        "\n",
        "    z = torch.autograd.Variable(z,requires_grad=True)\n",
        "\n",
        "    f_z = critic(z)\n",
        "\n",
        "    grad_z = torch.autograd.grad(outputs=f_z, inputs=z,\n",
        "                               grad_outputs=torch.ones(f_z.size()).to(device),\n",
        "                               create_graph=True, retain_graph=True)[0]\n",
        "\n",
        "    grad_z = grad_z.view(grad_z.size(0),-1)\n",
        "\n",
        "    lp = torch.mean(torch.relu(torch.norm(grad_z,p=2,dim=-1, keepdim=True)-1)**2,dim=0)\n",
        "    return lp"
      ],
      "outputs": [],
      "metadata": {
        "id": "bb79xSkaO6yR"
      }
    },
    {
      "cell_type": "code",
      "execution_count": 9,
      "source": [
        "def vf_wasserstein_distance(p, q, critic):\n",
        "    \"\"\"\n",
        "    COMPLETE ME. DONT MODIFY THE PARAMETERS OF THE FUNCTION. Otherwise, tests might fail.\n",
        "\n",
        "    *** The notation used for the parameters follow the one from Petzka et al: https://arxiv.org/pdf/1709.08894.pdf\n",
        "    In other word, x are samples from the distribution mu and y are samples from the distribution nu. The critic is the\n",
        "    equivalent of f in the paper. This is important to consider, because we make the assuption that your implementation\n",
        "    follows this notation when testing your function. ***\n",
        "\n",
        "    :param p: (FloatTensor) - shape: (batchsize x featuresize) - Samples from a distribution p.\n",
        "    :param q: (FloatTensor) - shape: (batchsize x featuresize) - Samples from a distribution q.\n",
        "    :param critic: (Module) - torch module used to compute the Wasserstein distance\n",
        "    :return: (FloatTensor) - shape: (1,) - Estimate of the Wasserstein distance\n",
        "    \"\"\"\n",
        "    f_p = critic(p)\n",
        "    f_q = critic(q)\n",
        "\n",
        "    wass_dist = torch.mean(f_p, dim=0) - torch.mean(f_q, dim=0)\n",
        "    return wass_dist\n"
      ],
      "outputs": [],
      "metadata": {
        "id": "Q579CuKsO6yT"
      }
    },
    {
      "cell_type": "code",
      "execution_count": 10,
      "source": [
        "if __name__ == '__main__':\n",
        "    # Example of usage of the code provided and recommended hyper parameters for training GANs.\n",
        "    data_root = './'\n",
        "    device = 'cuda' if torch.cuda.is_available() else 'cpu'\n",
        "    n_iter = 50000 # N training iterations\n",
        "    n_critic_updates = 5 # N critic updates per generator update\n",
        "    lp_coeff = 10 # Lipschitz penalty coefficient\n",
        "    train_batch_size = 64\n",
        "    test_batch_size = 64\n",
        "    lr = 1e-4\n",
        "    beta1 = 0.5\n",
        "    beta2 = 0.9\n",
        "    z_dim = 100\n",
        "\n",
        "    train_loader, valid_loader, test_loader = svhn_sampler(data_root, train_batch_size, test_batch_size)\n",
        "\n",
        "    generator = Generator(z_dim=z_dim).to(device)\n",
        "    critic = Critic().to(device)\n",
        "\n",
        "    optim_critic = optim.Adam(critic.parameters(), lr=lr, betas=(beta1, beta2))\n",
        "    optim_generator = optim.Adam(generator.parameters(), lr=lr, betas=(beta1, beta2))\n",
        "\n",
        "    # COMPLETE TRAINING PROCEDURE\n",
        "    train_iter = iter(train_loader)\n",
        "    valid_iter = iter(valid_loader)\n",
        "    test_iter = iter(test_loader)\n",
        "    for i in range(n_iter):\n",
        "        generator.train()\n",
        "        critic.train()\n",
        "        for _ in range(n_critic_updates):\n",
        "            try:\n",
        "                data = next(train_iter)[0].to(device)\n",
        "            except Exception:\n",
        "                train_iter = iter(train_loader)\n",
        "                data = next(train_iter)[0].to(device)\n",
        "            #####\n",
        "            # train the critic model here\n",
        "            #####\n",
        "            # print(data[0].shape)\n",
        "            optim_critic.zero_grad()\n",
        "            generated_data = generator(torch.rand(data.shape[0], z_dim,1,1).to(device))\n",
        "            \n",
        "            d_real = critic(data)\n",
        "            d_generated = critic(generated_data)\n",
        "            \n",
        "            # print(d_real.shape)\n",
        "            # print(d_generated.shape)\n",
        "            gp = lp_reg(data,generated_data,critic)\n",
        "            d_loss = vf_wasserstein_distance(data, generated_data, critic) + lp_coeff * gp\n",
        "\n",
        "            d_loss.backward()\n",
        "            optim_critic.step()\n",
        "\n",
        "\n",
        "        #####\n",
        "        # train the generator model here\n",
        "        #####\n",
        "        optim_generator.zero_grad()\n",
        "        generated_data = generator(torch.rand(data.shape[0], z_dim,1,1).to(device))\n",
        "        d_generated = critic(generated_data)\n",
        "        g_loss = d_generated.mean()\n",
        "        g_loss.backward()\n",
        "        optim_generator.step()\n",
        "\n",
        "        # Save sample images \n",
        "        if i % 100 == 0:\n",
        "            z = torch.randn(64, z_dim, device=device)\n",
        "            imgs = generator(z)\n",
        "            save_image(imgs, f'imgs_{i}.png', normalize=True, value_range=(-1, 1))\n",
        "\n",
        "\n",
        "    # COMPLETE QUALITATIVE EVALUATION\n"
      ],
      "outputs": [
        {
          "output_type": "stream",
          "name": "stdout",
          "text": [
            "Downloading http://ufldl.stanford.edu/housenumbers/train_32x32.mat to ./train_32x32.mat\n"
          ]
        },
        {
          "output_type": "display_data",
          "data": {
            "text/plain": [
              "  0%|          | 0/182040794 [00:00<?, ?it/s]"
            ],
            "application/vnd.jupyter.widget-view+json": {
              "version_major": 2,
              "version_minor": 0,
              "model_id": "729774ae7d1948ecbcd1df11318efc18"
            }
          },
          "metadata": {}
        },
        {
          "output_type": "stream",
          "name": "stdout",
          "text": [
            "Using downloaded and verified file: ./train_32x32.mat\n",
            "Downloading http://ufldl.stanford.edu/housenumbers/test_32x32.mat to ./test_32x32.mat\n"
          ]
        },
        {
          "output_type": "display_data",
          "data": {
            "text/plain": [
              "  0%|          | 0/64275384 [00:00<?, ?it/s]"
            ],
            "application/vnd.jupyter.widget-view+json": {
              "version_major": 2,
              "version_minor": 0,
              "model_id": "6d0d26ccdef449ad8a001de53f456cb9"
            }
          },
          "metadata": {}
        },
        {
          "output_type": "stream",
          "name": "stderr",
          "text": [
            "/usr/local/lib/python3.7/dist-packages/torch/utils/data/dataloader.py:481: UserWarning: This DataLoader will create 4 worker processes in total. Our suggested max number of worker in current system is 2, which is smaller than what this DataLoader is going to create. Please be aware that excessive worker creation might get DataLoader running slow or even freeze, lower the worker number to avoid potential slowness/freeze if necessary.\n",
            "  cpuset_checked))\n"
          ]
        },
        {
          "output_type": "error",
          "ename": "KeyboardInterrupt",
          "evalue": "ignored",
          "traceback": [
            "\u001b[0;31m---------------------------------------------------------------------------\u001b[0m",
            "\u001b[0;31mKeyboardInterrupt\u001b[0m                         Traceback (most recent call last)",
            "\u001b[0;32m<ipython-input-10-1fab255f9c14>\u001b[0m in \u001b[0;36m<module>\u001b[0;34m()\u001b[0m\n\u001b[1;32m     57\u001b[0m         \u001b[0;31m#####\u001b[0m\u001b[0;34m\u001b[0m\u001b[0;34m\u001b[0m\u001b[0;34m\u001b[0m\u001b[0m\n\u001b[1;32m     58\u001b[0m         \u001b[0moptim_generator\u001b[0m\u001b[0;34m.\u001b[0m\u001b[0mzero_grad\u001b[0m\u001b[0;34m(\u001b[0m\u001b[0;34m)\u001b[0m\u001b[0;34m\u001b[0m\u001b[0;34m\u001b[0m\u001b[0m\n\u001b[0;32m---> 59\u001b[0;31m         \u001b[0mgenerated_data\u001b[0m \u001b[0;34m=\u001b[0m \u001b[0mgenerator\u001b[0m\u001b[0;34m(\u001b[0m\u001b[0mtorch\u001b[0m\u001b[0;34m.\u001b[0m\u001b[0mrand\u001b[0m\u001b[0;34m(\u001b[0m\u001b[0mdata\u001b[0m\u001b[0;34m.\u001b[0m\u001b[0mshape\u001b[0m\u001b[0;34m[\u001b[0m\u001b[0;36m0\u001b[0m\u001b[0;34m]\u001b[0m\u001b[0;34m,\u001b[0m \u001b[0mz_dim\u001b[0m\u001b[0;34m,\u001b[0m\u001b[0;36m1\u001b[0m\u001b[0;34m,\u001b[0m\u001b[0;36m1\u001b[0m\u001b[0;34m)\u001b[0m\u001b[0;34m.\u001b[0m\u001b[0mto\u001b[0m\u001b[0;34m(\u001b[0m\u001b[0mdevice\u001b[0m\u001b[0;34m)\u001b[0m\u001b[0;34m)\u001b[0m\u001b[0;34m\u001b[0m\u001b[0;34m\u001b[0m\u001b[0m\n\u001b[0m\u001b[1;32m     60\u001b[0m         \u001b[0md_generated\u001b[0m \u001b[0;34m=\u001b[0m \u001b[0mcritic\u001b[0m\u001b[0;34m(\u001b[0m\u001b[0mgenerated_data\u001b[0m\u001b[0;34m)\u001b[0m\u001b[0;34m\u001b[0m\u001b[0;34m\u001b[0m\u001b[0m\n\u001b[1;32m     61\u001b[0m         \u001b[0mg_loss\u001b[0m \u001b[0;34m=\u001b[0m \u001b[0md_generated\u001b[0m\u001b[0;34m.\u001b[0m\u001b[0mmean\u001b[0m\u001b[0;34m(\u001b[0m\u001b[0;34m)\u001b[0m\u001b[0;34m\u001b[0m\u001b[0;34m\u001b[0m\u001b[0m\n",
            "\u001b[0;31mKeyboardInterrupt\u001b[0m: "
          ]
        }
      ],
      "metadata": {
        "colab": {
          "base_uri": "https://localhost:8080/",
          "height": 401,
          "referenced_widgets": [
            "729774ae7d1948ecbcd1df11318efc18",
            "5743eeac3bd9441d8ad9f340265f2f2c",
            "3581656f8a714a05974f12a5e2b4f5ec",
            "54617fc473e04c0f869ba0da04b60f4d",
            "2bb82ea1155a4f42a78dd7f5d3f4511f",
            "be57f6ca5dcd41979b29bf93fc591b51",
            "c75101f1acad4868986de89027f87870",
            "726e1556e29242e186baa6ca1275cdda",
            "35f6c98ad93e4e58aeca530dce655a37",
            "0ed7d3347cf540859a31a11445f3763a",
            "145cad59b884475cb4a7ad7a957c1b80",
            "6d0d26ccdef449ad8a001de53f456cb9",
            "4408ed594e5e4727941d36b2358941bf",
            "3e472636960646eab709c743ce0a0a6f",
            "f9ac5fa5acf044039f662b23fca2f680",
            "843352c98c5b42efba7834d6e0966e6f",
            "f4bb36dbd5734c9cb28a6ee43a637212",
            "56001090a01f4d57bdbf44ba4e0b35ee",
            "50563e9eef264b52b2153c6193ca5d7a",
            "bf11f3f947d1459cb12c7fb09f0db785",
            "657711ed4fc240e1a567e9113947a387",
            "a622a1eea2ee4fc28e229d55ffd8f288"
          ]
        },
        "id": "UFK5r_YRO6yT",
        "outputId": "dc516237-a053-48f1-9132-4dc5f8cfc61d"
      }
    },
    {
      "cell_type": "code",
      "source": [
        "d_real[0]"
      ],
      "metadata": {
        "id": "7QHb4LFqPWpP",
        "outputId": "030b28ea-8bbc-4b5f-eb60-fa665fc8f2a1",
        "colab": {
          "base_uri": "https://localhost:8080/"
        }
      },
      "execution_count": 13,
      "outputs": [
        {
          "output_type": "execute_result",
          "data": {
            "text/plain": [
              "tensor(1.0514, device='cuda:0', grad_fn=<SelectBackward0>)"
            ]
          },
          "metadata": {},
          "execution_count": 13
        }
      ]
    },
    {
      "cell_type": "code",
      "source": [
        "perturb_val = 50\n",
        "for i in range(z_dim):\n",
        "  z_perturb = torch.randn(64, z_dim, device=device)\n",
        "  print(z_perturb.shape)\n",
        "  z_perturb[:, i] += perturb_val\n",
        "  imgs = generator(z_perturb)\n",
        "  save_image(imgs, f'disentangled_{i}.png', normalize=True, value_range=(-1, 1))\n"
      ],
      "metadata": {
        "id": "DlTib3U5osmw",
        "outputId": "1e45fb6a-ce01-4e32-c408-c2b6a5abdf36",
        "colab": {
          "base_uri": "https://localhost:8080/"
        }
      },
      "execution_count": 14,
      "outputs": [
        {
          "output_type": "stream",
          "name": "stdout",
          "text": [
            "torch.Size([64, 100])\n",
            "torch.Size([64, 100])\n",
            "torch.Size([64, 100])\n",
            "torch.Size([64, 100])\n",
            "torch.Size([64, 100])\n",
            "torch.Size([64, 100])\n",
            "torch.Size([64, 100])\n",
            "torch.Size([64, 100])\n",
            "torch.Size([64, 100])\n",
            "torch.Size([64, 100])\n",
            "torch.Size([64, 100])\n",
            "torch.Size([64, 100])\n",
            "torch.Size([64, 100])\n",
            "torch.Size([64, 100])\n",
            "torch.Size([64, 100])\n",
            "torch.Size([64, 100])\n",
            "torch.Size([64, 100])\n",
            "torch.Size([64, 100])\n",
            "torch.Size([64, 100])\n",
            "torch.Size([64, 100])\n",
            "torch.Size([64, 100])\n",
            "torch.Size([64, 100])\n",
            "torch.Size([64, 100])\n",
            "torch.Size([64, 100])\n",
            "torch.Size([64, 100])\n",
            "torch.Size([64, 100])\n",
            "torch.Size([64, 100])\n",
            "torch.Size([64, 100])\n",
            "torch.Size([64, 100])\n",
            "torch.Size([64, 100])\n",
            "torch.Size([64, 100])\n",
            "torch.Size([64, 100])\n",
            "torch.Size([64, 100])\n",
            "torch.Size([64, 100])\n",
            "torch.Size([64, 100])\n",
            "torch.Size([64, 100])\n",
            "torch.Size([64, 100])\n",
            "torch.Size([64, 100])\n",
            "torch.Size([64, 100])\n",
            "torch.Size([64, 100])\n",
            "torch.Size([64, 100])\n",
            "torch.Size([64, 100])\n",
            "torch.Size([64, 100])\n",
            "torch.Size([64, 100])\n",
            "torch.Size([64, 100])\n",
            "torch.Size([64, 100])\n",
            "torch.Size([64, 100])\n",
            "torch.Size([64, 100])\n",
            "torch.Size([64, 100])\n",
            "torch.Size([64, 100])\n",
            "torch.Size([64, 100])\n",
            "torch.Size([64, 100])\n",
            "torch.Size([64, 100])\n",
            "torch.Size([64, 100])\n",
            "torch.Size([64, 100])\n",
            "torch.Size([64, 100])\n",
            "torch.Size([64, 100])\n",
            "torch.Size([64, 100])\n",
            "torch.Size([64, 100])\n",
            "torch.Size([64, 100])\n",
            "torch.Size([64, 100])\n",
            "torch.Size([64, 100])\n",
            "torch.Size([64, 100])\n",
            "torch.Size([64, 100])\n",
            "torch.Size([64, 100])\n",
            "torch.Size([64, 100])\n",
            "torch.Size([64, 100])\n",
            "torch.Size([64, 100])\n",
            "torch.Size([64, 100])\n",
            "torch.Size([64, 100])\n",
            "torch.Size([64, 100])\n",
            "torch.Size([64, 100])\n",
            "torch.Size([64, 100])\n",
            "torch.Size([64, 100])\n",
            "torch.Size([64, 100])\n",
            "torch.Size([64, 100])\n",
            "torch.Size([64, 100])\n",
            "torch.Size([64, 100])\n",
            "torch.Size([64, 100])\n",
            "torch.Size([64, 100])\n",
            "torch.Size([64, 100])\n",
            "torch.Size([64, 100])\n",
            "torch.Size([64, 100])\n",
            "torch.Size([64, 100])\n",
            "torch.Size([64, 100])\n",
            "torch.Size([64, 100])\n",
            "torch.Size([64, 100])\n",
            "torch.Size([64, 100])\n",
            "torch.Size([64, 100])\n",
            "torch.Size([64, 100])\n",
            "torch.Size([64, 100])\n",
            "torch.Size([64, 100])\n",
            "torch.Size([64, 100])\n",
            "torch.Size([64, 100])\n",
            "torch.Size([64, 100])\n",
            "torch.Size([64, 100])\n",
            "torch.Size([64, 100])\n",
            "torch.Size([64, 100])\n",
            "torch.Size([64, 100])\n",
            "torch.Size([64, 100])\n"
          ]
        }
      ]
    },
    {
      "cell_type": "code",
      "source": [
        "torch.save(generator, 'gan_model.pt')"
      ],
      "metadata": {
        "id": "J8GqX_eBgW3z"
      },
      "execution_count": 15,
      "outputs": []
    },
    {
      "cell_type": "code",
      "source": [
        "from google.colab import files\n",
        "files.download(\"gan_model.pt\")"
      ],
      "metadata": {
        "id": "c8P59DgHsx7c",
        "outputId": "e67dab96-3857-4a6e-f60d-2a91f1a04f9a",
        "colab": {
          "base_uri": "https://localhost:8080/",
          "height": 34
        }
      },
      "execution_count": 12,
      "outputs": [
        {
          "output_type": "display_data",
          "data": {
            "text/plain": [
              "<IPython.core.display.Javascript object>"
            ],
            "application/javascript": [
              "\n",
              "    async function download(id, filename, size) {\n",
              "      if (!google.colab.kernel.accessAllowed) {\n",
              "        return;\n",
              "      }\n",
              "      const div = document.createElement('div');\n",
              "      const label = document.createElement('label');\n",
              "      label.textContent = `Downloading \"${filename}\": `;\n",
              "      div.appendChild(label);\n",
              "      const progress = document.createElement('progress');\n",
              "      progress.max = size;\n",
              "      div.appendChild(progress);\n",
              "      document.body.appendChild(div);\n",
              "\n",
              "      const buffers = [];\n",
              "      let downloaded = 0;\n",
              "\n",
              "      const channel = await google.colab.kernel.comms.open(id);\n",
              "      // Send a message to notify the kernel that we're ready.\n",
              "      channel.send({})\n",
              "\n",
              "      for await (const message of channel.messages) {\n",
              "        // Send a message to notify the kernel that we're ready.\n",
              "        channel.send({})\n",
              "        if (message.buffers) {\n",
              "          for (const buffer of message.buffers) {\n",
              "            buffers.push(buffer);\n",
              "            downloaded += buffer.byteLength;\n",
              "            progress.value = downloaded;\n",
              "          }\n",
              "        }\n",
              "      }\n",
              "      const blob = new Blob(buffers, {type: 'application/binary'});\n",
              "      const a = document.createElement('a');\n",
              "      a.href = window.URL.createObjectURL(blob);\n",
              "      a.download = filename;\n",
              "      div.appendChild(a);\n",
              "      a.click();\n",
              "      div.remove();\n",
              "    }\n",
              "  "
            ]
          },
          "metadata": {}
        },
        {
          "output_type": "display_data",
          "data": {
            "text/plain": [
              "<IPython.core.display.Javascript object>"
            ],
            "application/javascript": [
              "download(\"download_873c267f-c708-48a3-bf77-5953f2e1f196\", \"gan_model.pt\", 4290464)"
            ]
          },
          "metadata": {}
        }
      ]
    },
    {
      "cell_type": "code",
      "source": [
        "gen = torch.load('gan_model.pt')"
      ],
      "metadata": {
        "id": "o83wmK37mKUK"
      },
      "execution_count": 16,
      "outputs": []
    },
    {
      "cell_type": "code",
      "source": [
        "torch.save(critic, 'gan_critic.pt')\n",
        "crit = torch.load('gan_critic.pt')"
      ],
      "metadata": {
        "id": "t2zs0IAasKV7"
      },
      "execution_count": 18,
      "outputs": []
    },
    {
      "cell_type": "markdown",
      "source": [
        "# Perturbation"
      ],
      "metadata": {
        "id": "Z7nvm25ty6aW"
      }
    },
    {
      "cell_type": "code",
      "source": [
        "perturb_val = 50\n",
        "for i in range(72,73):\n",
        "  z_perturb = torch.randn(64, z_dim, device=device)\n",
        "  print(z_perturb.shape)\n",
        "  z_perturb[:, i] += perturb_val\n",
        "  imgs = gen(z_perturb)\n",
        "  save_image(imgs, f'zz_test_{i}.png', normalize=True, value_range=(-1, 1))\n"
      ],
      "metadata": {
        "id": "Je_C9xcjr7En",
        "outputId": "156fd86e-323e-4b5e-ef40-f221a49835d4",
        "colab": {
          "base_uri": "https://localhost:8080/"
        }
      },
      "execution_count": 17,
      "outputs": [
        {
          "output_type": "stream",
          "name": "stdout",
          "text": [
            "torch.Size([64, 100])\n"
          ]
        }
      ]
    },
    {
      "cell_type": "markdown",
      "source": [
        "# Latent and Data Space Interpolations"
      ],
      "metadata": {
        "id": "fcdkGrkLvZWK"
      }
    },
    {
      "cell_type": "code",
      "source": [
        "import numpy as np\n",
        "alpha_set = np.round(np.linspace(0,1,10), 1)\n",
        "alpha_set = torch.from_numpy(alpha_set)\n",
        "alpha_set"
      ],
      "metadata": {
        "id": "aRP4D0UYtR7q",
        "outputId": "fe504f0e-3199-4a3e-a444-2c0629a18f2b",
        "colab": {
          "base_uri": "https://localhost:8080/"
        }
      },
      "execution_count": 54,
      "outputs": [
        {
          "output_type": "execute_result",
          "data": {
            "text/plain": [
              "tensor([0.0000, 0.1000, 0.2000, 0.3000, 0.4000, 0.6000, 0.7000, 0.8000, 0.9000,\n",
              "        1.0000], dtype=torch.float64)"
            ]
          },
          "metadata": {},
          "execution_count": 54
        }
      ]
    },
    {
      "cell_type": "code",
      "source": [
        "torch.manual_seed(42)\n",
        " \n",
        "z_0 = torch.randn(64, z_dim, device=device)\n",
        "z_1 = torch.randn(64, z_dim, device=device)"
      ],
      "metadata": {
        "id": "P_v-AXN3vhN9"
      },
      "execution_count": 55,
      "outputs": []
    },
    {
      "cell_type": "code",
      "source": [
        "for alpha in alpha_set:\n",
        "  z_alpha = alpha*z_0 + (1-alpha)*z_1\n",
        "  imgs = gen(z_alpha)\n",
        "\n",
        "  save_image(imgs, f'data_space_{int(alpha*10)}.png', normalize=True, value_range=(-1, 1))\n",
        "  "
      ],
      "metadata": {
        "id": "pumEvhnwxULw"
      },
      "execution_count": 56,
      "outputs": []
    },
    {
      "cell_type": "code",
      "source": [
        "x_0 = gen(z_0)\n",
        "x_1 = gen(z_1)"
      ],
      "metadata": {
        "id": "n4vxuFMYxtBR"
      },
      "execution_count": 57,
      "outputs": []
    },
    {
      "cell_type": "code",
      "source": [
        "for alpha in alpha_set:\n",
        "  imgs = alpha*x_0 + (1-alpha)*x_1\n",
        "  save_image(imgs, f'latent_space_{int(alpha*10)}.png', normalize=True, value_range=(-1, 1))"
      ],
      "metadata": {
        "id": "5hoykJ9bxjvU"
      },
      "execution_count": 58,
      "outputs": []
    },
    {
      "cell_type": "code",
      "source": [
        ""
      ],
      "metadata": {
        "id": "VeIRcQnsyr5H"
      },
      "execution_count": null,
      "outputs": []
    },
    {
      "cell_type": "code",
      "source": [
        ""
      ],
      "metadata": {
        "id": "QlpeTkF3yr04"
      },
      "execution_count": null,
      "outputs": []
    },
    {
      "cell_type": "code",
      "source": [
        ""
      ],
      "metadata": {
        "id": "YtIihjn4yrwx"
      },
      "execution_count": null,
      "outputs": []
    },
    {
      "cell_type": "code",
      "source": [
        ""
      ],
      "metadata": {
        "id": "nnCsdxodyrrv"
      },
      "execution_count": null,
      "outputs": []
    },
    {
      "cell_type": "code",
      "source": [
        ""
      ],
      "metadata": {
        "id": "-T2OU3AYtR1h"
      },
      "execution_count": null,
      "outputs": []
    },
    {
      "cell_type": "code",
      "source": [
        ""
      ],
      "metadata": {
        "id": "DmvdFWTAtRyH"
      },
      "execution_count": null,
      "outputs": []
    },
    {
      "cell_type": "code",
      "source": [
        "!zip -r gan_results.zip /content/sample_data/"
      ],
      "metadata": {
        "id": "DgHbobMpvP89",
        "outputId": "4d682f2d-78dc-4c30-a733-5181e645a4bd",
        "colab": {
          "base_uri": "https://localhost:8080/"
        }
      },
      "execution_count": null,
      "outputs": [
        {
          "output_type": "stream",
          "name": "stdout",
          "text": [
            "  adding: content/sample_data/ (stored 0%)\n",
            "  adding: content/sample_data/anscombe.json (deflated 83%)\n",
            "  adding: content/sample_data/README.md (deflated 42%)\n",
            "  adding: content/sample_data/mnist_test.csv (deflated 88%)\n",
            "  adding: content/sample_data/mnist_train_small.csv (deflated 88%)\n",
            "  adding: content/sample_data/california_housing_train.csv (deflated 79%)\n",
            "  adding: content/sample_data/california_housing_test.csv (deflated 76%)\n"
          ]
        }
      ]
    },
    {
      "cell_type": "code",
      "source": [
        "/content/disentangled_0.png"
      ],
      "metadata": {
        "id": "N2vPy5R4vdPD",
        "outputId": "e251bcae-4630-468f-b903-197dcd979716",
        "colab": {
          "base_uri": "https://localhost:8080/"
        }
      },
      "execution_count": null,
      "outputs": [
        {
          "output_type": "execute_result",
          "data": {
            "text/plain": [
              "4"
            ]
          },
          "metadata": {},
          "execution_count": 69
        }
      ]
    },
    {
      "cell_type": "code",
      "source": [
        "!find /content -name 'latent_space_*' | zip latent_space.zip -@"
      ],
      "metadata": {
        "id": "D4q1QBQXzV_h",
        "outputId": "ebf4aba5-6cb0-4595-d0bf-05293ae44f43",
        "colab": {
          "base_uri": "https://localhost:8080/"
        }
      },
      "execution_count": 59,
      "outputs": [
        {
          "output_type": "stream",
          "name": "stdout",
          "text": [
            "updating: content/latent_space_8.png (deflated 0%)\n",
            "updating: content/latent_space_1.png (deflated 0%)\n",
            "updating: content/latent_space_9.png (deflated 0%)\n",
            "updating: content/latent_space_7.png (deflated 0%)\n",
            "updating: content/latent_space_2.png (deflated 0%)\n",
            "updating: content/latent_space_0.png (deflated 0%)\n",
            "updating: content/latent_space_3.png (deflated 0%)\n",
            "updating: content/latent_space_4.png (deflated 0%)\n",
            "updating: content/latent_space_10.png (deflated 0%)\n",
            "updating: content/latent_space_6.png (deflated 0%)\n"
          ]
        }
      ]
    },
    {
      "cell_type": "code",
      "source": [
        "!find /content -name 'data_space_*' | zip data_space.zip -@"
      ],
      "metadata": {
        "id": "VdO8lJp9zfIG",
        "outputId": "e2dd59ca-14fc-4edc-991b-8a906e71ece1",
        "colab": {
          "base_uri": "https://localhost:8080/"
        }
      },
      "execution_count": 48,
      "outputs": [
        {
          "output_type": "stream",
          "name": "stdout",
          "text": [
            "  adding: content/data_space_6.png (deflated 0%)\n",
            "  adding: content/data_space_4.png (deflated 0%)\n",
            "  adding: content/data_space_10.png (deflated 0%)\n",
            "  adding: content/data_space_0.png (deflated 0%)\n",
            "  adding: content/data_space_1.png (deflated 0%)\n",
            "  adding: content/data_space_2.png (deflated 0%)\n",
            "  adding: content/data_space_8.png (deflated 0%)\n",
            "  adding: content/data_space_7.png (deflated 0%)\n",
            "  adding: content/data_space_3.png (deflated 0%)\n",
            "  adding: content/data_space_9.png (deflated 0%)\n"
          ]
        }
      ]
    },
    {
      "cell_type": "code",
      "source": [
        "!find /content -name 'disentangled_*' | zip disentangled.zip -@"
      ],
      "metadata": {
        "id": "7A3IGGGXv2TF",
        "outputId": "dc0e1c9f-170a-4935-a1b7-a0275501da28",
        "colab": {
          "base_uri": "https://localhost:8080/"
        }
      },
      "execution_count": 60,
      "outputs": [
        {
          "output_type": "stream",
          "name": "stdout",
          "text": [
            "  adding: content/disentangled_95.png (deflated 0%)\n",
            "  adding: content/disentangled_19.png (deflated 0%)\n",
            "  adding: content/disentangled_65.png (deflated 0%)\n",
            "  adding: content/disentangled_44.png (deflated 0%)\n",
            "  adding: content/disentangled_52.png (deflated 0%)\n",
            "  adding: content/disentangled_29.png (deflated 0%)\n",
            "  adding: content/disentangled_56.png (deflated 0%)\n",
            "  adding: content/disentangled_62.png (deflated 0%)\n",
            "  adding: content/disentangled_28.png (deflated 0%)\n",
            "  adding: content/disentangled_99.png (deflated 0%)\n",
            "  adding: content/disentangled_53.png (deflated 0%)\n",
            "  adding: content/disentangled_35.png (deflated 0%)\n",
            "  adding: content/disentangled_6.png (deflated 0%)\n",
            "  adding: content/disentangled_77.png (deflated 0%)\n",
            "  adding: content/disentangled_70.png (deflated 0%)\n",
            "  adding: content/disentangled_3.png (deflated 0%)\n",
            "  adding: content/disentangled_83.png (deflated 0%)\n",
            "  adding: content/disentangled_50.png (deflated 0%)\n",
            "  adding: content/disentangled_45.png (deflated 0%)\n",
            "  adding: content/disentangled_92.png (deflated 0%)\n",
            "  adding: content/disentangled_73.png (deflated 0%)\n",
            "  adding: content/disentangled_25.png (deflated 0%)\n",
            "  adding: content/disentangled_74.png (deflated 0%)\n",
            "  adding: content/disentangled_40.png (deflated 0%)\n",
            "  adding: content/disentangled_32.png (deflated 0%)\n",
            "  adding: content/disentangled_31.png (deflated 0%)\n",
            "  adding: content/disentangled_67.png (deflated 0%)\n",
            "  adding: content/disentangled_2.png (deflated 0%)\n",
            "  adding: content/disentangled_78.png (deflated 0%)\n",
            "  adding: content/disentangled_75.png (deflated 0%)\n",
            "  adding: content/disentangled_97.png (deflated 0%)\n",
            "  adding: content/disentangled_49.png (deflated 0%)\n",
            "  adding: content/disentangled_4.png (deflated 0%)\n",
            "  adding: content/disentangled_23.png (deflated 0%)\n",
            "  adding: content/disentangled_81.png (deflated 0%)\n",
            "  adding: content/disentangled_54.png (deflated 0%)\n",
            "  adding: content/disentangled_37.png (deflated 0%)\n",
            "  adding: content/disentangled_10.png (deflated 0%)\n",
            "  adding: content/disentangled_18.png (deflated 0%)\n",
            "  adding: content/disentangled_85.png (deflated 0%)\n",
            "  adding: content/disentangled_71.png (deflated 0%)\n",
            "  adding: content/disentangled_41.png (deflated 0%)\n",
            "  adding: content/disentangled_36.png (deflated 0%)\n",
            "  adding: content/disentangled_87.png (deflated 0%)\n",
            "  adding: content/disentangled_55.png (deflated 0%)\n",
            "  adding: content/disentangled_0.png (deflated 0%)\n",
            "  adding: content/disentangled_64.png (deflated 0%)\n",
            "  adding: content/disentangled_94.png (deflated 0%)\n",
            "  adding: content/disentangled_96.png (deflated 0%)\n",
            "  adding: content/disentangled_57.png (deflated 0%)\n",
            "  adding: content/disentangled_13.png (deflated 0%)\n",
            "  adding: content/disentangled_21.png (deflated 0%)\n",
            "  adding: content/disentangled_63.png (deflated 0%)\n",
            "  adding: content/disentangled_27.png (deflated 0%)\n",
            "  adding: content/disentangled_16.png (deflated 0%)\n",
            "  adding: content/disentangled_58.png (deflated 0%)\n",
            "  adding: content/disentangled_89.png (deflated 0%)\n",
            "  adding: content/disentangled_39.png (deflated 0%)\n",
            "  adding: content/disentangled_9.png (deflated 0%)\n",
            "  adding: content/disentangled_93.png (deflated 0%)\n",
            "  adding: content/disentangled_20.png (deflated 0%)\n",
            "  adding: content/disentangled_7.png (deflated 0%)\n",
            "  adding: content/disentangled_22.png (deflated 0%)\n",
            "  adding: content/disentangled_66.png (deflated 0%)\n",
            "  adding: content/disentangled_48.png (deflated 0%)\n",
            "  adding: content/disentangled_47.png (deflated 0%)\n",
            "  adding: content/disentangled_42.png (deflated 0%)\n",
            "  adding: content/disentangled_68.png (deflated 0%)\n",
            "  adding: content/disentangled_60.png (deflated 0%)\n",
            "  adding: content/disentangled_88.png (deflated 0%)\n",
            "  adding: content/disentangled_98.png (deflated 0%)\n",
            "  adding: content/disentangled_14.png (deflated 0%)\n",
            "  adding: content/disentangled_76.png (deflated 0%)\n",
            "  adding: content/disentangled_69.png (deflated 0%)\n",
            "  adding: content/disentangled_15.png (deflated 0%)\n",
            "  adding: content/disentangled_82.png (deflated 0%)\n",
            "  adding: content/disentangled_26.png (deflated 0%)\n",
            "  adding: content/disentangled_80.png (deflated 0%)\n",
            "  adding: content/disentangled_8.png (deflated 0%)\n",
            "  adding: content/disentangled_12.png (deflated 0%)\n",
            "  adding: content/disentangled_79.png (deflated 0%)\n",
            "  adding: content/disentangled_86.png (deflated 0%)\n",
            "  adding: content/disentangled_17.png (deflated 0%)\n",
            "  adding: content/disentangled_11.png (deflated 0%)\n",
            "  adding: content/disentangled_34.png (deflated 0%)\n",
            "  adding: content/disentangled_43.png (deflated 0%)\n",
            "  adding: content/disentangled_90.png (deflated 0%)\n",
            "  adding: content/disentangled_59.png (deflated 0%)\n",
            "  adding: content/disentangled_24.png (deflated 0%)\n",
            "  adding: content/disentangled_38.png (deflated 0%)\n",
            "  adding: content/disentangled_91.png (deflated 0%)\n",
            "  adding: content/disentangled_33.png (deflated 0%)\n",
            "  adding: content/disentangled_84.png (deflated 0%)\n",
            "  adding: content/disentangled_1.png (deflated 0%)\n",
            "  adding: content/disentangled_5.png (deflated 0%)\n",
            "  adding: content/disentangled_46.png (deflated 0%)\n",
            "  adding: content/disentangled_61.png (deflated 0%)\n",
            "  adding: content/disentangled_30.png (deflated 0%)\n",
            "  adding: content/disentangled_51.png (deflated 0%)\n",
            "  adding: content/disentangled_72.png (deflated 0%)\n"
          ]
        }
      ]
    },
    {
      "cell_type": "code",
      "source": [
        "!find /content -name 'imgs_*' | zip training_gan.zip -@"
      ],
      "metadata": {
        "id": "aL_Gsw1XwVKb",
        "outputId": "964ad48c-dd43-4345-f0a5-6102d921ab01",
        "colab": {
          "base_uri": "https://localhost:8080/"
        }
      },
      "execution_count": null,
      "outputs": [
        {
          "output_type": "stream",
          "name": "stdout",
          "text": [
            "  adding: content/imgs_12000.png (deflated 0%)\n",
            "  adding: content/imgs_35000.png (deflated 0%)\n",
            "  adding: content/imgs_3000.png (deflated 0%)\n",
            "  adding: content/imgs_13200.png (deflated 0%)\n",
            "  adding: content/imgs_200.png (deflated 0%)\n",
            "  adding: content/imgs_27100.png (deflated 0%)\n",
            "  adding: content/imgs_600.png (deflated 0%)\n",
            "  adding: content/imgs_17400.png (deflated 0%)\n",
            "  adding: content/imgs_25900.png (deflated 0%)\n",
            "  adding: content/imgs_7500.png (deflated 0%)\n",
            "  adding: content/imgs_19400.png (deflated 0%)\n",
            "  adding: content/imgs_5800.png (deflated 0%)\n",
            "  adding: content/imgs_17100.png (deflated 0%)\n",
            "  adding: content/imgs_5600.png (deflated 0%)\n",
            "  adding: content/imgs_36800.png (deflated 0%)\n",
            "  adding: content/imgs_2300.png (deflated 0%)\n",
            "  adding: content/imgs_18300.png (deflated 0%)\n",
            "  adding: content/imgs_19600.png (deflated 0%)\n",
            "  adding: content/imgs_1900.png (deflated 0%)\n",
            "  adding: content/imgs_36300.png (deflated 0%)\n",
            "  adding: content/imgs_5200.png (deflated 0%)\n",
            "  adding: content/imgs_22700.png (deflated 0%)\n",
            "  adding: content/imgs_32300.png (deflated 0%)\n",
            "  adding: content/imgs_3300.png (deflated 0%)\n",
            "  adding: content/imgs_14500.png (deflated 0%)\n",
            "  adding: content/imgs_1800.png (deflated 0%)\n",
            "  adding: content/imgs_23400.png (deflated 0%)\n",
            "  adding: content/imgs_13800.png (deflated 0%)\n",
            "  adding: content/imgs_14700.png (deflated 0%)\n",
            "  adding: content/imgs_6100.png (deflated 0%)\n",
            "  adding: content/imgs_11500.png (deflated 0%)\n",
            "  adding: content/imgs_19000.png (deflated 0%)\n",
            "  adding: content/imgs_17700.png (deflated 0%)\n",
            "  adding: content/imgs_18700.png (deflated 0%)\n",
            "  adding: content/imgs_36400.png (deflated 0%)\n",
            "  adding: content/imgs_25000.png (deflated 0%)\n",
            "  adding: content/imgs_18100.png (deflated 0%)\n",
            "  adding: content/imgs_38100.png (deflated 0%)\n",
            "  adding: content/imgs_27900.png (deflated 0%)\n",
            "  adding: content/imgs_1300.png (deflated 0%)\n",
            "  adding: content/imgs_28900.png (deflated 0%)\n",
            "  adding: content/imgs_23300.png (deflated 0%)\n",
            "  adding: content/imgs_24000.png (deflated 0%)\n",
            "  adding: content/imgs_22200.png (deflated 0%)\n",
            "  adding: content/imgs_17200.png (deflated 0%)\n",
            "  adding: content/imgs_37900.png (deflated 0%)\n",
            "  adding: content/imgs_34200.png (deflated 0%)\n",
            "  adding: content/imgs_28200.png (deflated 0%)\n",
            "  adding: content/imgs_15800.png (deflated 0%)\n",
            "  adding: content/imgs_38200.png (deflated 0%)\n",
            "  adding: content/imgs_36600.png (deflated 0%)\n",
            "  adding: content/imgs_28000.png (deflated 0%)\n",
            "  adding: content/imgs_8000.png (deflated 0%)\n",
            "  adding: content/imgs_9000.png (deflated 0%)\n",
            "  adding: content/imgs_28300.png (deflated 0%)\n",
            "  adding: content/imgs_18600.png (deflated 0%)\n",
            "  adding: content/imgs_6000.png (deflated 0%)\n",
            "  adding: content/imgs_400.png (deflated 0%)\n",
            "  adding: content/imgs_12400.png (deflated 0%)\n",
            "  adding: content/imgs_18900.png (deflated 0%)\n",
            "  adding: content/imgs_19300.png (deflated 0%)\n",
            "  adding: content/imgs_23800.png (deflated 0%)\n",
            "  adding: content/imgs_29100.png (deflated 0%)\n",
            "  adding: content/imgs_3800.png (deflated 0%)\n",
            "  adding: content/imgs_28600.png (deflated 0%)\n",
            "  adding: content/imgs_38500.png (deflated 0%)\n",
            "  adding: content/imgs_28700.png (deflated 0%)\n",
            "  adding: content/imgs_24400.png (deflated 0%)\n",
            "  adding: content/imgs_32200.png (deflated 0%)\n",
            "  adding: content/imgs_15300.png (deflated 0%)\n",
            "  adding: content/imgs_5000.png (deflated 0%)\n",
            "  adding: content/imgs_22600.png (deflated 0%)\n",
            "  adding: content/imgs_20400.png (deflated 0%)\n",
            "  adding: content/imgs_23500.png (deflated 0%)\n",
            "  adding: content/imgs_35400.png (deflated 0%)\n",
            "  adding: content/imgs_10800.png (deflated 0%)\n",
            "  adding: content/imgs_37200.png (deflated 0%)\n",
            "  adding: content/imgs_11400.png (deflated 0%)\n",
            "  adding: content/imgs_10100.png (deflated 0%)\n",
            "  adding: content/imgs_5100.png (deflated 0%)\n",
            "  adding: content/imgs_31500.png (deflated 0%)\n",
            "  adding: content/imgs_4400.png (deflated 0%)\n",
            "  adding: content/imgs_2500.png (deflated 0%)\n",
            "  adding: content/imgs_39200.png (deflated 0%)\n",
            "  adding: content/imgs_12700.png (deflated 0%)\n",
            "  adding: content/imgs_9900.png (deflated 0%)\n",
            "  adding: content/imgs_22100.png (deflated 0%)\n",
            "  adding: content/imgs_10700.png (deflated 0%)\n",
            "  adding: content/imgs_17000.png (deflated 0%)\n",
            "  adding: content/imgs_3400.png (deflated 0%)\n",
            "  adding: content/imgs_4900.png (deflated 0%)\n",
            "  adding: content/imgs_26500.png (deflated 0%)\n",
            "  adding: content/imgs_26600.png (deflated 0%)\n",
            "  adding: content/imgs_15600.png (deflated 0%)\n",
            "  adding: content/imgs_17600.png (deflated 0%)\n",
            "  adding: content/imgs_20200.png (deflated 0%)\n",
            "  adding: content/imgs_11000.png (deflated 0%)\n",
            "  adding: content/imgs_33400.png (deflated 0%)\n",
            "  adding: content/imgs_16200.png (deflated 0%)\n",
            "  adding: content/imgs_33300.png (deflated 0%)\n",
            "  adding: content/imgs_37400.png (deflated 0%)\n",
            "  adding: content/imgs_13000.png (deflated 0%)\n",
            "  adding: content/imgs_31800.png (deflated 0%)\n",
            "  adding: content/imgs_25500.png (deflated 0%)\n",
            "  adding: content/imgs_32900.png (deflated 0%)\n",
            "  adding: content/imgs_29500.png (deflated 0%)\n",
            "  adding: content/imgs_16500.png (deflated 0%)\n",
            "  adding: content/imgs_37300.png (deflated 0%)\n",
            "  adding: content/imgs_11900.png (deflated 0%)\n",
            "  adding: content/imgs_32600.png (deflated 0%)\n",
            "  adding: content/imgs_8200.png (deflated 0%)\n",
            "  adding: content/imgs_17300.png (deflated 0%)\n",
            "  adding: content/imgs_36200.png (deflated 0%)\n",
            "  adding: content/imgs_27000.png (deflated 0%)\n",
            "  adding: content/imgs_6800.png (deflated 0%)\n",
            "  adding: content/imgs_25200.png (deflated 0%)\n",
            "  adding: content/imgs_35200.png (deflated 0%)\n",
            "  adding: content/imgs_20800.png (deflated 0%)\n",
            "  adding: content/imgs_2900.png (deflated 0%)\n",
            "  adding: content/imgs_36500.png (deflated 0%)\n",
            "  adding: content/imgs_24100.png (deflated 0%)\n",
            "  adding: content/imgs_22400.png (deflated 0%)\n",
            "  adding: content/imgs_6200.png (deflated 0%)\n",
            "  adding: content/imgs_2700.png (deflated 0%)\n",
            "  adding: content/imgs_19200.png (deflated 0%)\n",
            "  adding: content/imgs_20500.png (deflated 0%)\n",
            "  adding: content/imgs_6400.png (deflated 0%)\n",
            "  adding: content/imgs_3700.png (deflated 0%)\n",
            "  adding: content/imgs_100.png (deflated 0%)\n",
            "  adding: content/imgs_38900.png (deflated 0%)\n",
            "  adding: content/imgs_22500.png (deflated 0%)\n",
            "  adding: content/imgs_6300.png (deflated 0%)\n",
            "  adding: content/imgs_34000.png (deflated 0%)\n",
            "  adding: content/imgs_34600.png (deflated 0%)\n",
            "  adding: content/imgs_24800.png (deflated 0%)\n",
            "  adding: content/imgs_5300.png (deflated 0%)\n",
            "  adding: content/imgs_25800.png (deflated 0%)\n",
            "  adding: content/imgs_13900.png (deflated 0%)\n",
            "  adding: content/imgs_28400.png (deflated 0%)\n",
            "  adding: content/imgs_30100.png (deflated 0%)\n",
            "  adding: content/imgs_9400.png (deflated 0%)\n",
            "  adding: content/imgs_5500.png (deflated 0%)\n",
            "  adding: content/imgs_21400.png (deflated 0%)\n",
            "  adding: content/imgs_4000.png (deflated 0%)\n",
            "  adding: content/imgs_27700.png (deflated 0%)\n",
            "  adding: content/imgs_10200.png (deflated 0%)\n",
            "  adding: content/imgs_900.png (deflated 0%)\n",
            "  adding: content/imgs_34100.png (deflated 0%)\n",
            "  adding: content/imgs_31300.png (deflated 0%)\n",
            "  adding: content/imgs_2000.png (deflated 0%)\n",
            "  adding: content/imgs_21500.png (deflated 0%)\n",
            "  adding: content/imgs_36700.png (deflated 0%)\n",
            "  adding: content/imgs_2800.png (deflated 0%)\n",
            "  adding: content/imgs_14100.png (deflated 0%)\n",
            "  adding: content/imgs_38000.png (deflated 0%)\n",
            "  adding: content/imgs_19800.png (deflated 0%)\n",
            "  adding: content/imgs_24900.png (deflated 0%)\n",
            "  adding: content/imgs_23900.png (deflated 0%)\n",
            "  adding: content/imgs_24500.png (deflated 0%)\n",
            "  adding: content/imgs_8300.png (deflated 0%)\n",
            "  adding: content/imgs_31900.png (deflated 0%)\n",
            "  adding: content/imgs_31600.png (deflated 0%)\n",
            "  adding: content/imgs_25100.png (deflated 0%)\n",
            "  adding: content/imgs_18500.png (deflated 0%)\n",
            "  adding: content/imgs_14000.png (deflated 0%)\n",
            "  adding: content/imgs_29000.png (deflated 0%)\n",
            "  adding: content/imgs_14900.png (deflated 0%)\n",
            "  adding: content/imgs_26900.png (deflated 0%)\n",
            "  adding: content/imgs_34400.png (deflated 0%)\n",
            "  adding: content/imgs_18400.png (deflated 0%)\n",
            "  adding: content/imgs_15400.png (deflated 0%)\n",
            "  adding: content/imgs_30600.png (deflated 0%)\n",
            "  adding: content/imgs_20300.png (deflated 0%)\n",
            "  adding: content/imgs_23200.png (deflated 0%)\n",
            "  adding: content/imgs_32800.png (deflated 0%)\n",
            "  adding: content/imgs_9600.png (deflated 0%)\n",
            "  adding: content/imgs_7600.png (deflated 0%)\n",
            "  adding: content/imgs_27600.png (deflated 0%)\n",
            "  adding: content/imgs_33700.png (deflated 0%)\n",
            "  adding: content/imgs_36100.png (deflated 0%)\n",
            "  adding: content/imgs_26000.png (deflated 0%)\n",
            "  adding: content/imgs_37600.png (deflated 0%)\n",
            "  adding: content/imgs_11600.png (deflated 0%)\n",
            "  adding: content/imgs_29800.png (deflated 0%)\n",
            "  adding: content/imgs_38700.png (deflated 0%)\n",
            "  adding: content/imgs_25600.png (deflated 0%)\n",
            "  adding: content/imgs_21600.png (deflated 0%)\n",
            "  adding: content/imgs_9200.png (deflated 0%)\n",
            "  adding: content/imgs_16700.png (deflated 0%)\n",
            "  adding: content/imgs_35100.png (deflated 0%)\n",
            "  adding: content/imgs_6600.png (deflated 0%)\n",
            "  adding: content/imgs_31200.png (deflated 0%)\n",
            "  adding: content/imgs_28500.png (deflated 0%)\n",
            "  adding: content/imgs_17800.png (deflated 0%)\n",
            "  adding: content/imgs_1500.png (deflated 0%)\n",
            "  adding: content/imgs_26300.png (deflated 0%)\n",
            "  adding: content/imgs_4100.png (deflated 0%)\n",
            "  adding: content/imgs_11800.png (deflated 0%)\n",
            "  adding: content/imgs_2400.png (deflated 0%)\n",
            "  adding: content/imgs_29900.png (deflated 0%)\n",
            "  adding: content/imgs_8800.png (deflated 0%)\n",
            "  adding: content/imgs_1000.png (deflated 0%)\n",
            "  adding: content/imgs_26800.png (deflated 0%)\n",
            "  adding: content/imgs_10400.png (deflated 0%)\n",
            "  adding: content/imgs_22900.png (deflated 0%)\n",
            "  adding: content/imgs_10900.png (deflated 0%)\n",
            "  adding: content/imgs_15000.png (deflated 0%)\n",
            "  adding: content/imgs_16100.png (deflated 0%)\n",
            "  adding: content/imgs_23000.png (deflated 0%)\n",
            "  adding: content/imgs_16800.png (deflated 0%)\n",
            "  adding: content/imgs_8400.png (deflated 0%)\n",
            "  adding: content/imgs_31700.png (deflated 0%)\n",
            "  adding: content/imgs_33100.png (deflated 0%)\n",
            "  adding: content/imgs_20600.png (deflated 0%)\n",
            "  adding: content/imgs_16900.png (deflated 0%)\n",
            "  adding: content/imgs_32500.png (deflated 0%)\n",
            "  adding: content/imgs_24200.png (deflated 0%)\n",
            "  adding: content/imgs_12300.png (deflated 0%)\n",
            "  adding: content/imgs_7100.png (deflated 0%)\n",
            "  adding: content/imgs_7400.png (deflated 0%)\n",
            "  adding: content/imgs_17500.png (deflated 0%)\n",
            "  adding: content/imgs_2200.png (deflated 0%)\n",
            "  adding: content/imgs_33000.png (deflated 0%)\n",
            "  adding: content/imgs_34800.png (deflated 0%)\n",
            "  adding: content/imgs_0.png (deflated 0%)\n",
            "  adding: content/imgs_12500.png (deflated 0%)\n",
            "  adding: content/imgs_700.png (deflated 0%)\n",
            "  adding: content/imgs_2600.png (deflated 0%)\n",
            "  adding: content/imgs_26100.png (deflated 0%)\n",
            "  adding: content/imgs_4700.png (deflated 0%)\n",
            "  adding: content/imgs_10000.png (deflated 0%)\n",
            "  adding: content/imgs_26700.png (deflated 0%)\n",
            "  adding: content/imgs_4200.png (deflated 0%)\n",
            "  adding: content/imgs_4600.png (deflated 0%)\n",
            "  adding: content/imgs_14300.png (deflated 0%)\n",
            "  adding: content/imgs_21100.png (deflated 0%)\n",
            "  adding: content/imgs_35300.png (deflated 0%)\n",
            "  adding: content/imgs_27200.png (deflated 0%)\n",
            "  adding: content/imgs_1100.png (deflated 0%)\n",
            "  adding: content/imgs_10600.png (deflated 0%)\n",
            "  adding: content/imgs_7700.png (deflated 0%)\n",
            "  adding: content/imgs_25400.png (deflated 0%)\n",
            "  adding: content/imgs_36000.png (deflated 0%)\n",
            "  adding: content/imgs_20900.png (deflated 0%)\n",
            "  adding: content/imgs_8600.png (deflated 0%)\n",
            "  adding: content/imgs_30800.png (deflated 0%)\n",
            "  adding: content/imgs_20700.png (deflated 0%)\n",
            "  adding: content/imgs_35700.png (deflated 0%)\n",
            "  adding: content/imgs_35900.png (deflated 0%)\n",
            "  adding: content/imgs_6900.png (deflated 0%)\n",
            "  adding: content/imgs_24300.png (deflated 0%)\n",
            "  adding: content/imgs_29700.png (deflated 0%)\n",
            "  adding: content/imgs_21300.png (deflated 0%)\n",
            "  adding: content/imgs_18200.png (deflated 0%)\n",
            "  adding: content/imgs_29600.png (deflated 0%)\n",
            "  adding: content/imgs_12900.png (deflated 0%)\n",
            "  adding: content/imgs_35800.png (deflated 0%)\n",
            "  adding: content/imgs_7200.png (deflated 0%)\n",
            "  adding: content/imgs_15100.png (deflated 0%)\n",
            "  adding: content/imgs_21000.png (deflated 0%)\n",
            "  adding: content/imgs_33600.png (deflated 0%)\n",
            "  adding: content/imgs_5700.png (deflated 0%)\n",
            "  adding: content/imgs_15900.png (deflated 0%)\n",
            "  adding: content/imgs_11300.png (deflated 0%)\n",
            "  adding: content/imgs_31100.png (deflated 0%)\n",
            "  adding: content/imgs_21700.png (deflated 0%)\n",
            "  adding: content/imgs_37700.png (deflated 0%)\n",
            "  adding: content/imgs_12600.png (deflated 0%)\n",
            "  adding: content/imgs_4500.png (deflated 0%)\n",
            "  adding: content/imgs_15500.png (deflated 0%)\n",
            "  adding: content/imgs_10300.png (deflated 0%)\n",
            "  adding: content/imgs_19700.png (deflated 0%)\n",
            "  adding: content/imgs_26400.png (deflated 0%)\n",
            "  adding: content/imgs_12200.png (deflated 0%)\n",
            "  adding: content/imgs_25700.png (deflated 0%)\n",
            "  adding: content/imgs_29400.png (deflated 0%)\n",
            "  adding: content/imgs_15700.png (deflated 0%)\n",
            "  adding: content/imgs_35600.png (deflated 0%)\n",
            "  adding: content/imgs_1600.png (deflated 0%)\n",
            "  adding: content/imgs_33900.png (deflated 0%)\n",
            "  adding: content/imgs_14600.png (deflated 0%)\n",
            "  adding: content/imgs_33200.png (deflated 0%)\n",
            "  adding: content/imgs_7900.png (deflated 0%)\n",
            "  adding: content/imgs_20000.png (deflated 0%)\n",
            "  adding: content/imgs_29200.png (deflated 0%)\n",
            "  adding: content/imgs_10500.png (deflated 0%)\n",
            "  adding: content/imgs_12800.png (deflated 0%)\n",
            "  adding: content/imgs_5900.png (deflated 0%)\n",
            "  adding: content/imgs_8500.png (deflated 0%)\n",
            "  adding: content/imgs_37000.png (deflated 0%)\n",
            "  adding: content/imgs_32100.png (deflated 0%)\n",
            "  adding: content/imgs_3100.png (deflated 0%)\n",
            "  adding: content/imgs_30700.png (deflated 0%)\n",
            "  adding: content/imgs_34900.png (deflated 0%)\n",
            "  adding: content/imgs_30200.png (deflated 0%)\n",
            "  adding: content/imgs_11100.png (deflated 0%)\n",
            "  adding: content/imgs_28800.png (deflated 0%)\n",
            "  adding: content/imgs_39000.png (deflated 0%)\n",
            "  adding: content/imgs_9700.png (deflated 0%)\n",
            "  adding: content/imgs_21900.png (deflated 0%)\n",
            "  adding: content/imgs_6500.png (deflated 0%)\n",
            "  adding: content/imgs_7000.png (deflated 0%)\n",
            "  adding: content/imgs_27500.png (deflated 0%)\n",
            "  adding: content/imgs_30300.png (deflated 0%)\n",
            "  adding: content/imgs_13100.png (deflated 0%)\n",
            "  adding: content/imgs_6700.png (deflated 0%)\n",
            "  adding: content/imgs_21800.png (deflated 0%)\n",
            "  adding: content/imgs_18800.png (deflated 0%)\n",
            "  adding: content/imgs_22800.png (deflated 0%)\n",
            "  adding: content/imgs_37800.png (deflated 0%)\n",
            "  adding: content/imgs_23700.png (deflated 0%)\n",
            "  adding: content/imgs_32700.png (deflated 0%)\n",
            "  adding: content/imgs_13400.png (deflated 0%)\n",
            "  adding: content/imgs_20100.png (deflated 0%)\n",
            "  adding: content/imgs_2100.png (deflated 0%)\n",
            "  adding: content/imgs_37500.png (deflated 0%)\n",
            "  adding: content/imgs_3600.png (deflated 0%)\n",
            "  adding: content/imgs_9100.png (deflated 0%)\n",
            "  adding: content/imgs_22000.png (deflated 0%)\n",
            "  adding: content/imgs_15200.png (deflated 0%)\n",
            "  adding: content/imgs_1700.png (deflated 0%)\n",
            "  adding: content/imgs_19500.png (deflated 0%)\n",
            "  adding: content/imgs_38800.png (deflated 0%)\n",
            "  adding: content/imgs_8100.png (deflated 0%)\n",
            "  adding: content/imgs_21200.png (deflated 0%)\n",
            "  adding: content/imgs_4800.png (deflated 0%)\n",
            "  adding: content/imgs_33800.png (deflated 0%)\n",
            "  adding: content/imgs_37100.png (deflated 0%)\n",
            "  adding: content/imgs_38600.png (deflated 0%)\n",
            "  adding: content/imgs_27800.png (deflated 0%)\n",
            "  adding: content/imgs_300.png (deflated 0%)\n",
            "  adding: content/imgs_36900.png (deflated 0%)\n",
            "  adding: content/imgs_3900.png (deflated 0%)\n",
            "  adding: content/imgs_16300.png (deflated 0%)\n",
            "  adding: content/imgs_8900.png (deflated 0%)\n",
            "  adding: content/imgs_30500.png (deflated 0%)\n",
            "  adding: content/imgs_7800.png (deflated 0%)\n",
            "  adding: content/imgs_29300.png (deflated 0%)\n",
            "  adding: content/imgs_14800.png (deflated 0%)\n",
            "  adding: content/imgs_800.png (deflated 0%)\n",
            "  adding: content/imgs_16000.png (deflated 0%)\n",
            "  adding: content/imgs_1400.png (deflated 0%)\n",
            "  adding: content/imgs_30400.png (deflated 0%)\n",
            "  adding: content/imgs_23100.png (deflated 0%)\n",
            "  adding: content/imgs_13300.png (deflated 0%)\n",
            "  adding: content/imgs_3500.png (deflated 0%)\n",
            "  adding: content/imgs_3200.png (deflated 0%)\n",
            "  adding: content/imgs_31400.png (deflated 0%)\n",
            "  adding: content/imgs_9300.png (deflated 0%)\n",
            "  adding: content/imgs_8700.png (deflated 0%)\n",
            "  adding: content/imgs_24700.png (deflated 0%)\n",
            "  adding: content/imgs_24600.png (deflated 0%)\n",
            "  adding: content/imgs_17900.png (deflated 0%)\n",
            "  adding: content/imgs_12100.png (deflated 0%)\n",
            "  adding: content/imgs_38300.png (deflated 0%)\n",
            "  adding: content/imgs_34700.png (deflated 0%)\n",
            "  adding: content/imgs_11700.png (deflated 0%)\n",
            "  adding: content/imgs_9800.png (deflated 0%)\n",
            "  adding: content/imgs_11200.png (deflated 0%)\n",
            "  adding: content/imgs_22300.png (deflated 0%)\n",
            "  adding: content/imgs_32000.png (deflated 0%)\n",
            "  adding: content/imgs_34500.png (deflated 0%)\n",
            "  adding: content/imgs_35500.png (deflated 0%)\n",
            "  adding: content/imgs_16600.png (deflated 0%)\n",
            "  adding: content/imgs_26200.png (deflated 0%)\n",
            "  adding: content/imgs_34300.png (deflated 0%)\n",
            "  adding: content/imgs_7300.png (deflated 0%)\n",
            "  adding: content/imgs_31000.png (deflated 0%)\n",
            "  adding: content/imgs_27300.png (deflated 0%)\n",
            "  adding: content/imgs_23600.png (deflated 0%)\n",
            "  adding: content/imgs_13700.png (deflated 0%)\n",
            "  adding: content/imgs_30900.png (deflated 0%)\n",
            "  adding: content/imgs_38400.png (deflated 0%)\n",
            "  adding: content/imgs_13500.png (deflated 0%)\n",
            "  adding: content/imgs_19900.png (deflated 0%)\n",
            "  adding: content/imgs_27400.png (deflated 0%)\n",
            "  adding: content/imgs_14200.png (deflated 0%)\n",
            "  adding: content/imgs_25300.png (deflated 0%)\n",
            "  adding: content/imgs_1200.png (deflated 0%)\n",
            "  adding: content/imgs_13600.png (deflated 0%)\n",
            "  adding: content/imgs_39100.png (deflated 0%)\n",
            "  adding: content/imgs_32400.png (deflated 0%)\n",
            "  adding: content/imgs_9500.png (deflated 0%)\n",
            "  adding: content/imgs_4300.png (deflated 0%)\n",
            "  adding: content/imgs_33500.png (deflated 0%)\n",
            "  adding: content/imgs_19100.png (deflated 0%)\n",
            "  adding: content/imgs_500.png (deflated 0%)\n",
            "  adding: content/imgs_30000.png (deflated 0%)\n",
            "  adding: content/imgs_16400.png (deflated 0%)\n",
            "  adding: content/imgs_18000.png (deflated 0%)\n",
            "  adding: content/imgs_5400.png (deflated 0%)\n",
            "  adding: content/imgs_14400.png (deflated 0%)\n",
            "  adding: content/imgs_28100.png (deflated 0%)\n"
          ]
        }
      ]
    },
    {
      "cell_type": "code",
      "source": [
        ""
      ],
      "metadata": {
        "id": "lqGqUYVYweOA"
      },
      "execution_count": null,
      "outputs": []
    }
  ],
  "metadata": {
    "orig_nbformat": 4,
    "language_info": {
      "name": "python",
      "version": "3.9.7",
      "mimetype": "text/x-python",
      "codemirror_mode": {
        "name": "ipython",
        "version": 3
      },
      "pygments_lexer": "ipython3",
      "nbconvert_exporter": "python",
      "file_extension": ".py"
    },
    "kernelspec": {
      "name": "python3",
      "display_name": "Python 3.9.7 64-bit"
    },
    "interpreter": {
      "hash": "aee8b7b246df8f9039afb4144a1f6fd8d2ca17a180786b69acc140d282b71a49"
    },
    "colab": {
      "name": "q2_solution.ipynb",
      "provenance": [],
      "include_colab_link": true
    },
    "accelerator": "GPU",
    "widgets": {
      "application/vnd.jupyter.widget-state+json": {
        "729774ae7d1948ecbcd1df11318efc18": {
          "model_module": "@jupyter-widgets/controls",
          "model_name": "HBoxModel",
          "model_module_version": "1.5.0",
          "state": {
            "_dom_classes": [],
            "_model_module": "@jupyter-widgets/controls",
            "_model_module_version": "1.5.0",
            "_model_name": "HBoxModel",
            "_view_count": null,
            "_view_module": "@jupyter-widgets/controls",
            "_view_module_version": "1.5.0",
            "_view_name": "HBoxView",
            "box_style": "",
            "children": [
              "IPY_MODEL_5743eeac3bd9441d8ad9f340265f2f2c",
              "IPY_MODEL_3581656f8a714a05974f12a5e2b4f5ec",
              "IPY_MODEL_54617fc473e04c0f869ba0da04b60f4d"
            ],
            "layout": "IPY_MODEL_2bb82ea1155a4f42a78dd7f5d3f4511f"
          }
        },
        "5743eeac3bd9441d8ad9f340265f2f2c": {
          "model_module": "@jupyter-widgets/controls",
          "model_name": "HTMLModel",
          "model_module_version": "1.5.0",
          "state": {
            "_dom_classes": [],
            "_model_module": "@jupyter-widgets/controls",
            "_model_module_version": "1.5.0",
            "_model_name": "HTMLModel",
            "_view_count": null,
            "_view_module": "@jupyter-widgets/controls",
            "_view_module_version": "1.5.0",
            "_view_name": "HTMLView",
            "description": "",
            "description_tooltip": null,
            "layout": "IPY_MODEL_be57f6ca5dcd41979b29bf93fc591b51",
            "placeholder": "​",
            "style": "IPY_MODEL_c75101f1acad4868986de89027f87870",
            "value": ""
          }
        },
        "3581656f8a714a05974f12a5e2b4f5ec": {
          "model_module": "@jupyter-widgets/controls",
          "model_name": "FloatProgressModel",
          "model_module_version": "1.5.0",
          "state": {
            "_dom_classes": [],
            "_model_module": "@jupyter-widgets/controls",
            "_model_module_version": "1.5.0",
            "_model_name": "FloatProgressModel",
            "_view_count": null,
            "_view_module": "@jupyter-widgets/controls",
            "_view_module_version": "1.5.0",
            "_view_name": "ProgressView",
            "bar_style": "success",
            "description": "",
            "description_tooltip": null,
            "layout": "IPY_MODEL_726e1556e29242e186baa6ca1275cdda",
            "max": 182040794,
            "min": 0,
            "orientation": "horizontal",
            "style": "IPY_MODEL_35f6c98ad93e4e58aeca530dce655a37",
            "value": 182040794
          }
        },
        "54617fc473e04c0f869ba0da04b60f4d": {
          "model_module": "@jupyter-widgets/controls",
          "model_name": "HTMLModel",
          "model_module_version": "1.5.0",
          "state": {
            "_dom_classes": [],
            "_model_module": "@jupyter-widgets/controls",
            "_model_module_version": "1.5.0",
            "_model_name": "HTMLModel",
            "_view_count": null,
            "_view_module": "@jupyter-widgets/controls",
            "_view_module_version": "1.5.0",
            "_view_name": "HTMLView",
            "description": "",
            "description_tooltip": null,
            "layout": "IPY_MODEL_0ed7d3347cf540859a31a11445f3763a",
            "placeholder": "​",
            "style": "IPY_MODEL_145cad59b884475cb4a7ad7a957c1b80",
            "value": " 182041600/? [00:05&lt;00:00, 45890941.86it/s]"
          }
        },
        "2bb82ea1155a4f42a78dd7f5d3f4511f": {
          "model_module": "@jupyter-widgets/base",
          "model_name": "LayoutModel",
          "model_module_version": "1.2.0",
          "state": {
            "_model_module": "@jupyter-widgets/base",
            "_model_module_version": "1.2.0",
            "_model_name": "LayoutModel",
            "_view_count": null,
            "_view_module": "@jupyter-widgets/base",
            "_view_module_version": "1.2.0",
            "_view_name": "LayoutView",
            "align_content": null,
            "align_items": null,
            "align_self": null,
            "border": null,
            "bottom": null,
            "display": null,
            "flex": null,
            "flex_flow": null,
            "grid_area": null,
            "grid_auto_columns": null,
            "grid_auto_flow": null,
            "grid_auto_rows": null,
            "grid_column": null,
            "grid_gap": null,
            "grid_row": null,
            "grid_template_areas": null,
            "grid_template_columns": null,
            "grid_template_rows": null,
            "height": null,
            "justify_content": null,
            "justify_items": null,
            "left": null,
            "margin": null,
            "max_height": null,
            "max_width": null,
            "min_height": null,
            "min_width": null,
            "object_fit": null,
            "object_position": null,
            "order": null,
            "overflow": null,
            "overflow_x": null,
            "overflow_y": null,
            "padding": null,
            "right": null,
            "top": null,
            "visibility": null,
            "width": null
          }
        },
        "be57f6ca5dcd41979b29bf93fc591b51": {
          "model_module": "@jupyter-widgets/base",
          "model_name": "LayoutModel",
          "model_module_version": "1.2.0",
          "state": {
            "_model_module": "@jupyter-widgets/base",
            "_model_module_version": "1.2.0",
            "_model_name": "LayoutModel",
            "_view_count": null,
            "_view_module": "@jupyter-widgets/base",
            "_view_module_version": "1.2.0",
            "_view_name": "LayoutView",
            "align_content": null,
            "align_items": null,
            "align_self": null,
            "border": null,
            "bottom": null,
            "display": null,
            "flex": null,
            "flex_flow": null,
            "grid_area": null,
            "grid_auto_columns": null,
            "grid_auto_flow": null,
            "grid_auto_rows": null,
            "grid_column": null,
            "grid_gap": null,
            "grid_row": null,
            "grid_template_areas": null,
            "grid_template_columns": null,
            "grid_template_rows": null,
            "height": null,
            "justify_content": null,
            "justify_items": null,
            "left": null,
            "margin": null,
            "max_height": null,
            "max_width": null,
            "min_height": null,
            "min_width": null,
            "object_fit": null,
            "object_position": null,
            "order": null,
            "overflow": null,
            "overflow_x": null,
            "overflow_y": null,
            "padding": null,
            "right": null,
            "top": null,
            "visibility": null,
            "width": null
          }
        },
        "c75101f1acad4868986de89027f87870": {
          "model_module": "@jupyter-widgets/controls",
          "model_name": "DescriptionStyleModel",
          "model_module_version": "1.5.0",
          "state": {
            "_model_module": "@jupyter-widgets/controls",
            "_model_module_version": "1.5.0",
            "_model_name": "DescriptionStyleModel",
            "_view_count": null,
            "_view_module": "@jupyter-widgets/base",
            "_view_module_version": "1.2.0",
            "_view_name": "StyleView",
            "description_width": ""
          }
        },
        "726e1556e29242e186baa6ca1275cdda": {
          "model_module": "@jupyter-widgets/base",
          "model_name": "LayoutModel",
          "model_module_version": "1.2.0",
          "state": {
            "_model_module": "@jupyter-widgets/base",
            "_model_module_version": "1.2.0",
            "_model_name": "LayoutModel",
            "_view_count": null,
            "_view_module": "@jupyter-widgets/base",
            "_view_module_version": "1.2.0",
            "_view_name": "LayoutView",
            "align_content": null,
            "align_items": null,
            "align_self": null,
            "border": null,
            "bottom": null,
            "display": null,
            "flex": null,
            "flex_flow": null,
            "grid_area": null,
            "grid_auto_columns": null,
            "grid_auto_flow": null,
            "grid_auto_rows": null,
            "grid_column": null,
            "grid_gap": null,
            "grid_row": null,
            "grid_template_areas": null,
            "grid_template_columns": null,
            "grid_template_rows": null,
            "height": null,
            "justify_content": null,
            "justify_items": null,
            "left": null,
            "margin": null,
            "max_height": null,
            "max_width": null,
            "min_height": null,
            "min_width": null,
            "object_fit": null,
            "object_position": null,
            "order": null,
            "overflow": null,
            "overflow_x": null,
            "overflow_y": null,
            "padding": null,
            "right": null,
            "top": null,
            "visibility": null,
            "width": null
          }
        },
        "35f6c98ad93e4e58aeca530dce655a37": {
          "model_module": "@jupyter-widgets/controls",
          "model_name": "ProgressStyleModel",
          "model_module_version": "1.5.0",
          "state": {
            "_model_module": "@jupyter-widgets/controls",
            "_model_module_version": "1.5.0",
            "_model_name": "ProgressStyleModel",
            "_view_count": null,
            "_view_module": "@jupyter-widgets/base",
            "_view_module_version": "1.2.0",
            "_view_name": "StyleView",
            "bar_color": null,
            "description_width": ""
          }
        },
        "0ed7d3347cf540859a31a11445f3763a": {
          "model_module": "@jupyter-widgets/base",
          "model_name": "LayoutModel",
          "model_module_version": "1.2.0",
          "state": {
            "_model_module": "@jupyter-widgets/base",
            "_model_module_version": "1.2.0",
            "_model_name": "LayoutModel",
            "_view_count": null,
            "_view_module": "@jupyter-widgets/base",
            "_view_module_version": "1.2.0",
            "_view_name": "LayoutView",
            "align_content": null,
            "align_items": null,
            "align_self": null,
            "border": null,
            "bottom": null,
            "display": null,
            "flex": null,
            "flex_flow": null,
            "grid_area": null,
            "grid_auto_columns": null,
            "grid_auto_flow": null,
            "grid_auto_rows": null,
            "grid_column": null,
            "grid_gap": null,
            "grid_row": null,
            "grid_template_areas": null,
            "grid_template_columns": null,
            "grid_template_rows": null,
            "height": null,
            "justify_content": null,
            "justify_items": null,
            "left": null,
            "margin": null,
            "max_height": null,
            "max_width": null,
            "min_height": null,
            "min_width": null,
            "object_fit": null,
            "object_position": null,
            "order": null,
            "overflow": null,
            "overflow_x": null,
            "overflow_y": null,
            "padding": null,
            "right": null,
            "top": null,
            "visibility": null,
            "width": null
          }
        },
        "145cad59b884475cb4a7ad7a957c1b80": {
          "model_module": "@jupyter-widgets/controls",
          "model_name": "DescriptionStyleModel",
          "model_module_version": "1.5.0",
          "state": {
            "_model_module": "@jupyter-widgets/controls",
            "_model_module_version": "1.5.0",
            "_model_name": "DescriptionStyleModel",
            "_view_count": null,
            "_view_module": "@jupyter-widgets/base",
            "_view_module_version": "1.2.0",
            "_view_name": "StyleView",
            "description_width": ""
          }
        },
        "6d0d26ccdef449ad8a001de53f456cb9": {
          "model_module": "@jupyter-widgets/controls",
          "model_name": "HBoxModel",
          "model_module_version": "1.5.0",
          "state": {
            "_dom_classes": [],
            "_model_module": "@jupyter-widgets/controls",
            "_model_module_version": "1.5.0",
            "_model_name": "HBoxModel",
            "_view_count": null,
            "_view_module": "@jupyter-widgets/controls",
            "_view_module_version": "1.5.0",
            "_view_name": "HBoxView",
            "box_style": "",
            "children": [
              "IPY_MODEL_4408ed594e5e4727941d36b2358941bf",
              "IPY_MODEL_3e472636960646eab709c743ce0a0a6f",
              "IPY_MODEL_f9ac5fa5acf044039f662b23fca2f680"
            ],
            "layout": "IPY_MODEL_843352c98c5b42efba7834d6e0966e6f"
          }
        },
        "4408ed594e5e4727941d36b2358941bf": {
          "model_module": "@jupyter-widgets/controls",
          "model_name": "HTMLModel",
          "model_module_version": "1.5.0",
          "state": {
            "_dom_classes": [],
            "_model_module": "@jupyter-widgets/controls",
            "_model_module_version": "1.5.0",
            "_model_name": "HTMLModel",
            "_view_count": null,
            "_view_module": "@jupyter-widgets/controls",
            "_view_module_version": "1.5.0",
            "_view_name": "HTMLView",
            "description": "",
            "description_tooltip": null,
            "layout": "IPY_MODEL_f4bb36dbd5734c9cb28a6ee43a637212",
            "placeholder": "​",
            "style": "IPY_MODEL_56001090a01f4d57bdbf44ba4e0b35ee",
            "value": ""
          }
        },
        "3e472636960646eab709c743ce0a0a6f": {
          "model_module": "@jupyter-widgets/controls",
          "model_name": "FloatProgressModel",
          "model_module_version": "1.5.0",
          "state": {
            "_dom_classes": [],
            "_model_module": "@jupyter-widgets/controls",
            "_model_module_version": "1.5.0",
            "_model_name": "FloatProgressModel",
            "_view_count": null,
            "_view_module": "@jupyter-widgets/controls",
            "_view_module_version": "1.5.0",
            "_view_name": "ProgressView",
            "bar_style": "success",
            "description": "",
            "description_tooltip": null,
            "layout": "IPY_MODEL_50563e9eef264b52b2153c6193ca5d7a",
            "max": 64275384,
            "min": 0,
            "orientation": "horizontal",
            "style": "IPY_MODEL_bf11f3f947d1459cb12c7fb09f0db785",
            "value": 64275384
          }
        },
        "f9ac5fa5acf044039f662b23fca2f680": {
          "model_module": "@jupyter-widgets/controls",
          "model_name": "HTMLModel",
          "model_module_version": "1.5.0",
          "state": {
            "_dom_classes": [],
            "_model_module": "@jupyter-widgets/controls",
            "_model_module_version": "1.5.0",
            "_model_name": "HTMLModel",
            "_view_count": null,
            "_view_module": "@jupyter-widgets/controls",
            "_view_module_version": "1.5.0",
            "_view_name": "HTMLView",
            "description": "",
            "description_tooltip": null,
            "layout": "IPY_MODEL_657711ed4fc240e1a567e9113947a387",
            "placeholder": "​",
            "style": "IPY_MODEL_a622a1eea2ee4fc28e229d55ffd8f288",
            "value": " 64275456/? [00:02&lt;00:00, 51914511.58it/s]"
          }
        },
        "843352c98c5b42efba7834d6e0966e6f": {
          "model_module": "@jupyter-widgets/base",
          "model_name": "LayoutModel",
          "model_module_version": "1.2.0",
          "state": {
            "_model_module": "@jupyter-widgets/base",
            "_model_module_version": "1.2.0",
            "_model_name": "LayoutModel",
            "_view_count": null,
            "_view_module": "@jupyter-widgets/base",
            "_view_module_version": "1.2.0",
            "_view_name": "LayoutView",
            "align_content": null,
            "align_items": null,
            "align_self": null,
            "border": null,
            "bottom": null,
            "display": null,
            "flex": null,
            "flex_flow": null,
            "grid_area": null,
            "grid_auto_columns": null,
            "grid_auto_flow": null,
            "grid_auto_rows": null,
            "grid_column": null,
            "grid_gap": null,
            "grid_row": null,
            "grid_template_areas": null,
            "grid_template_columns": null,
            "grid_template_rows": null,
            "height": null,
            "justify_content": null,
            "justify_items": null,
            "left": null,
            "margin": null,
            "max_height": null,
            "max_width": null,
            "min_height": null,
            "min_width": null,
            "object_fit": null,
            "object_position": null,
            "order": null,
            "overflow": null,
            "overflow_x": null,
            "overflow_y": null,
            "padding": null,
            "right": null,
            "top": null,
            "visibility": null,
            "width": null
          }
        },
        "f4bb36dbd5734c9cb28a6ee43a637212": {
          "model_module": "@jupyter-widgets/base",
          "model_name": "LayoutModel",
          "model_module_version": "1.2.0",
          "state": {
            "_model_module": "@jupyter-widgets/base",
            "_model_module_version": "1.2.0",
            "_model_name": "LayoutModel",
            "_view_count": null,
            "_view_module": "@jupyter-widgets/base",
            "_view_module_version": "1.2.0",
            "_view_name": "LayoutView",
            "align_content": null,
            "align_items": null,
            "align_self": null,
            "border": null,
            "bottom": null,
            "display": null,
            "flex": null,
            "flex_flow": null,
            "grid_area": null,
            "grid_auto_columns": null,
            "grid_auto_flow": null,
            "grid_auto_rows": null,
            "grid_column": null,
            "grid_gap": null,
            "grid_row": null,
            "grid_template_areas": null,
            "grid_template_columns": null,
            "grid_template_rows": null,
            "height": null,
            "justify_content": null,
            "justify_items": null,
            "left": null,
            "margin": null,
            "max_height": null,
            "max_width": null,
            "min_height": null,
            "min_width": null,
            "object_fit": null,
            "object_position": null,
            "order": null,
            "overflow": null,
            "overflow_x": null,
            "overflow_y": null,
            "padding": null,
            "right": null,
            "top": null,
            "visibility": null,
            "width": null
          }
        },
        "56001090a01f4d57bdbf44ba4e0b35ee": {
          "model_module": "@jupyter-widgets/controls",
          "model_name": "DescriptionStyleModel",
          "model_module_version": "1.5.0",
          "state": {
            "_model_module": "@jupyter-widgets/controls",
            "_model_module_version": "1.5.0",
            "_model_name": "DescriptionStyleModel",
            "_view_count": null,
            "_view_module": "@jupyter-widgets/base",
            "_view_module_version": "1.2.0",
            "_view_name": "StyleView",
            "description_width": ""
          }
        },
        "50563e9eef264b52b2153c6193ca5d7a": {
          "model_module": "@jupyter-widgets/base",
          "model_name": "LayoutModel",
          "model_module_version": "1.2.0",
          "state": {
            "_model_module": "@jupyter-widgets/base",
            "_model_module_version": "1.2.0",
            "_model_name": "LayoutModel",
            "_view_count": null,
            "_view_module": "@jupyter-widgets/base",
            "_view_module_version": "1.2.0",
            "_view_name": "LayoutView",
            "align_content": null,
            "align_items": null,
            "align_self": null,
            "border": null,
            "bottom": null,
            "display": null,
            "flex": null,
            "flex_flow": null,
            "grid_area": null,
            "grid_auto_columns": null,
            "grid_auto_flow": null,
            "grid_auto_rows": null,
            "grid_column": null,
            "grid_gap": null,
            "grid_row": null,
            "grid_template_areas": null,
            "grid_template_columns": null,
            "grid_template_rows": null,
            "height": null,
            "justify_content": null,
            "justify_items": null,
            "left": null,
            "margin": null,
            "max_height": null,
            "max_width": null,
            "min_height": null,
            "min_width": null,
            "object_fit": null,
            "object_position": null,
            "order": null,
            "overflow": null,
            "overflow_x": null,
            "overflow_y": null,
            "padding": null,
            "right": null,
            "top": null,
            "visibility": null,
            "width": null
          }
        },
        "bf11f3f947d1459cb12c7fb09f0db785": {
          "model_module": "@jupyter-widgets/controls",
          "model_name": "ProgressStyleModel",
          "model_module_version": "1.5.0",
          "state": {
            "_model_module": "@jupyter-widgets/controls",
            "_model_module_version": "1.5.0",
            "_model_name": "ProgressStyleModel",
            "_view_count": null,
            "_view_module": "@jupyter-widgets/base",
            "_view_module_version": "1.2.0",
            "_view_name": "StyleView",
            "bar_color": null,
            "description_width": ""
          }
        },
        "657711ed4fc240e1a567e9113947a387": {
          "model_module": "@jupyter-widgets/base",
          "model_name": "LayoutModel",
          "model_module_version": "1.2.0",
          "state": {
            "_model_module": "@jupyter-widgets/base",
            "_model_module_version": "1.2.0",
            "_model_name": "LayoutModel",
            "_view_count": null,
            "_view_module": "@jupyter-widgets/base",
            "_view_module_version": "1.2.0",
            "_view_name": "LayoutView",
            "align_content": null,
            "align_items": null,
            "align_self": null,
            "border": null,
            "bottom": null,
            "display": null,
            "flex": null,
            "flex_flow": null,
            "grid_area": null,
            "grid_auto_columns": null,
            "grid_auto_flow": null,
            "grid_auto_rows": null,
            "grid_column": null,
            "grid_gap": null,
            "grid_row": null,
            "grid_template_areas": null,
            "grid_template_columns": null,
            "grid_template_rows": null,
            "height": null,
            "justify_content": null,
            "justify_items": null,
            "left": null,
            "margin": null,
            "max_height": null,
            "max_width": null,
            "min_height": null,
            "min_width": null,
            "object_fit": null,
            "object_position": null,
            "order": null,
            "overflow": null,
            "overflow_x": null,
            "overflow_y": null,
            "padding": null,
            "right": null,
            "top": null,
            "visibility": null,
            "width": null
          }
        },
        "a622a1eea2ee4fc28e229d55ffd8f288": {
          "model_module": "@jupyter-widgets/controls",
          "model_name": "DescriptionStyleModel",
          "model_module_version": "1.5.0",
          "state": {
            "_model_module": "@jupyter-widgets/controls",
            "_model_module_version": "1.5.0",
            "_model_name": "DescriptionStyleModel",
            "_view_count": null,
            "_view_module": "@jupyter-widgets/base",
            "_view_module_version": "1.2.0",
            "_view_name": "StyleView",
            "description_width": ""
          }
        }
      }
    }
  },
  "nbformat": 4,
  "nbformat_minor": 0
}